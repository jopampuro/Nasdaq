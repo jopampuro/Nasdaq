{
 "cells": [
  {
   "cell_type": "code",
   "execution_count": 4,
   "metadata": {},
   "outputs": [],
   "source": [
    "import pandas as pd\n",
    "import numpy as np\n",
    "import matplotlib as plot\n",
    "import matplotlib.pyplot as plt\n",
    "import requests\n",
    "\n",
    "import re"
   ]
  },
  {
   "cell_type": "code",
   "execution_count": null,
   "metadata": {},
   "outputs": [],
   "source": []
  },
  {
   "cell_type": "code",
   "execution_count": 7,
   "metadata": {},
   "outputs": [
    {
     "data": {
      "text/html": [
       "<div>\n",
       "<style scoped>\n",
       "    .dataframe tbody tr th:only-of-type {\n",
       "        vertical-align: middle;\n",
       "    }\n",
       "\n",
       "    .dataframe tbody tr th {\n",
       "        vertical-align: top;\n",
       "    }\n",
       "\n",
       "    .dataframe thead th {\n",
       "        text-align: right;\n",
       "    }\n",
       "</style>\n",
       "<table border=\"1\" class=\"dataframe\">\n",
       "  <thead>\n",
       "    <tr style=\"text-align: right;\">\n",
       "      <th></th>\n",
       "      <th>symbol</th>\n",
       "      <th>security_name</th>\n",
       "      <th>listing_exchange</th>\n",
       "      <th>etf</th>\n",
       "      <th>financial_status</th>\n",
       "      <th>zip</th>\n",
       "      <th>sector</th>\n",
       "      <th>fullTimeEmployees</th>\n",
       "      <th>city</th>\n",
       "      <th>state</th>\n",
       "      <th>...</th>\n",
       "      <th>enterpriseToRevenue</th>\n",
       "      <th>forwardEps</th>\n",
       "      <th>revenueQuarterlyGrowth</th>\n",
       "      <th>bookValue</th>\n",
       "      <th>sharesShort</th>\n",
       "      <th>shortRatio</th>\n",
       "      <th>floatShares</th>\n",
       "      <th>enterpriseValue</th>\n",
       "      <th>regularMarketPrice</th>\n",
       "      <th>latest_dividend</th>\n",
       "    </tr>\n",
       "  </thead>\n",
       "  <tbody>\n",
       "    <tr>\n",
       "      <th>0</th>\n",
       "      <td>A</td>\n",
       "      <td>Agilent Technologies, Inc. Common Stock</td>\n",
       "      <td>N</td>\n",
       "      <td>N</td>\n",
       "      <td>NaN</td>\n",
       "      <td>95051</td>\n",
       "      <td>Healthcare</td>\n",
       "      <td>16300.0</td>\n",
       "      <td>Santa Clara</td>\n",
       "      <td>CA</td>\n",
       "      <td>...</td>\n",
       "      <td>4.987</td>\n",
       "      <td>3.57</td>\n",
       "      <td>NaN</td>\n",
       "      <td>15.636</td>\n",
       "      <td>5258241.0</td>\n",
       "      <td>2.55</td>\n",
       "      <td>3.085180e+08</td>\n",
       "      <td>2.611031e+10</td>\n",
       "      <td>86.30</td>\n",
       "      <td>0.18</td>\n",
       "    </tr>\n",
       "    <tr>\n",
       "      <th>1</th>\n",
       "      <td>AAL</td>\n",
       "      <td>American Airlines Group, Inc. - Common Stock</td>\n",
       "      <td>Q</td>\n",
       "      <td>N</td>\n",
       "      <td>N</td>\n",
       "      <td>76155</td>\n",
       "      <td>Industrials</td>\n",
       "      <td>131500.0</td>\n",
       "      <td>Fort Worth</td>\n",
       "      <td>TX</td>\n",
       "      <td>...</td>\n",
       "      <td>0.796</td>\n",
       "      <td>-0.04</td>\n",
       "      <td>NaN</td>\n",
       "      <td>-6.233</td>\n",
       "      <td>119303588.0</td>\n",
       "      <td>1.49</td>\n",
       "      <td>4.167541e+08</td>\n",
       "      <td>3.478515e+10</td>\n",
       "      <td>12.43</td>\n",
       "      <td>0.10</td>\n",
       "    </tr>\n",
       "    <tr>\n",
       "      <th>2</th>\n",
       "      <td>AAP</td>\n",
       "      <td>Advance Auto Parts Inc Advance Auto Parts Inc W/I</td>\n",
       "      <td>N</td>\n",
       "      <td>N</td>\n",
       "      <td>NaN</td>\n",
       "      <td>27604</td>\n",
       "      <td>Consumer Cyclical</td>\n",
       "      <td>39000.0</td>\n",
       "      <td>Raleigh</td>\n",
       "      <td>NC</td>\n",
       "      <td>...</td>\n",
       "      <td>1.175</td>\n",
       "      <td>8.54</td>\n",
       "      <td>NaN</td>\n",
       "      <td>51.606</td>\n",
       "      <td>1691705.0</td>\n",
       "      <td>1.57</td>\n",
       "      <td>6.857524e+07</td>\n",
       "      <td>1.141075e+10</td>\n",
       "      <td>137.50</td>\n",
       "      <td>0.25</td>\n",
       "    </tr>\n",
       "    <tr>\n",
       "      <th>3</th>\n",
       "      <td>AAPL</td>\n",
       "      <td>Apple Inc. - Common Stock</td>\n",
       "      <td>Q</td>\n",
       "      <td>N</td>\n",
       "      <td>N</td>\n",
       "      <td>95014</td>\n",
       "      <td>Technology</td>\n",
       "      <td>137000.0</td>\n",
       "      <td>Cupertino</td>\n",
       "      <td>CA</td>\n",
       "      <td>...</td>\n",
       "      <td>5.108</td>\n",
       "      <td>14.73</td>\n",
       "      <td>NaN</td>\n",
       "      <td>18.137</td>\n",
       "      <td>33592445.0</td>\n",
       "      <td>0.89</td>\n",
       "      <td>4.329827e+09</td>\n",
       "      <td>1.368917e+12</td>\n",
       "      <td>316.14</td>\n",
       "      <td>0.82</td>\n",
       "    </tr>\n",
       "    <tr>\n",
       "      <th>4</th>\n",
       "      <td>AAT</td>\n",
       "      <td>American Assets Trust, Inc. Common Stock</td>\n",
       "      <td>N</td>\n",
       "      <td>N</td>\n",
       "      <td>NaN</td>\n",
       "      <td>92130</td>\n",
       "      <td>Real Estate</td>\n",
       "      <td>205.0</td>\n",
       "      <td>San Diego</td>\n",
       "      <td>CA</td>\n",
       "      <td>...</td>\n",
       "      <td>7.849</td>\n",
       "      <td>1.35</td>\n",
       "      <td>NaN</td>\n",
       "      <td>21.713</td>\n",
       "      <td>706006.0</td>\n",
       "      <td>1.70</td>\n",
       "      <td>5.308802e+07</td>\n",
       "      <td>2.936203e+09</td>\n",
       "      <td>28.01</td>\n",
       "      <td>0.30</td>\n",
       "    </tr>\n",
       "  </tbody>\n",
       "</table>\n",
       "<p>5 rows × 40 columns</p>\n",
       "</div>"
      ],
      "text/plain": [
       "  symbol                                      security_name listing_exchange  \\\n",
       "0      A            Agilent Technologies, Inc. Common Stock                N   \n",
       "1    AAL       American Airlines Group, Inc. - Common Stock                Q   \n",
       "2    AAP  Advance Auto Parts Inc Advance Auto Parts Inc W/I                N   \n",
       "3   AAPL                          Apple Inc. - Common Stock                Q   \n",
       "4    AAT           American Assets Trust, Inc. Common Stock                N   \n",
       "\n",
       "  etf financial_status    zip             sector  fullTimeEmployees  \\\n",
       "0   N              NaN  95051         Healthcare            16300.0   \n",
       "1   N                N  76155        Industrials           131500.0   \n",
       "2   N              NaN  27604  Consumer Cyclical            39000.0   \n",
       "3   N                N  95014         Technology           137000.0   \n",
       "4   N              NaN  92130        Real Estate              205.0   \n",
       "\n",
       "          city state  ... enterpriseToRevenue forwardEps  \\\n",
       "0  Santa Clara    CA  ...               4.987       3.57   \n",
       "1   Fort Worth    TX  ...               0.796      -0.04   \n",
       "2      Raleigh    NC  ...               1.175       8.54   \n",
       "3    Cupertino    CA  ...               5.108      14.73   \n",
       "4    San Diego    CA  ...               7.849       1.35   \n",
       "\n",
       "   revenueQuarterlyGrowth  bookValue  sharesShort  shortRatio   floatShares  \\\n",
       "0                     NaN     15.636    5258241.0        2.55  3.085180e+08   \n",
       "1                     NaN     -6.233  119303588.0        1.49  4.167541e+08   \n",
       "2                     NaN     51.606    1691705.0        1.57  6.857524e+07   \n",
       "3                     NaN     18.137   33592445.0        0.89  4.329827e+09   \n",
       "4                     NaN     21.713     706006.0        1.70  5.308802e+07   \n",
       "\n",
       "   enterpriseValue  regularMarketPrice  latest_dividend  \n",
       "0     2.611031e+10               86.30             0.18  \n",
       "1     3.478515e+10               12.43             0.10  \n",
       "2     1.141075e+10              137.50             0.25  \n",
       "3     1.368917e+12              316.14             0.82  \n",
       "4     2.936203e+09               28.01             0.30  \n",
       "\n",
       "[5 rows x 40 columns]"
      ]
     },
     "execution_count": 7,
     "metadata": {},
     "output_type": "execute_result"
    }
   ],
   "source": [
    "\n",
    "df = pd.read_csv(\"../Input/stockdataset.csv\", encoding = \"latin-1\")\n",
    "df.head()"
   ]
  },
  {
   "cell_type": "code",
   "execution_count": 8,
   "metadata": {},
   "outputs": [
    {
     "data": {
      "text/plain": [
       "1939"
      ]
     },
     "execution_count": 8,
     "metadata": {},
     "output_type": "execute_result"
    }
   ],
   "source": [
    "len(df)"
   ]
  },
  {
   "cell_type": "code",
   "execution_count": 9,
   "metadata": {},
   "outputs": [
    {
     "data": {
      "text/plain": [
       "fullTimeEmployees          569\n",
       "forwardEps                 586\n",
       "forwardPE                  588\n",
       "financial_status          1305\n",
       "revenueQuarterlyGrowth    1939\n",
       "dtype: int64"
      ]
     },
     "execution_count": 9,
     "metadata": {},
     "output_type": "execute_result"
    }
   ],
   "source": [
    "df.isnull().sum().sort_values().tail()"
   ]
  },
  {
   "cell_type": "code",
   "execution_count": 10,
   "metadata": {},
   "outputs": [
    {
     "data": {
      "text/html": [
       "<div>\n",
       "<style scoped>\n",
       "    .dataframe tbody tr th:only-of-type {\n",
       "        vertical-align: middle;\n",
       "    }\n",
       "\n",
       "    .dataframe tbody tr th {\n",
       "        vertical-align: top;\n",
       "    }\n",
       "\n",
       "    .dataframe thead th {\n",
       "        text-align: right;\n",
       "    }\n",
       "</style>\n",
       "<table border=\"1\" class=\"dataframe\">\n",
       "  <thead>\n",
       "    <tr style=\"text-align: right;\">\n",
       "      <th></th>\n",
       "      <th>symbol</th>\n",
       "      <th>security_name</th>\n",
       "      <th>listing_exchange</th>\n",
       "      <th>etf</th>\n",
       "      <th>financial_status</th>\n",
       "      <th>zip</th>\n",
       "      <th>sector</th>\n",
       "      <th>fullTimeEmployees</th>\n",
       "      <th>city</th>\n",
       "      <th>state</th>\n",
       "      <th>...</th>\n",
       "      <th>enterpriseToRevenue</th>\n",
       "      <th>forwardEps</th>\n",
       "      <th>revenueQuarterlyGrowth</th>\n",
       "      <th>bookValue</th>\n",
       "      <th>sharesShort</th>\n",
       "      <th>shortRatio</th>\n",
       "      <th>floatShares</th>\n",
       "      <th>enterpriseValue</th>\n",
       "      <th>regularMarketPrice</th>\n",
       "      <th>latest_dividend</th>\n",
       "    </tr>\n",
       "  </thead>\n",
       "  <tbody>\n",
       "    <tr>\n",
       "      <th>0</th>\n",
       "      <td>A</td>\n",
       "      <td>Agilent Technologies, Inc. Common Stock</td>\n",
       "      <td>N</td>\n",
       "      <td>N</td>\n",
       "      <td>NaN</td>\n",
       "      <td>95051</td>\n",
       "      <td>Healthcare</td>\n",
       "      <td>16300.0</td>\n",
       "      <td>Santa Clara</td>\n",
       "      <td>CA</td>\n",
       "      <td>...</td>\n",
       "      <td>4.987</td>\n",
       "      <td>3.57</td>\n",
       "      <td>NaN</td>\n",
       "      <td>15.636</td>\n",
       "      <td>5258241.0</td>\n",
       "      <td>2.55</td>\n",
       "      <td>3.085180e+08</td>\n",
       "      <td>2.611031e+10</td>\n",
       "      <td>86.30</td>\n",
       "      <td>0.18</td>\n",
       "    </tr>\n",
       "    <tr>\n",
       "      <th>1</th>\n",
       "      <td>AAL</td>\n",
       "      <td>American Airlines Group, Inc. - Common Stock</td>\n",
       "      <td>Q</td>\n",
       "      <td>N</td>\n",
       "      <td>N</td>\n",
       "      <td>76155</td>\n",
       "      <td>Industrials</td>\n",
       "      <td>131500.0</td>\n",
       "      <td>Fort Worth</td>\n",
       "      <td>TX</td>\n",
       "      <td>...</td>\n",
       "      <td>0.796</td>\n",
       "      <td>-0.04</td>\n",
       "      <td>NaN</td>\n",
       "      <td>-6.233</td>\n",
       "      <td>119303588.0</td>\n",
       "      <td>1.49</td>\n",
       "      <td>4.167541e+08</td>\n",
       "      <td>3.478515e+10</td>\n",
       "      <td>12.43</td>\n",
       "      <td>0.10</td>\n",
       "    </tr>\n",
       "    <tr>\n",
       "      <th>2</th>\n",
       "      <td>AAP</td>\n",
       "      <td>Advance Auto Parts Inc Advance Auto Parts Inc W/I</td>\n",
       "      <td>N</td>\n",
       "      <td>N</td>\n",
       "      <td>NaN</td>\n",
       "      <td>27604</td>\n",
       "      <td>Consumer Cyclical</td>\n",
       "      <td>39000.0</td>\n",
       "      <td>Raleigh</td>\n",
       "      <td>NC</td>\n",
       "      <td>...</td>\n",
       "      <td>1.175</td>\n",
       "      <td>8.54</td>\n",
       "      <td>NaN</td>\n",
       "      <td>51.606</td>\n",
       "      <td>1691705.0</td>\n",
       "      <td>1.57</td>\n",
       "      <td>6.857524e+07</td>\n",
       "      <td>1.141075e+10</td>\n",
       "      <td>137.50</td>\n",
       "      <td>0.25</td>\n",
       "    </tr>\n",
       "    <tr>\n",
       "      <th>3</th>\n",
       "      <td>AAPL</td>\n",
       "      <td>Apple Inc. - Common Stock</td>\n",
       "      <td>Q</td>\n",
       "      <td>N</td>\n",
       "      <td>N</td>\n",
       "      <td>95014</td>\n",
       "      <td>Technology</td>\n",
       "      <td>137000.0</td>\n",
       "      <td>Cupertino</td>\n",
       "      <td>CA</td>\n",
       "      <td>...</td>\n",
       "      <td>5.108</td>\n",
       "      <td>14.73</td>\n",
       "      <td>NaN</td>\n",
       "      <td>18.137</td>\n",
       "      <td>33592445.0</td>\n",
       "      <td>0.89</td>\n",
       "      <td>4.329827e+09</td>\n",
       "      <td>1.368917e+12</td>\n",
       "      <td>316.14</td>\n",
       "      <td>0.82</td>\n",
       "    </tr>\n",
       "    <tr>\n",
       "      <th>4</th>\n",
       "      <td>AAT</td>\n",
       "      <td>American Assets Trust, Inc. Common Stock</td>\n",
       "      <td>N</td>\n",
       "      <td>N</td>\n",
       "      <td>NaN</td>\n",
       "      <td>92130</td>\n",
       "      <td>Real Estate</td>\n",
       "      <td>205.0</td>\n",
       "      <td>San Diego</td>\n",
       "      <td>CA</td>\n",
       "      <td>...</td>\n",
       "      <td>7.849</td>\n",
       "      <td>1.35</td>\n",
       "      <td>NaN</td>\n",
       "      <td>21.713</td>\n",
       "      <td>706006.0</td>\n",
       "      <td>1.70</td>\n",
       "      <td>5.308802e+07</td>\n",
       "      <td>2.936203e+09</td>\n",
       "      <td>28.01</td>\n",
       "      <td>0.30</td>\n",
       "    </tr>\n",
       "  </tbody>\n",
       "</table>\n",
       "<p>5 rows × 40 columns</p>\n",
       "</div>"
      ],
      "text/plain": [
       "  symbol                                      security_name listing_exchange  \\\n",
       "0      A            Agilent Technologies, Inc. Common Stock                N   \n",
       "1    AAL       American Airlines Group, Inc. - Common Stock                Q   \n",
       "2    AAP  Advance Auto Parts Inc Advance Auto Parts Inc W/I                N   \n",
       "3   AAPL                          Apple Inc. - Common Stock                Q   \n",
       "4    AAT           American Assets Trust, Inc. Common Stock                N   \n",
       "\n",
       "  etf financial_status    zip             sector  fullTimeEmployees  \\\n",
       "0   N              NaN  95051         Healthcare            16300.0   \n",
       "1   N                N  76155        Industrials           131500.0   \n",
       "2   N              NaN  27604  Consumer Cyclical            39000.0   \n",
       "3   N                N  95014         Technology           137000.0   \n",
       "4   N              NaN  92130        Real Estate              205.0   \n",
       "\n",
       "          city state  ... enterpriseToRevenue forwardEps  \\\n",
       "0  Santa Clara    CA  ...               4.987       3.57   \n",
       "1   Fort Worth    TX  ...               0.796      -0.04   \n",
       "2      Raleigh    NC  ...               1.175       8.54   \n",
       "3    Cupertino    CA  ...               5.108      14.73   \n",
       "4    San Diego    CA  ...               7.849       1.35   \n",
       "\n",
       "   revenueQuarterlyGrowth  bookValue  sharesShort  shortRatio   floatShares  \\\n",
       "0                     NaN     15.636    5258241.0        2.55  3.085180e+08   \n",
       "1                     NaN     -6.233  119303588.0        1.49  4.167541e+08   \n",
       "2                     NaN     51.606    1691705.0        1.57  6.857524e+07   \n",
       "3                     NaN     18.137   33592445.0        0.89  4.329827e+09   \n",
       "4                     NaN     21.713     706006.0        1.70  5.308802e+07   \n",
       "\n",
       "   enterpriseValue  regularMarketPrice  latest_dividend  \n",
       "0     2.611031e+10               86.30             0.18  \n",
       "1     3.478515e+10               12.43             0.10  \n",
       "2     1.141075e+10              137.50             0.25  \n",
       "3     1.368917e+12              316.14             0.82  \n",
       "4     2.936203e+09               28.01             0.30  \n",
       "\n",
       "[5 rows x 40 columns]"
      ]
     },
     "metadata": {},
     "output_type": "display_data"
    },
    {
     "data": {
      "text/plain": [
       "(1939, 40)"
      ]
     },
     "metadata": {},
     "output_type": "display_data"
    }
   ],
   "source": [
    "display(df.head(),df.shape)"
   ]
  },
  {
   "cell_type": "code",
   "execution_count": 11,
   "metadata": {
    "scrolled": true
   },
   "outputs": [
    {
     "data": {
      "text/html": [
       "<div>\n",
       "<style scoped>\n",
       "    .dataframe tbody tr th:only-of-type {\n",
       "        vertical-align: middle;\n",
       "    }\n",
       "\n",
       "    .dataframe tbody tr th {\n",
       "        vertical-align: top;\n",
       "    }\n",
       "\n",
       "    .dataframe thead th {\n",
       "        text-align: right;\n",
       "    }\n",
       "</style>\n",
       "<table border=\"1\" class=\"dataframe\">\n",
       "  <thead>\n",
       "    <tr style=\"text-align: right;\">\n",
       "      <th></th>\n",
       "      <th>symbol</th>\n",
       "      <th>security_name</th>\n",
       "      <th>listing_exchange</th>\n",
       "      <th>etf</th>\n",
       "      <th>financial_status</th>\n",
       "      <th>zip</th>\n",
       "      <th>sector</th>\n",
       "      <th>fullTimeEmployees</th>\n",
       "      <th>city</th>\n",
       "      <th>state</th>\n",
       "      <th>...</th>\n",
       "      <th>forwardEps</th>\n",
       "      <th>revenueQuarterlyGrowth</th>\n",
       "      <th>bookValue</th>\n",
       "      <th>sharesShort</th>\n",
       "      <th>shortRatio</th>\n",
       "      <th>floatShares</th>\n",
       "      <th>enterpriseValue</th>\n",
       "      <th>regularMarketPrice</th>\n",
       "      <th>latest_dividend</th>\n",
       "      <th>Close</th>\n",
       "    </tr>\n",
       "  </thead>\n",
       "  <tbody>\n",
       "    <tr>\n",
       "      <th>0</th>\n",
       "      <td>A</td>\n",
       "      <td>Agilent Technologies, Inc. Common Stock</td>\n",
       "      <td>N</td>\n",
       "      <td>N</td>\n",
       "      <td>NaN</td>\n",
       "      <td>95051</td>\n",
       "      <td>Healthcare</td>\n",
       "      <td>16300.0</td>\n",
       "      <td>Santa Clara</td>\n",
       "      <td>CA</td>\n",
       "      <td>...</td>\n",
       "      <td>3.57</td>\n",
       "      <td>NaN</td>\n",
       "      <td>15.636</td>\n",
       "      <td>5258241.0</td>\n",
       "      <td>2.55</td>\n",
       "      <td>3.085180e+08</td>\n",
       "      <td>2.611031e+10</td>\n",
       "      <td>86.30</td>\n",
       "      <td>0.18</td>\n",
       "      <td>85.785</td>\n",
       "    </tr>\n",
       "    <tr>\n",
       "      <th>1</th>\n",
       "      <td>AAL</td>\n",
       "      <td>American Airlines Group, Inc. - Common Stock</td>\n",
       "      <td>Q</td>\n",
       "      <td>N</td>\n",
       "      <td>N</td>\n",
       "      <td>76155</td>\n",
       "      <td>Industrials</td>\n",
       "      <td>131500.0</td>\n",
       "      <td>Fort Worth</td>\n",
       "      <td>TX</td>\n",
       "      <td>...</td>\n",
       "      <td>-0.04</td>\n",
       "      <td>NaN</td>\n",
       "      <td>-6.233</td>\n",
       "      <td>119303588.0</td>\n",
       "      <td>1.49</td>\n",
       "      <td>4.167541e+08</td>\n",
       "      <td>3.478515e+10</td>\n",
       "      <td>12.43</td>\n",
       "      <td>0.10</td>\n",
       "      <td>11.505</td>\n",
       "    </tr>\n",
       "    <tr>\n",
       "      <th>2</th>\n",
       "      <td>AAP</td>\n",
       "      <td>Advance Auto Parts Inc Advance Auto Parts Inc W/I</td>\n",
       "      <td>N</td>\n",
       "      <td>N</td>\n",
       "      <td>NaN</td>\n",
       "      <td>27604</td>\n",
       "      <td>Consumer Cyclical</td>\n",
       "      <td>39000.0</td>\n",
       "      <td>Raleigh</td>\n",
       "      <td>NC</td>\n",
       "      <td>...</td>\n",
       "      <td>8.54</td>\n",
       "      <td>NaN</td>\n",
       "      <td>51.606</td>\n",
       "      <td>1691705.0</td>\n",
       "      <td>1.57</td>\n",
       "      <td>6.857524e+07</td>\n",
       "      <td>1.141075e+10</td>\n",
       "      <td>137.50</td>\n",
       "      <td>0.25</td>\n",
       "      <td>138.970</td>\n",
       "    </tr>\n",
       "    <tr>\n",
       "      <th>3</th>\n",
       "      <td>AAPL</td>\n",
       "      <td>Apple Inc. - Common Stock</td>\n",
       "      <td>Q</td>\n",
       "      <td>N</td>\n",
       "      <td>N</td>\n",
       "      <td>95014</td>\n",
       "      <td>Technology</td>\n",
       "      <td>137000.0</td>\n",
       "      <td>Cupertino</td>\n",
       "      <td>CA</td>\n",
       "      <td>...</td>\n",
       "      <td>14.73</td>\n",
       "      <td>NaN</td>\n",
       "      <td>18.137</td>\n",
       "      <td>33592445.0</td>\n",
       "      <td>0.89</td>\n",
       "      <td>4.329827e+09</td>\n",
       "      <td>1.368917e+12</td>\n",
       "      <td>316.14</td>\n",
       "      <td>0.82</td>\n",
       "      <td>315.035</td>\n",
       "    </tr>\n",
       "    <tr>\n",
       "      <th>4</th>\n",
       "      <td>AAT</td>\n",
       "      <td>American Assets Trust, Inc. Common Stock</td>\n",
       "      <td>N</td>\n",
       "      <td>N</td>\n",
       "      <td>NaN</td>\n",
       "      <td>92130</td>\n",
       "      <td>Real Estate</td>\n",
       "      <td>205.0</td>\n",
       "      <td>San Diego</td>\n",
       "      <td>CA</td>\n",
       "      <td>...</td>\n",
       "      <td>1.35</td>\n",
       "      <td>NaN</td>\n",
       "      <td>21.713</td>\n",
       "      <td>706006.0</td>\n",
       "      <td>1.70</td>\n",
       "      <td>5.308802e+07</td>\n",
       "      <td>2.936203e+09</td>\n",
       "      <td>28.01</td>\n",
       "      <td>0.30</td>\n",
       "      <td>29.315</td>\n",
       "    </tr>\n",
       "  </tbody>\n",
       "</table>\n",
       "<p>5 rows × 41 columns</p>\n",
       "</div>"
      ],
      "text/plain": [
       "  symbol                                      security_name listing_exchange  \\\n",
       "0      A            Agilent Technologies, Inc. Common Stock                N   \n",
       "1    AAL       American Airlines Group, Inc. - Common Stock                Q   \n",
       "2    AAP  Advance Auto Parts Inc Advance Auto Parts Inc W/I                N   \n",
       "3   AAPL                          Apple Inc. - Common Stock                Q   \n",
       "4    AAT           American Assets Trust, Inc. Common Stock                N   \n",
       "\n",
       "  etf financial_status    zip             sector  fullTimeEmployees  \\\n",
       "0   N              NaN  95051         Healthcare            16300.0   \n",
       "1   N                N  76155        Industrials           131500.0   \n",
       "2   N              NaN  27604  Consumer Cyclical            39000.0   \n",
       "3   N                N  95014         Technology           137000.0   \n",
       "4   N              NaN  92130        Real Estate              205.0   \n",
       "\n",
       "          city state  ... forwardEps revenueQuarterlyGrowth  bookValue  \\\n",
       "0  Santa Clara    CA  ...       3.57                    NaN     15.636   \n",
       "1   Fort Worth    TX  ...      -0.04                    NaN     -6.233   \n",
       "2      Raleigh    NC  ...       8.54                    NaN     51.606   \n",
       "3    Cupertino    CA  ...      14.73                    NaN     18.137   \n",
       "4    San Diego    CA  ...       1.35                    NaN     21.713   \n",
       "\n",
       "   sharesShort  shortRatio   floatShares  enterpriseValue  regularMarketPrice  \\\n",
       "0    5258241.0        2.55  3.085180e+08     2.611031e+10               86.30   \n",
       "1  119303588.0        1.49  4.167541e+08     3.478515e+10               12.43   \n",
       "2    1691705.0        1.57  6.857524e+07     1.141075e+10              137.50   \n",
       "3   33592445.0        0.89  4.329827e+09     1.368917e+12              316.14   \n",
       "4     706006.0        1.70  5.308802e+07     2.936203e+09               28.01   \n",
       "\n",
       "   latest_dividend    Close  \n",
       "0             0.18   85.785  \n",
       "1             0.10   11.505  \n",
       "2             0.25  138.970  \n",
       "3             0.82  315.035  \n",
       "4             0.30   29.315  \n",
       "\n",
       "[5 rows x 41 columns]"
      ]
     },
     "execution_count": 11,
     "metadata": {},
     "output_type": "execute_result"
    }
   ],
   "source": [
    "df[\"Close\"]= (df[\"ask\"] + df[\"dayLow\"])/2\n",
    "df.head()"
   ]
  },
  {
   "cell_type": "code",
   "execution_count": 12,
   "metadata": {},
   "outputs": [
    {
     "data": {
      "text/html": [
       "<div>\n",
       "<style scoped>\n",
       "    .dataframe tbody tr th:only-of-type {\n",
       "        vertical-align: middle;\n",
       "    }\n",
       "\n",
       "    .dataframe tbody tr th {\n",
       "        vertical-align: top;\n",
       "    }\n",
       "\n",
       "    .dataframe thead th {\n",
       "        text-align: right;\n",
       "    }\n",
       "</style>\n",
       "<table border=\"1\" class=\"dataframe\">\n",
       "  <thead>\n",
       "    <tr style=\"text-align: right;\">\n",
       "      <th></th>\n",
       "      <th>symbol</th>\n",
       "      <th>open</th>\n",
       "      <th>sector</th>\n",
       "      <th>dayLow</th>\n",
       "      <th>dayHigh</th>\n",
       "      <th>fiftyTwoWeekHigh</th>\n",
       "    </tr>\n",
       "  </thead>\n",
       "  <tbody>\n",
       "    <tr>\n",
       "      <th>0</th>\n",
       "      <td>A</td>\n",
       "      <td>86.30</td>\n",
       "      <td>Healthcare</td>\n",
       "      <td>84.37</td>\n",
       "      <td>86.48</td>\n",
       "      <td>90.64</td>\n",
       "    </tr>\n",
       "    <tr>\n",
       "      <th>1</th>\n",
       "      <td>AAL</td>\n",
       "      <td>12.43</td>\n",
       "      <td>Industrials</td>\n",
       "      <td>11.07</td>\n",
       "      <td>12.55</td>\n",
       "      <td>34.99</td>\n",
       "    </tr>\n",
       "    <tr>\n",
       "      <th>2</th>\n",
       "      <td>AAP</td>\n",
       "      <td>137.50</td>\n",
       "      <td>Consumer Cyclical</td>\n",
       "      <td>136.31</td>\n",
       "      <td>141.78</td>\n",
       "      <td>171.43</td>\n",
       "    </tr>\n",
       "    <tr>\n",
       "      <th>3</th>\n",
       "      <td>AAPL</td>\n",
       "      <td>316.14</td>\n",
       "      <td>Technology</td>\n",
       "      <td>313.09</td>\n",
       "      <td>318.71</td>\n",
       "      <td>327.85</td>\n",
       "    </tr>\n",
       "    <tr>\n",
       "      <th>4</th>\n",
       "      <td>AAT</td>\n",
       "      <td>28.01</td>\n",
       "      <td>Real Estate</td>\n",
       "      <td>27.21</td>\n",
       "      <td>28.52</td>\n",
       "      <td>49.26</td>\n",
       "    </tr>\n",
       "    <tr>\n",
       "      <th>...</th>\n",
       "      <td>...</td>\n",
       "      <td>...</td>\n",
       "      <td>...</td>\n",
       "      <td>...</td>\n",
       "      <td>...</td>\n",
       "      <td>...</td>\n",
       "    </tr>\n",
       "    <tr>\n",
       "      <th>1934</th>\n",
       "      <td>ZIONN</td>\n",
       "      <td>25.70</td>\n",
       "      <td>Financial Services</td>\n",
       "      <td>25.60</td>\n",
       "      <td>25.70</td>\n",
       "      <td>26.57</td>\n",
       "    </tr>\n",
       "    <tr>\n",
       "      <th>1935</th>\n",
       "      <td>ZIONO</td>\n",
       "      <td>27.39</td>\n",
       "      <td>Financial Services</td>\n",
       "      <td>27.30</td>\n",
       "      <td>27.42</td>\n",
       "      <td>29.42</td>\n",
       "    </tr>\n",
       "    <tr>\n",
       "      <th>1936</th>\n",
       "      <td>ZNH</td>\n",
       "      <td>21.33</td>\n",
       "      <td>Industrials</td>\n",
       "      <td>21.00</td>\n",
       "      <td>21.33</td>\n",
       "      <td>36.43</td>\n",
       "    </tr>\n",
       "    <tr>\n",
       "      <th>1937</th>\n",
       "      <td>ZTR</td>\n",
       "      <td>8.34</td>\n",
       "      <td>Financial Services</td>\n",
       "      <td>8.10</td>\n",
       "      <td>8.42</td>\n",
       "      <td>11.96</td>\n",
       "    </tr>\n",
       "    <tr>\n",
       "      <th>1938</th>\n",
       "      <td>ZTS</td>\n",
       "      <td>137.81</td>\n",
       "      <td>Healthcare</td>\n",
       "      <td>137.49</td>\n",
       "      <td>140.23</td>\n",
       "      <td>146.26</td>\n",
       "    </tr>\n",
       "  </tbody>\n",
       "</table>\n",
       "<p>1939 rows × 6 columns</p>\n",
       "</div>"
      ],
      "text/plain": [
       "     symbol    open              sector  dayLow  dayHigh  fiftyTwoWeekHigh\n",
       "0         A   86.30          Healthcare   84.37    86.48             90.64\n",
       "1       AAL   12.43         Industrials   11.07    12.55             34.99\n",
       "2       AAP  137.50   Consumer Cyclical  136.31   141.78            171.43\n",
       "3      AAPL  316.14          Technology  313.09   318.71            327.85\n",
       "4       AAT   28.01         Real Estate   27.21    28.52             49.26\n",
       "...     ...     ...                 ...     ...      ...               ...\n",
       "1934  ZIONN   25.70  Financial Services   25.60    25.70             26.57\n",
       "1935  ZIONO   27.39  Financial Services   27.30    27.42             29.42\n",
       "1936    ZNH   21.33         Industrials   21.00    21.33             36.43\n",
       "1937    ZTR    8.34  Financial Services    8.10     8.42             11.96\n",
       "1938    ZTS  137.81          Healthcare  137.49   140.23            146.26\n",
       "\n",
       "[1939 rows x 6 columns]"
      ]
     },
     "execution_count": 12,
     "metadata": {},
     "output_type": "execute_result"
    }
   ],
   "source": [
    "Nasdaq = df[[\"symbol\",\"open\",\"sector\",\"dayLow\",\"dayHigh\",\"fiftyTwoWeekHigh\"]]\n",
    "\n",
    "Nasdaq "
   ]
  },
  {
   "cell_type": "code",
   "execution_count": 14,
   "metadata": {},
   "outputs": [],
   "source": [
    "Nasdaq.to_csv(\"../Input/tickersinfo.csv\")"
   ]
  },
  {
   "cell_type": "code",
   "execution_count": 9,
   "metadata": {},
   "outputs": [
    {
     "data": {
      "text/plain": [
       "sector              13\n",
       "fiftyTwoWeekHigh     0\n",
       "dayHigh              0\n",
       "dayLow               0\n",
       "open                 0\n",
       "symbol               0\n",
       "dtype: int64"
      ]
     },
     "execution_count": 9,
     "metadata": {},
     "output_type": "execute_result"
    }
   ],
   "source": [
    "Nasdaq.isnull().sum().sort_values(ascending=False).head(20)"
   ]
  },
  {
   "cell_type": "code",
   "execution_count": 10,
   "metadata": {},
   "outputs": [
    {
     "data": {
      "text/plain": [
       "sector              False\n",
       "fiftyTwoWeekHigh     True\n",
       "dayHigh              True\n",
       "dayLow               True\n",
       "open                 True\n",
       "symbol               True\n",
       "dtype: bool"
      ]
     },
     "execution_count": 10,
     "metadata": {},
     "output_type": "execute_result"
    }
   ],
   "source": [
    "valid_columns = Nasdaq.isnull().sum().sort_values(ascending=False) == 0\n",
    "valid_columns"
   ]
  },
  {
   "cell_type": "code",
   "execution_count": 11,
   "metadata": {},
   "outputs": [],
   "source": [
    "valid_columns = [colName for colName,isValid in valid_columns.items() if isValid]"
   ]
  },
  {
   "cell_type": "code",
   "execution_count": 12,
   "metadata": {},
   "outputs": [
    {
     "data": {
      "text/plain": [
       "['fiftyTwoWeekHigh', 'dayHigh', 'dayLow', 'open', 'symbol']"
      ]
     },
     "execution_count": 12,
     "metadata": {},
     "output_type": "execute_result"
    }
   ],
   "source": [
    "valid_columns"
   ]
  },
  {
   "cell_type": "code",
   "execution_count": 13,
   "metadata": {},
   "outputs": [],
   "source": [
    "valid_columns.append(\"sector\")"
   ]
  },
  {
   "cell_type": "code",
   "execution_count": 14,
   "metadata": {},
   "outputs": [
    {
     "data": {
      "text/plain": [
       "Financial Services        879\n",
       "Industrials               214\n",
       "Real Estate               170\n",
       "Energy                    121\n",
       "Consumer Cyclical         108\n",
       "Technology                107\n",
       "Basic Materials            95\n",
       "Consumer Defensive         69\n",
       "Utilities                  68\n",
       "Healthcare                 49\n",
       "Communication Services     45\n",
       "Financial                   1\n",
       "Name: sector, dtype: int64"
      ]
     },
     "execution_count": 14,
     "metadata": {},
     "output_type": "execute_result"
    }
   ],
   "source": [
    "Nasdaq.sector.value_counts()"
   ]
  },
  {
   "cell_type": "code",
   "execution_count": null,
   "metadata": {},
   "outputs": [],
   "source": []
  },
  {
   "cell_type": "code",
   "execution_count": 15,
   "metadata": {},
   "outputs": [
    {
     "data": {
      "text/html": [
       "<div>\n",
       "<style scoped>\n",
       "    .dataframe tbody tr th:only-of-type {\n",
       "        vertical-align: middle;\n",
       "    }\n",
       "\n",
       "    .dataframe tbody tr th {\n",
       "        vertical-align: top;\n",
       "    }\n",
       "\n",
       "    .dataframe thead th {\n",
       "        text-align: right;\n",
       "    }\n",
       "</style>\n",
       "<table border=\"1\" class=\"dataframe\">\n",
       "  <thead>\n",
       "    <tr style=\"text-align: right;\">\n",
       "      <th></th>\n",
       "      <th>Ticker</th>\n",
       "      <th>OpenPrice</th>\n",
       "      <th>Sector</th>\n",
       "      <th>Daylow</th>\n",
       "      <th>Dayhigh</th>\n",
       "      <th>52weekhigh</th>\n",
       "    </tr>\n",
       "  </thead>\n",
       "  <tbody>\n",
       "    <tr>\n",
       "      <th>0</th>\n",
       "      <td>A</td>\n",
       "      <td>86.30</td>\n",
       "      <td>Healthcare</td>\n",
       "      <td>84.37</td>\n",
       "      <td>86.48</td>\n",
       "      <td>90.64</td>\n",
       "    </tr>\n",
       "    <tr>\n",
       "      <th>1</th>\n",
       "      <td>AAL</td>\n",
       "      <td>12.43</td>\n",
       "      <td>Industrials</td>\n",
       "      <td>11.07</td>\n",
       "      <td>12.55</td>\n",
       "      <td>34.99</td>\n",
       "    </tr>\n",
       "    <tr>\n",
       "      <th>2</th>\n",
       "      <td>AAP</td>\n",
       "      <td>137.50</td>\n",
       "      <td>Consumer Cyclical</td>\n",
       "      <td>136.31</td>\n",
       "      <td>141.78</td>\n",
       "      <td>171.43</td>\n",
       "    </tr>\n",
       "    <tr>\n",
       "      <th>3</th>\n",
       "      <td>AAPL</td>\n",
       "      <td>316.14</td>\n",
       "      <td>Technology</td>\n",
       "      <td>313.09</td>\n",
       "      <td>318.71</td>\n",
       "      <td>327.85</td>\n",
       "    </tr>\n",
       "    <tr>\n",
       "      <th>4</th>\n",
       "      <td>AAT</td>\n",
       "      <td>28.01</td>\n",
       "      <td>Real Estate</td>\n",
       "      <td>27.21</td>\n",
       "      <td>28.52</td>\n",
       "      <td>49.26</td>\n",
       "    </tr>\n",
       "    <tr>\n",
       "      <th>...</th>\n",
       "      <td>...</td>\n",
       "      <td>...</td>\n",
       "      <td>...</td>\n",
       "      <td>...</td>\n",
       "      <td>...</td>\n",
       "      <td>...</td>\n",
       "    </tr>\n",
       "    <tr>\n",
       "      <th>1934</th>\n",
       "      <td>ZIONN</td>\n",
       "      <td>25.70</td>\n",
       "      <td>Financial Services</td>\n",
       "      <td>25.60</td>\n",
       "      <td>25.70</td>\n",
       "      <td>26.57</td>\n",
       "    </tr>\n",
       "    <tr>\n",
       "      <th>1935</th>\n",
       "      <td>ZIONO</td>\n",
       "      <td>27.39</td>\n",
       "      <td>Financial Services</td>\n",
       "      <td>27.30</td>\n",
       "      <td>27.42</td>\n",
       "      <td>29.42</td>\n",
       "    </tr>\n",
       "    <tr>\n",
       "      <th>1936</th>\n",
       "      <td>ZNH</td>\n",
       "      <td>21.33</td>\n",
       "      <td>Industrials</td>\n",
       "      <td>21.00</td>\n",
       "      <td>21.33</td>\n",
       "      <td>36.43</td>\n",
       "    </tr>\n",
       "    <tr>\n",
       "      <th>1937</th>\n",
       "      <td>ZTR</td>\n",
       "      <td>8.34</td>\n",
       "      <td>Financial Services</td>\n",
       "      <td>8.10</td>\n",
       "      <td>8.42</td>\n",
       "      <td>11.96</td>\n",
       "    </tr>\n",
       "    <tr>\n",
       "      <th>1938</th>\n",
       "      <td>ZTS</td>\n",
       "      <td>137.81</td>\n",
       "      <td>Healthcare</td>\n",
       "      <td>137.49</td>\n",
       "      <td>140.23</td>\n",
       "      <td>146.26</td>\n",
       "    </tr>\n",
       "  </tbody>\n",
       "</table>\n",
       "<p>1939 rows × 6 columns</p>\n",
       "</div>"
      ],
      "text/plain": [
       "     Ticker  OpenPrice              Sector  Daylow  Dayhigh  52weekhigh\n",
       "0         A      86.30          Healthcare   84.37    86.48       90.64\n",
       "1       AAL      12.43         Industrials   11.07    12.55       34.99\n",
       "2       AAP     137.50   Consumer Cyclical  136.31   141.78      171.43\n",
       "3      AAPL     316.14          Technology  313.09   318.71      327.85\n",
       "4       AAT      28.01         Real Estate   27.21    28.52       49.26\n",
       "...     ...        ...                 ...     ...      ...         ...\n",
       "1934  ZIONN      25.70  Financial Services   25.60    25.70       26.57\n",
       "1935  ZIONO      27.39  Financial Services   27.30    27.42       29.42\n",
       "1936    ZNH      21.33         Industrials   21.00    21.33       36.43\n",
       "1937    ZTR       8.34  Financial Services    8.10     8.42       11.96\n",
       "1938    ZTS     137.81          Healthcare  137.49   140.23      146.26\n",
       "\n",
       "[1939 rows x 6 columns]"
      ]
     },
     "execution_count": 15,
     "metadata": {},
     "output_type": "execute_result"
    }
   ],
   "source": [
    "Nasdaq = Nasdaq.rename(columns={\"symbol\":\"Ticker\",\"open\":\"OpenPrice\",\"sector\":\"Sector\",\"dayLow\":\"Daylow\",\"dayHigh\":\"Dayhigh\",\"fiftyTwoWeekHigh\":\"52weekhigh\"})\n",
    "Nasdaq"
   ]
  },
  {
   "cell_type": "code",
   "execution_count": 16,
   "metadata": {},
   "outputs": [],
   "source": [
    "\n",
    "a = Nasdaq.loc[Nasdaq['Ticker'] == 'AAPL']\n",
    "b=Nasdaq.loc[Nasdaq['Ticker'] == 'MSFT']\n",
    "\n"
   ]
  },
  {
   "cell_type": "code",
   "execution_count": 17,
   "metadata": {},
   "outputs": [
    {
     "data": {
      "text/html": [
       "<div>\n",
       "<style scoped>\n",
       "    .dataframe tbody tr th:only-of-type {\n",
       "        vertical-align: middle;\n",
       "    }\n",
       "\n",
       "    .dataframe tbody tr th {\n",
       "        vertical-align: top;\n",
       "    }\n",
       "\n",
       "    .dataframe thead th {\n",
       "        text-align: right;\n",
       "    }\n",
       "</style>\n",
       "<table border=\"1\" class=\"dataframe\">\n",
       "  <thead>\n",
       "    <tr style=\"text-align: right;\">\n",
       "      <th></th>\n",
       "      <th>Ticker</th>\n",
       "      <th>OpenPrice</th>\n",
       "      <th>Sector</th>\n",
       "      <th>Daylow</th>\n",
       "      <th>Dayhigh</th>\n",
       "      <th>52weekhigh</th>\n",
       "    </tr>\n",
       "  </thead>\n",
       "  <tbody>\n",
       "    <tr>\n",
       "      <th>1203</th>\n",
       "      <td>MSFT</td>\n",
       "      <td>180.74</td>\n",
       "      <td>Technology</td>\n",
       "      <td>180.39</td>\n",
       "      <td>182.47</td>\n",
       "      <td>190.7</td>\n",
       "    </tr>\n",
       "  </tbody>\n",
       "</table>\n",
       "</div>"
      ],
      "text/plain": [
       "     Ticker  OpenPrice      Sector  Daylow  Dayhigh  52weekhigh\n",
       "1203   MSFT     180.74  Technology  180.39   182.47       190.7"
      ]
     },
     "execution_count": 17,
     "metadata": {},
     "output_type": "execute_result"
    }
   ],
   "source": [
    "b"
   ]
  },
  {
   "cell_type": "code",
   "execution_count": null,
   "metadata": {},
   "outputs": [],
   "source": []
  },
  {
   "cell_type": "code",
   "execution_count": 19,
   "metadata": {},
   "outputs": [
    {
     "data": {
      "text/plain": [
       "Financial Services        879\n",
       "Industrials               214\n",
       "Real Estate               170\n",
       "Energy                    121\n",
       "Consumer Cyclical         108\n",
       "Technology                107\n",
       "Basic Materials            95\n",
       "Consumer Defensive         69\n",
       "Utilities                  68\n",
       "Healthcare                 49\n",
       "Communication Services     45\n",
       "Financial                   1\n",
       "Name: Sector, dtype: int64"
      ]
     },
     "execution_count": 19,
     "metadata": {},
     "output_type": "execute_result"
    }
   ],
   "source": [
    "Nasdaq.Sector.value_counts()"
   ]
  },
  {
   "cell_type": "code",
   "execution_count": null,
   "metadata": {},
   "outputs": [],
   "source": []
  },
  {
   "cell_type": "code",
   "execution_count": 20,
   "metadata": {},
   "outputs": [],
   "source": [
    "Nasdaq_ticker=Nasdaq.iloc[[3,100,1183,500,1172,1203,959,300,833,1215]]"
   ]
  },
  {
   "cell_type": "code",
   "execution_count": 21,
   "metadata": {
    "scrolled": true
   },
   "outputs": [
    {
     "data": {
      "text/html": [
       "<div>\n",
       "<style scoped>\n",
       "    .dataframe tbody tr th:only-of-type {\n",
       "        vertical-align: middle;\n",
       "    }\n",
       "\n",
       "    .dataframe tbody tr th {\n",
       "        vertical-align: top;\n",
       "    }\n",
       "\n",
       "    .dataframe thead th {\n",
       "        text-align: right;\n",
       "    }\n",
       "</style>\n",
       "<table border=\"1\" class=\"dataframe\">\n",
       "  <thead>\n",
       "    <tr style=\"text-align: right;\">\n",
       "      <th></th>\n",
       "      <th>Ticker</th>\n",
       "      <th>OpenPrice</th>\n",
       "      <th>Sector</th>\n",
       "      <th>Daylow</th>\n",
       "      <th>Dayhigh</th>\n",
       "      <th>52weekhigh</th>\n",
       "    </tr>\n",
       "  </thead>\n",
       "  <tbody>\n",
       "    <tr>\n",
       "      <th>3</th>\n",
       "      <td>AAPL</td>\n",
       "      <td>316.14</td>\n",
       "      <td>Technology</td>\n",
       "      <td>313.0900</td>\n",
       "      <td>318.710</td>\n",
       "      <td>327.85</td>\n",
       "    </tr>\n",
       "    <tr>\n",
       "      <th>100</th>\n",
       "      <td>AOS</td>\n",
       "      <td>45.43</td>\n",
       "      <td>Industrials</td>\n",
       "      <td>45.3700</td>\n",
       "      <td>47.310</td>\n",
       "      <td>52.61</td>\n",
       "    </tr>\n",
       "    <tr>\n",
       "      <th>1183</th>\n",
       "      <td>MOS</td>\n",
       "      <td>13.13</td>\n",
       "      <td>Basic Materials</td>\n",
       "      <td>12.3550</td>\n",
       "      <td>13.150</td>\n",
       "      <td>25.71</td>\n",
       "    </tr>\n",
       "    <tr>\n",
       "      <th>500</th>\n",
       "      <td>DGX</td>\n",
       "      <td>112.15</td>\n",
       "      <td>Healthcare</td>\n",
       "      <td>115.4150</td>\n",
       "      <td>117.370</td>\n",
       "      <td>125.00</td>\n",
       "    </tr>\n",
       "    <tr>\n",
       "      <th>1172</th>\n",
       "      <td>MMLP</td>\n",
       "      <td>2.53</td>\n",
       "      <td>Energy</td>\n",
       "      <td>2.4726</td>\n",
       "      <td>2.531</td>\n",
       "      <td>7.26</td>\n",
       "    </tr>\n",
       "    <tr>\n",
       "      <th>1203</th>\n",
       "      <td>MSFT</td>\n",
       "      <td>180.74</td>\n",
       "      <td>Technology</td>\n",
       "      <td>180.3900</td>\n",
       "      <td>182.470</td>\n",
       "      <td>190.70</td>\n",
       "    </tr>\n",
       "    <tr>\n",
       "      <th>959</th>\n",
       "      <td>IRL</td>\n",
       "      <td>7.35</td>\n",
       "      <td>Financial Services</td>\n",
       "      <td>7.1842</td>\n",
       "      <td>7.350</td>\n",
       "      <td>10.08</td>\n",
       "    </tr>\n",
       "    <tr>\n",
       "      <th>300</th>\n",
       "      <td>BZM</td>\n",
       "      <td>13.12</td>\n",
       "      <td>Financial Services</td>\n",
       "      <td>13.1000</td>\n",
       "      <td>13.200</td>\n",
       "      <td>18.74</td>\n",
       "    </tr>\n",
       "    <tr>\n",
       "      <th>833</th>\n",
       "      <td>GSBC</td>\n",
       "      <td>43.93</td>\n",
       "      <td>Financial Services</td>\n",
       "      <td>42.5700</td>\n",
       "      <td>44.250</td>\n",
       "      <td>64.48</td>\n",
       "    </tr>\n",
       "    <tr>\n",
       "      <th>1215</th>\n",
       "      <td>MUR</td>\n",
       "      <td>13.04</td>\n",
       "      <td>Energy</td>\n",
       "      <td>12.6200</td>\n",
       "      <td>13.050</td>\n",
       "      <td>28.12</td>\n",
       "    </tr>\n",
       "  </tbody>\n",
       "</table>\n",
       "</div>"
      ],
      "text/plain": [
       "     Ticker  OpenPrice              Sector    Daylow  Dayhigh  52weekhigh\n",
       "3      AAPL     316.14          Technology  313.0900  318.710      327.85\n",
       "100     AOS      45.43         Industrials   45.3700   47.310       52.61\n",
       "1183    MOS      13.13     Basic Materials   12.3550   13.150       25.71\n",
       "500     DGX     112.15          Healthcare  115.4150  117.370      125.00\n",
       "1172   MMLP       2.53              Energy    2.4726    2.531        7.26\n",
       "1203   MSFT     180.74          Technology  180.3900  182.470      190.70\n",
       "959     IRL       7.35  Financial Services    7.1842    7.350       10.08\n",
       "300     BZM      13.12  Financial Services   13.1000   13.200       18.74\n",
       "833    GSBC      43.93  Financial Services   42.5700   44.250       64.48\n",
       "1215    MUR      13.04              Energy   12.6200   13.050       28.12"
      ]
     },
     "execution_count": 21,
     "metadata": {},
     "output_type": "execute_result"
    }
   ],
   "source": [
    "Nasdaq_ticker"
   ]
  },
  {
   "cell_type": "code",
   "execution_count": 22,
   "metadata": {},
   "outputs": [
    {
     "data": {
      "text/plain": [
       "Index(['Ticker', 'OpenPrice', 'Sector', 'Daylow', 'Dayhigh', '52weekhigh'], dtype='object')"
      ]
     },
     "execution_count": 22,
     "metadata": {},
     "output_type": "execute_result"
    }
   ],
   "source": [
    "Nasdaq_ticker.columns"
   ]
  },
  {
   "cell_type": "code",
   "execution_count": 23,
   "metadata": {},
   "outputs": [],
   "source": [
    "Nasdaq_ticker.to_csv(\"../Nasdaq/tickersinfo.csv\")"
   ]
  },
  {
   "cell_type": "code",
   "execution_count": null,
   "metadata": {},
   "outputs": [],
   "source": []
  },
  {
   "cell_type": "code",
   "execution_count": 24,
   "metadata": {},
   "outputs": [],
   "source": [
    "from alpha_vantage.timeseries import TimeSeries\n",
    "ts = TimeSeries(key='token')\n",
    "# Get json object with the intraday data and another with  the call's metadata\n",
    "data, meta_data = ts.get_intraday('AAPL')\n",
    "ts = TimeSeries(key='YOUR_API_KEY',rapidapi=True)\n"
   ]
  },
  {
   "cell_type": "code",
   "execution_count": 25,
   "metadata": {},
   "outputs": [
    {
     "name": "stdout",
     "output_type": "stream",
     "text": [
      "200\n"
     ]
    }
   ],
   "source": [
    "import request\n",
    "\n",
    "response = requests.get(\"https://rapidapi.com/alphavantage/api/alpha-vantage?endpoint=apiendpoint_21c557b1-05af-40fc-b4a3-d4724d00a93c\")\n",
    "print(response.status_code)"
   ]
  },
  {
   "cell_type": "markdown",
   "metadata": {},
   "source": [
    "# API KEY DATA"
   ]
  },
  {
   "cell_type": "code",
   "execution_count": 26,
   "metadata": {},
   "outputs": [
    {
     "name": "stdout",
     "output_type": "stream",
     "text": [
      "                      1. open  2. high  3. low  4. close  5. volume\n",
      "date                                                               \n",
      "2020-06-22 15:30:00  199.6900   200.76  199.63  200.5800  2858831.0\n",
      "2020-06-22 14:30:00  199.9750   200.20  199.12  199.6686  3383702.0\n",
      "2020-06-22 13:30:00  199.0400   200.00  198.93  199.9800  2451794.0\n",
      "2020-06-22 12:30:00  199.5141   199.80  198.85  199.0470  2130916.0\n",
      "2020-06-22 11:30:00  198.0300   199.80  197.78  199.5300  3924557.0\n"
     ]
    }
   ],
   "source": [
    "from alpha_vantage.timeseries import TimeSeries\n",
    "from pprint import pprint\n",
    "ts = TimeSeries(key='APIKEY', output_format='pandas')\n",
    "data, meta_data = ts.get_intraday(symbol='MSFT',interval='60min', outputsize='full')\n",
    "pprint(data.head(5))\n"
   ]
  },
  {
   "cell_type": "code",
   "execution_count": 27,
   "metadata": {},
   "outputs": [
    {
     "data": {
      "image/png": "[encoded data removed]",
      "text/plain": [
       "<Figure size 432x288 with 1 Axes>"
      ]
     },
     "metadata": {
      "needs_background": "light"
     },
     "output_type": "display_data"
    }
   ],
   "source": [
    "from alpha_vantage.timeseries import TimeSeries\n",
    "import matplotlib.pyplot as plt\n",
    "\n",
    "ts = TimeSeries(key='token', output_format='pandas')\n",
    "data, meta_data = ts.get_intraday(symbol='AAPL',interval='60min', outputsize='full')\n",
    "data['4. close'].plot()\n",
    "plt.title('Intraday Times Series for the AAPL stock (60min)')\n",
    "plt.show()"
   ]
  },
  {
   "cell_type": "code",
   "execution_count": 28,
   "metadata": {},
   "outputs": [
    {
     "data": {
      "image/png": "[encoded data removed]",
      "text/plain": [
       "<Figure size 432x288 with 1 Axes>"
      ]
     },
     "metadata": {
      "needs_background": "light"
     },
     "output_type": "display_data"
    }
   ],
   "source": [
    "from alpha_vantage.techindicators import TechIndicators\n",
    "import matplotlib.pyplot as plt\n",
    "\n",
    "ti = TechIndicators(key='Token', output_format='pandas')\n",
    "data, meta_data = ti.get_bbands(symbol='MSFT', interval='60min', time_period=60)\n",
    "data.plot()\n",
    "plt.title('BBbands indicator for  MSFT stock (60 min)')\n",
    "plt.show()"
   ]
  },
  {
   "cell_type": "code",
   "execution_count": 29,
   "metadata": {},
   "outputs": [
    {
     "data": {
      "image/png": "[encoded data removed]",
      "text/plain": [
       "<Figure size 432x288 with 1 Axes>"
      ]
     },
     "metadata": {
      "needs_background": "light"
     },
     "output_type": "display_data"
    }
   ],
   "source": [
    "from alpha_vantage.sectorperformance import SectorPerformances\n",
    "import matplotlib.pyplot as plt\n",
    "\n",
    "sp = SectorPerformances(key='token', output_format='pandas')\n",
    "data, meta_data = sp.get_sector()\n",
    "data['Rank A: Real-Time Performance'].plot(kind='bar')\n",
    "plt.title('Real Time Performance (%) per Sector')\n",
    "plt.tight_layout()\n",
    "plt.grid()\n",
    "plt.show()"
   ]
  },
  {
   "cell_type": "code",
   "execution_count": 30,
   "metadata": {},
   "outputs": [
    {
     "name": "stdout",
     "output_type": "stream",
     "text": [
      "{\"message\":\"Endpoint\\/query does not exist\"}\n"
     ]
    }
   ],
   "source": [
    "url = \"https://alpha-vantage.p.rapidapi.com/query\"\n",
    "\n",
    "querystring = {\"function\":\"sector\"}\n",
    "\n",
    "headers = {\n",
    "    'x-rapidapi-host': \"apidojo-yahoo-finance-v1.p.rapidapi.com\",\n",
    "    'x-rapidapi-key': \"6bece6952dmshfc8e884c923d5d3p121531jsn35fcd00b74b0\"\n",
    "    }\n",
    "\n",
    "response = requests.request(\"GET\", url, headers=headers, params=querystring)\n",
    "\n",
    "print(response.text)"
   ]
  },
  {
   "cell_type": "code",
   "execution_count": 31,
   "metadata": {},
   "outputs": [],
   "source": [
    "import asyncio\n",
    "from alpha_vantage.async_support.timeseries import TimeSeries\n",
    "\n",
    "symbols = ['AAPL', 'GOOG', 'TSLA', 'MSFT']\n",
    "\n",
    "\n",
    "async def get_data(symbol):\n",
    "    url =\"https://rapidapi.com/alphavantage/api/alpha-vantage?endpoint=apiendpoint_21c557b1-05af-40fc-b4a3-d4724d00a93c\"\n",
    "    ts = TimeSeries(key=\"6bece6952dmshfc8e884c923d5d3p121531jsn35fcd00b74b0\")\n",
    "    data, _ = await ts.get_quote_endpoint(symbol)\n",
    "    await ts.close()\n",
    "    return data\n",
    "\n",
    "tasks = [get_data(symbol) for symbol in symbols]\n",
    "group1 = asyncio.gather(*tasks)\n"
   ]
  },
  {
   "cell_type": "code",
   "execution_count": 38,
   "metadata": {},
   "outputs": [
    {
     "name": "stdout",
     "output_type": "stream",
     "text": [
      "{\"defaultKeyStatistics\":{\"annualHoldingsTurnover\":{},\"enterpriseToRevenue\":{\"raw\":10.283,\"fmt\":\"10.28\"},\"beta3Year\":{},\"profitMargins\":{\"raw\":0.33356997,\"fmt\":\"33.36%\"},\"enterpriseToEbitda\":{\"raw\":22.254,\"fmt\":\"22.25\"},\"52WeekChange\":{\"raw\":0.4163884,\"fmt\":\"41.64%\"},\"morningStarRiskRating\":{},\"forwardEps\":{\"raw\":6.22,\"fmt\":\"6.22\"},\"revenueQuarterlyGrowth\":{},\"sharesOutstanding\":{\"raw\":7583439872,\"fmt\":\"7.58B\",\"longFmt\":\"7,583,439,872\"},\"fundInceptionDate\":{},\"annualReportExpenseRatio\":{},\"totalAssets\":{},\"bookValue\":{\"raw\":15.086,\"fmt\":\"15.09\"},\"sharesShort\":{\"raw\":40829581,\"fmt\":\"40.83M\",\"longFmt\":\"40,829,581\"},\"sharesPercentSharesOut\":{\"raw\":0.0054,\"fmt\":\"0.54%\"},\"fundFamily\":null,\"lastFiscalYearEnd\":{\"raw\":1561852800,\"fmt\":\"2019-06-30\"},\"heldPercentInstitutions\":{\"raw\":0.74093,\"fmt\":\"74.09%\"},\"netIncomeToCommon\":{\"raw\":46265999360,\"fmt\":\"46.27B\",\"longFmt\":\"46,265,999,360\"},\"trailingEps\":{\"raw\":6.002,\"fmt\":\"6.00\"},\"lastDividendValue\":{},\"SandP52WeekChange\":{\"raw\":0.051739097,\"fmt\":\"5.17%\"},\"priceToBook\":{\"raw\":13.295108,\"fmt\":\"13.30\"},\"heldPercentInsiders\":{\"raw\":0.014249999,\"fmt\":\"1.42%\"},\"nextFiscalYearEnd\":{\"raw\":1625011200,\"fmt\":\"2021-06-30\"},\"yield\":{},\"mostRecentQuarter\":{\"raw\":1585612800,\"fmt\":\"2020-03-31\"},\"shortRatio\":{\"raw\":1.13,\"fmt\":\"1.13\"},\"sharesShortPreviousMonthDate\":{\"raw\":1588204800,\"fmt\":\"2020-04-30\"},\"floatShares\":{\"raw\":7472267013,\"fmt\":\"7.47B\",\"longFmt\":\"7,472,267,013\"},\"beta\":{\"raw\":0.925537,\"fmt\":\"0.93\"},\"enterpriseValue\":{\"raw\":1426291425280,\"fmt\":\"1.43T\",\"longFmt\":\"1,426,291,425,280\"},\"priceHint\":{\"raw\":2,\"fmt\":\"2\",\"longFmt\":\"2\"},\"threeYearAverageReturn\":{},\"lastSplitDate\":{\"raw\":1045526400,\"fmt\":\"2003-02-18\"},\"lastSplitFactor\":\"2:1\",\"legalType\":null,\"morningStarOverallRating\":{},\"earningsQuarterlyGrowth\":{\"raw\":0.221,\"fmt\":\"22.10%\"},\"priceToSalesTrailing12Months\":{},\"dateShortInterest\":{\"raw\":1590710400,\"fmt\":\"2020-05-29\"},\"pegRatio\":{\"raw\":2.25,\"fmt\":\"2.25\"},\"ytdReturn\":{},\"forwardPE\":{\"raw\":32.245983,\"fmt\":\"32.25\"},\"maxAge\":1,\"lastCapGain\":{},\"shortPercentOfFloat\":{\"raw\":0.0055,\"fmt\":\"0.55%\"},\"sharesShortPriorMonth\":{\"raw\":47763253,\"fmt\":\"47.76M\",\"longFmt\":\"47,763,253\"},\"category\":null,\"fiveYearAverageReturn\":{}},\"details\":{},\"summaryProfile\":{\"zip\":\"98052\",\"sector\":\"Technology\",\"fullTimeEmployees\":144000,\"longBusinessSummary\":\"Microsoft Corporation develops, licenses, and supports software, services, devices, and solutions worldwide. Its Productivity and Business Processes segment offers Office, Exchange, SharePoint, Microsoft Teams, Office 365 Security and Compliance, and Skype for Business, as well as related Client Access Licenses (CAL); Skype, Outlook.com, and OneDrive; LinkedIn that includes Talent and marketing solutions, and subscriptions; and Dynamics 365, a set of cloud-based and on-premises business solutions for small and medium businesses, large organizations, and divisions of enterprises. Its Intelligent Cloud segment licenses SQL and Windows Servers, Visual Studio, System Center, and related CALs; GitHub that provides a collaboration platform and code hosting service for developers; and Azure, a cloud platform. It also provides support services and Microsoft consulting services to assist customers in developing, deploying, and managing Microsoft server and desktop solutions; and training and certification to developers and IT professionals on various Microsoft products. Its More Personal Computing segment offers Windows OEM licensing and other non-volume licensing of the Windows operating system; Windows Commercial, such as volume licensing of the Windows operating system, Windows cloud services, and other Windows commercial offerings; patent licensing; Windows Internet of Things; and MSN advertising. It also provides Microsoft Surface, PC accessories, and other intelligent devices; Gaming, including Xbox hardware, and Xbox software and services; video games and third-party video game royalties; and Search, including Bing and Microsoft advertising. It sells its products through distributors and resellers; and directly through digital marketplaces, online stores, and retail stores. It has strategic partnerships with Humana Inc., Nokia, Telkomsel, Swiss Re, Kubota Corporation, and FedEx Corp. The company was founded in 1975 and is headquartered in Redmond, Washington.\",\"city\":\"Redmond\",\"phone\":\"425-882-8080\",\"state\":\"WA\",\"country\":\"United States\",\"companyOfficers\":[],\"website\":\"http://www.microsoft.com\",\"maxAge\":86400,\"address1\":\"One Microsoft Way\",\"fax\":\"425-706-7329\",\"industry\":\"Softwareâ€”Infrastructure\"},\"recommendationTrend\":{\"trend\":[{\"period\":\"0m\",\"strongBuy\":14,\"buy\":13,\"hold\":6,\"sell\":0,\"strongSell\":1},{\"period\":\"-1m\",\"strongBuy\":14,\"buy\":18,\"hold\":3,\"sell\":0,\"strongSell\":0},{\"period\":\"-2m\",\"strongBuy\":14,\"buy\":18,\"hold\":3,\"sell\":0,\"strongSell\":0},{\"period\":\"-3m\",\"strongBuy\":12,\"buy\":13,\"hold\":9,\"sell\":0,\"strongSell\":1}],\"maxAge\":86400},\"financialsTemplate\":{\"code\":\"N\",\"maxAge\":1},\"majorDirectHolders\":{\"holders\":[],\"maxAge\":1},\"earnings\":{\"maxAge\":86400,\"earningsChart\":{\"quarterly\":[{\"date\":\"2Q2019\",\"actual\":{\"raw\":1.37,\"fmt\":\"1.37\"},\"estimate\":{\"raw\":1.21,\"fmt\":\"1.21\"}},{\"date\":\"3Q2019\",\"actual\":{\"raw\":1.38,\"fmt\":\"1.38\"},\"estimate\":{\"raw\":1.24,\"fmt\":\"1.24\"}},{\"date\":\"4Q2019\",\"actual\":{\"raw\":1.51,\"fmt\":\"1.51\"},\"estimate\":{\"raw\":1.32,\"fmt\":\"1.32\"}},{\"date\":\"1Q2020\",\"actual\":{\"raw\":1.4,\"fmt\":\"1.40\"},\"estimate\":{\"raw\":1.26,\"fmt\":\"1.26\"}}],\"currentQuarterEstimate\":{\"raw\":1.39,\"fmt\":\"1.39\"},\"currentQuarterEstimateDate\":\"2Q\",\"currentQuarterEstimateYear\":2020,\"earningsDate\":[{\"raw\":1594857600,\"fmt\":\"2020-07-16\"},{\"raw\":1595203200,\"fmt\":\"2020-07-20\"}]},\"financialsChart\":{\"yearly\":[{\"date\":2016,\"revenue\":{\"raw\":91154000000,\"fmt\":\"91.15B\",\"longFmt\":\"91,154,000,000\"},\"earnings\":{\"raw\":20539000000,\"fmt\":\"20.54B\",\"longFmt\":\"20,539,000,000\"}},{\"date\":2017,\"revenue\":{\"raw\":96571000000,\"fmt\":\"96.57B\",\"longFmt\":\"96,571,000,000\"},\"earnings\":{\"raw\":25489000000,\"fmt\":\"25.49B\",\"longFmt\":\"25,489,000,000\"}},{\"date\":2018,\"revenue\":{\"raw\":110360000000,\"fmt\":\"110.36B\",\"longFmt\":\"110,360,000,000\"},\"earnings\":{\"raw\":16571000000,\"fmt\":\"16.57B\",\"longFmt\":\"16,571,000,000\"}},{\"date\":2019,\"revenue\":{\"raw\":125843000000,\"fmt\":\"125.84B\",\"longFmt\":\"125,843,000,000\"},\"earnings\":{\"raw\":39240000000,\"fmt\":\"39.24B\",\"longFmt\":\"39,240,000,000\"}}],\"quarterly\":[{\"date\":\"2Q2019\",\"revenue\":{\"raw\":33717000000,\"fmt\":\"33.72B\",\"longFmt\":\"33,717,000,000\"},\"earnings\":{\"raw\":13187000000,\"fmt\":\"13.19B\",\"longFmt\":\"13,187,000,000\"}},{\"date\":\"3Q2019\",\"revenue\":{\"raw\":33055000000,\"fmt\":\"33.05B\",\"longFmt\":\"33,055,000,000\"},\"earnings\":{\"raw\":10678000000,\"fmt\":\"10.68B\",\"longFmt\":\"10,678,000,000\"}},{\"date\":\"4Q2019\",\"revenue\":{\"raw\":36906000000,\"fmt\":\"36.91B\",\"longFmt\":\"36,906,000,000\"},\"earnings\":{\"raw\":11649000000,\"fmt\":\"11.65B\",\"longFmt\":\"11,649,000,000\"}},{\"date\":\"1Q2020\",\"revenue\":{\"raw\":35021000000,\"fmt\":\"35.02B\",\"longFmt\":\"35,021,000,000\"},\"earnings\":{\"raw\":10752000000,\"fmt\":\"10.75B\",\"longFmt\":\"10,752,000,000\"}}]},\"financialCurrency\":\"USD\"},\"price\":{\"quoteSourceName\":\"Nasdaq Real Time Price\",\"regularMarketOpen\":{\"raw\":195.79,\"fmt\":\"195.79\"},\"averageDailyVolume3Month\":{\"raw\":42769184,\"fmt\":\"42.77M\",\"longFmt\":\"42,769,184\"},\"exchange\":\"NMS\",\"regularMarketTime\":1592856000,\"volume24Hr\":{},\"regularMarketDayHigh\":{\"raw\":200.76,\"fmt\":\"200.76\"},\"shortName\":\"Microsoft Corporation\",\"averageDailyVolume10Day\":{\"raw\":35302266,\"fmt\":\"35.3M\",\"longFmt\":\"35,302,266\"},\"longName\":\"Microsoft Corporation\",\"regularMarketChange\":{\"raw\":5.4200134,\"fmt\":\"5.42\"},\"currencySymbol\":\"$\",\"regularMarketPreviousClose\":{\"raw\":195.15,\"fmt\":\"195.15\"},\"postMarketTime\":1592870370,\"preMarketPrice\":{},\"exchangeDataDelayedBy\":0,\"toCurrency\":null,\"postMarketChange\":{\"raw\":1.4199982,\"fmt\":\"1.42\"},\"postMarketPrice\":{\"raw\":201.99,\"fmt\":\"201.99\"},\"exchangeName\":\"NasdaqGS\",\"preMarketChange\":{},\"circulatingSupply\":{},\"regularMarketDayLow\":{\"raw\":195.2301,\"fmt\":\"195.23\"},\"priceHint\":{\"raw\":2,\"fmt\":\"2\",\"longFmt\":\"2\"},\"currency\":\"USD\",\"regularMarketPrice\":{\"raw\":200.57,\"fmt\":\"200.57\"},\"regularMarketVolume\":{\"raw\":32818929,\"fmt\":\"32.82M\",\"longFmt\":\"32,818,929.00\"},\"lastMarket\":null,\"regularMarketSource\":\"FREE_REALTIME\",\"openInterest\":{},\"marketState\":\"PREPRE\",\"underlyingSymbol\":null,\"marketCap\":{\"raw\":1521010606080,\"fmt\":\"1.52T\",\"longFmt\":\"1,521,010,606,080.00\"},\"quoteType\":\"EQUITY\",\"volumeAllCurrencies\":{},\"postMarketSource\":\"FREE_REALTIME\",\"strikePrice\":{},\"symbol\":\"MSFT\",\"postMarketChangePercent\":{\"raw\":0.0070798127,\"fmt\":\"0.71%\"},\"preMarketSource\":\"FREE_REALTIME\",\"maxAge\":1,\"fromCurrency\":null,\"regularMarketChangePercent\":{\"raw\":0.027773578,\"fmt\":\"2.78%\"}},\"fundOwnership\":{\"maxAge\":1,\"ownershipList\":[{\"maxAge\":1,\"reportDate\":{\"raw\":1577750400,\"fmt\":\"2019-12-31\"},\"organization\":\"Vanguard Total Stock Market Index Fund\",\"pctHeld\":{\"raw\":0.028299998,\"fmt\":\"2.83%\"},\"position\":{\"raw\":214894399,\"fmt\":\"214.89M\",\"longFmt\":\"214,894,399\"},\"value\":{\"raw\":33888846722,\"fmt\":\"33.89B\",\"longFmt\":\"33,888,846,722\"}},{\"maxAge\":1,\"reportDate\":{\"raw\":1585612800,\"fmt\":\"2020-03-31\"},\"organization\":\"Vanguard 500 Index Fund\",\"pctHeld\":{\"raw\":0.0207,\"fmt\":\"2.07%\"},\"position\":{\"raw\":157045767,\"fmt\":\"157.05M\",\"longFmt\":\"157,045,767\"},\"value\":{\"raw\":24767687913,\"fmt\":\"24.77B\",\"longFmt\":\"24,767,687,913\"}},{\"maxAge\":1,\"reportDate\":{\"raw\":1585612800,\"fmt\":\"2020-03-31\"},\"organization\":\"SPDR S&P 500 ETF Trust\",\"pctHeld\":{\"raw\":0.0111,\"fmt\":\"1.11%\"},\"position\":{\"raw\":84354293,\"fmt\":\"84.35M\",\"longFmt\":\"84,354,293\"},\"value\":{\"raw\":13303515549,\"fmt\":\"13.3B\",\"longFmt\":\"13,303,515,549\"}},{\"maxAge\":1,\"reportDate\":{\"raw\":1582934400,\"fmt\":\"2020-02-29\"},\"organization\":\"Fidelity 500 Index Fund\",\"pctHeld\":{\"raw\":0.009,\"fmt\":\"0.90%\"},\"position\":{\"raw\":68163539,\"fmt\":\"68.16M\",\"longFmt\":\"68,163,539\"},\"value\":{\"raw\":11043174953,\"fmt\":\"11.04B\",\"longFmt\":\"11,043,174,953\"}},{\"maxAge\":1,\"reportDate\":{\"raw\":1585612800,\"fmt\":\"2020-03-31\"},\"organization\":\"Vanguard Institutional Index Fund-Institutional Index Fund\",\"pctHeld\":{\"raw\":0.0089,\"fmt\":\"0.89%\"},\"position\":{\"raw\":67508664,\"fmt\":\"67.51M\",\"longFmt\":\"67,508,664\"},\"value\":{\"raw\":10646791399,\"fmt\":\"10.65B\",\"longFmt\":\"10,646,791,399\"}},{\"maxAge\":1,\"reportDate\":{\"raw\":1577750400,\"fmt\":\"2019-12-31\"},\"organization\":\"Growth Fund Of America Inc\",\"pctHeld\":{\"raw\":0.0089,\"fmt\":\"0.89%\"},\"position\":{\"raw\":67243365,\"fmt\":\"67.24M\",\"longFmt\":\"67,243,365\"},\"value\":{\"raw\":10604278660,\"fmt\":\"10.6B\",\"longFmt\":\"10,604,278,660\"}},{\"maxAge\":1,\"reportDate\":{\"raw\":1585612800,\"fmt\":\"2020-03-31\"},\"organization\":\"Invesco ETF Tr-Invesco QQQ Tr, Series 1 ETF\",\"pctHeld\":{\"raw\":0.0083,\"fmt\":\"0.83%\"},\"position\":{\"raw\":63243560,\"fmt\":\"63.24M\",\"longFmt\":\"63,243,560\"},\"value\":{\"raw\":9974141847,\"fmt\":\"9.97B\",\"longFmt\":\"9,974,141,847\"}},{\"maxAge\":1,\"reportDate\":{\"raw\":1585612800,\"fmt\":\"2020-03-31\"},\"organization\":\"Vanguard Growth Index Fund\",\"pctHeld\":{\"raw\":0.0076,\"fmt\":\"0.76%\"},\"position\":{\"raw\":57872923,\"fmt\":\"57.87M\",\"longFmt\":\"57,872,923\"},\"value\":{\"raw\":9127138686,\"fmt\":\"9.13B\",\"longFmt\":\"9,127,138,686\"}},{\"maxAge\":1,\"reportDate\":{\"raw\":1585612800,\"fmt\":\"2020-03-31\"},\"organization\":\"iShares Core S&P 500 ETF\",\"pctHeld\":{\"raw\":0.0076,\"fmt\":\"0.76%\"},\"position\":{\"raw\":57570336,\"fmt\":\"57.57M\",\"longFmt\":\"57,570,336\"},\"value\":{\"raw\":9079417690,\"fmt\":\"9.08B\",\"longFmt\":\"9,079,417,690\"}},{\"maxAge\":1,\"reportDate\":{\"raw\":1577750400,\"fmt\":\"2019-12-31\"},\"organization\":\"Washington Mutual Investors Fund\",\"pctHeld\":{\"raw\":0.0066000004,\"fmt\":\"0.66%\"},\"position\":{\"raw\":50107814,\"fmt\":\"50.11M\",\"longFmt\":\"50,107,814\"},\"value\":{\"raw\":7902002267,\"fmt\":\"7.9B\",\"longFmt\":\"7,902,002,267\"}}]},\"insiderTransactions\":{\"transactions\":[{\"filerName\":\"WALMSLEY EMMA N\",\"transactionText\":\"Sale at price 186.05 per share.\",\"moneyText\":\"\",\"ownership\":\"D\",\"startDate\":{\"raw\":1591574400,\"fmt\":\"2020-06-08\"},\"value\":{\"raw\":9117,\"fmt\":\"9.12k\",\"longFmt\":\"9,117\"},\"filerRelation\":\"Director\",\"shares\":{\"raw\":49,\"fmt\":\"49\",\"longFmt\":\"49\"},\"filerUrl\":\"\",\"maxAge\":1},{\"filerName\":\"SCHARF CHARLES W\",\"transactionText\":\"Stock Award(Grant) at price 0.00 per share.\",\"moneyText\":\"\",\"ownership\":\"D\",\"startDate\":{\"raw\":1591228800,\"fmt\":\"2020-06-04\"},\"value\":{\"raw\":0,\"fmt\":null,\"longFmt\":\"0\"},\"filerRelation\":\"Director\",\"shares\":{\"raw\":273,\"fmt\":\"273\",\"longFmt\":\"273\"},\"filerUrl\":\"\",\"maxAge\":1},{\"filerName\":\"SORENSON ARNE M\",\"transactionText\":\"Stock Award(Grant) at price 0.00 per share.\",\"moneyText\":\"\",\"ownership\":\"D\",\"startDate\":{\"raw\":1591228800,\"fmt\":\"2020-06-04\"},\"value\":{\"raw\":0,\"fmt\":null,\"longFmt\":\"0\"},\"filerRelation\":\"Director\",\"shares\":{\"raw\":273,\"fmt\":\"273\",\"longFmt\":\"273\"},\"filerUrl\":\"\",\"maxAge\":1},{\"filerName\":\"STANTON JOHN\",\"transactionText\":\"Stock Award(Grant) at price 0.00 per share.\",\"moneyText\":\"\",\"ownership\":\"D\",\"startDate\":{\"raw\":1591228800,\"fmt\":\"2020-06-04\"},\"value\":{\"raw\":0,\"fmt\":null,\"longFmt\":\"0\"},\"filerRelation\":\"Director\",\"shares\":{\"raw\":273,\"fmt\":\"273\",\"longFmt\":\"273\"},\"filerUrl\":\"\",\"maxAge\":1},{\"filerName\":\"WARRIOR PADMASREE\",\"transactionText\":\"Stock Award(Grant) at price 0.00 per share.\",\"moneyText\":\"\",\"ownership\":\"D\",\"startDate\":{\"raw\":1591228800,\"fmt\":\"2020-06-04\"},\"value\":{\"raw\":0,\"fmt\":null,\"longFmt\":\"0\"},\"filerRelation\":\"Director\",\"shares\":{\"raw\":273,\"fmt\":\"273\",\"longFmt\":\"273\"},\"filerUrl\":\"\",\"maxAge\":1},{\"filerName\":\"JOHNSTON HUGH F.\",\"transactionText\":\"Stock Award(Grant) at price 0.00 per share.\",\"moneyText\":\"\",\"ownership\":\"D\",\"startDate\":{\"raw\":1591228800,\"fmt\":\"2020-06-04\"},\"value\":{\"raw\":0,\"fmt\":null,\"longFmt\":\"0\"},\"filerRelation\":\"Director\",\"shares\":{\"raw\":273,\"fmt\":\"273\",\"longFmt\":\"273\"},\"filerUrl\":\"\",\"maxAge\":1},{\"filerName\":\"WALMSLEY EMMA N\",\"transactionText\":\"Stock Award(Grant) at price 0.00 per share.\",\"moneyText\":\"\",\"ownership\":\"D\",\"startDate\":{\"raw\":1591228800,\"fmt\":\"2020-06-04\"},\"value\":{\"raw\":0,\"fmt\":null,\"longFmt\":\"0\"},\"filerRelation\":\"Director\",\"shares\":{\"raw\":273,\"fmt\":\"273\",\"longFmt\":\"273\"},\"filerUrl\":\"\",\"maxAge\":1},{\"filerName\":\"THOMPSON JOHN WENDELL\",\"transactionText\":\"Stock Gift at price 0.00 per share.\",\"moneyText\":\"\",\"ownership\":\"I\",\"startDate\":{\"raw\":1588636800,\"fmt\":\"2020-05-05\"},\"value\":{\"raw\":0,\"fmt\":null,\"longFmt\":\"0\"},\"filerRelation\":\"Director\",\"shares\":{\"raw\":27200,\"fmt\":\"27.2k\",\"longFmt\":\"27,200\"},\"filerUrl\":\"\",\"maxAge\":1},{\"filerName\":\"NADELLA SATYA\",\"transactionText\":\"Stock Gift at price 0.00 per share.\",\"moneyText\":\"\",\"ownership\":\"D/I\",\"startDate\":{\"raw\":1588550400,\"fmt\":\"2020-05-04\"},\"value\":{\"raw\":0,\"fmt\":null,\"longFmt\":\"0\"},\"filerRelation\":\"Chief Executive Officer\",\"shares\":{\"raw\":115837,\"fmt\":\"115.84k\",\"longFmt\":\"115,837\"},\"filerUrl\":\"\",\"maxAge\":1},{\"filerName\":\"BROD FRANK H\",\"transactionText\":\"Sale at price 176.94 per share.\",\"moneyText\":\"\",\"ownership\":\"D\",\"startDate\":{\"raw\":1588291200,\"fmt\":\"2020-05-01\"},\"value\":{\"raw\":530811,\"fmt\":\"530.81k\",\"longFmt\":\"530,811\"},\"filerRelation\":\"Officer\",\"shares\":{\"raw\":3000,\"fmt\":\"3k\",\"longFmt\":\"3,000\"},\"filerUrl\":\"\",\"maxAge\":1},{\"filerName\":\"JOHNSON MARGARET L\",\"transactionText\":\"Sale at price 176.08 per share.\",\"moneyText\":\"\",\"ownership\":\"I\",\"startDate\":{\"raw\":1588291200,\"fmt\":\"2020-05-01\"},\"value\":{\"raw\":6162800,\"fmt\":\"6.16M\",\"longFmt\":\"6,162,800\"},\"filerRelation\":\"Officer\",\"shares\":{\"raw\":35000,\"fmt\":\"35k\",\"longFmt\":\"35,000\"},\"filerUrl\":\"\",\"maxAge\":1},{\"filerName\":\"BROD FRANK H\",\"transactionText\":\"Sale at price 173.80 per share.\",\"moneyText\":\"\",\"ownership\":\"D\",\"startDate\":{\"raw\":1583193600,\"fmt\":\"2020-03-03\"},\"value\":{\"raw\":869000,\"fmt\":\"869k\",\"longFmt\":\"869,000\"},\"filerRelation\":\"Officer\",\"shares\":{\"raw\":5000,\"fmt\":\"5k\",\"longFmt\":\"5,000\"},\"filerUrl\":\"\",\"maxAge\":1},{\"filerName\":\"NADELLA SATYA\",\"transactionText\":\"Sale at price 163.06 - 174.72 per share.\",\"moneyText\":\"\",\"ownership\":\"D\",\"startDate\":{\"raw\":1583193600,\"fmt\":\"2020-03-03\"},\"value\":{\"raw\":47200996,\"fmt\":\"47.2M\",\"longFmt\":\"47,200,996\"},\"filerRelation\":\"Chief Executive Officer\",\"shares\":{\"raw\":280174,\"fmt\":\"280.17k\",\"longFmt\":\"280,174\"},\"filerUrl\":\"\",\"maxAge\":1},{\"filerName\":\"WALMSLEY EMMA N\",\"transactionText\":\"Sale at price 164.58 per share.\",\"moneyText\":\"\",\"ownership\":\"D\",\"startDate\":{\"raw\":1583193600,\"fmt\":\"2020-03-03\"},\"value\":{\"raw\":8887,\"fmt\":\"8.89k\",\"longFmt\":\"8,887\"},\"filerRelation\":\"Director\",\"shares\":{\"raw\":54,\"fmt\":\"54\",\"longFmt\":\"54\"},\"filerUrl\":\"\",\"maxAge\":1},{\"filerName\":\"NADELLA SATYA\",\"transactionText\":\"Stock Award(Grant) at price 0.00 per share.\",\"moneyText\":\"\",\"ownership\":\"D\",\"startDate\":{\"raw\":1580947200,\"fmt\":\"2020-02-06\"},\"value\":{\"raw\":0,\"fmt\":null,\"longFmt\":\"0\"},\"filerRelation\":\"Chief Executive Officer\",\"shares\":{\"raw\":900000,\"fmt\":\"900k\",\"longFmt\":\"900,000\"},\"filerUrl\":\"\",\"maxAge\":1},{\"filerName\":\"CAPOSSELA CHRISTOPHER C\",\"transactionText\":\"Stock Gift at price 0.00 per share.\",\"moneyText\":\"\",\"ownership\":\"D\",\"startDate\":{\"raw\":1580947200,\"fmt\":\"2020-02-06\"},\"value\":{\"raw\":0,\"fmt\":null,\"longFmt\":\"0\"},\"filerRelation\":\"Officer\",\"shares\":{\"raw\":3100,\"fmt\":\"3.1k\",\"longFmt\":\"3,100\"},\"filerUrl\":\"\",\"maxAge\":1},{\"filerName\":\"COURTOIS JEAN-PHILIPPE\",\"transactionText\":\"Sale at price 179.54 per share.\",\"moneyText\":\"\",\"ownership\":\"D\",\"startDate\":{\"raw\":1580774400,\"fmt\":\"2020-02-04\"},\"value\":{\"raw\":3231810,\"fmt\":\"3.23M\",\"longFmt\":\"3,231,810\"},\"filerRelation\":\"Officer\",\"shares\":{\"raw\":18000,\"fmt\":\"18k\",\"longFmt\":\"18,000\"},\"filerUrl\":\"\",\"maxAge\":1},{\"filerName\":\"SCHARF CHARLES W\",\"transactionText\":\"Stock Award(Grant) at price 0.00 per share.\",\"moneyText\":\"\",\"ownership\":\"D\",\"startDate\":{\"raw\":1580428800,\"fmt\":\"2020-01-31\"},\"value\":{\"raw\":0,\"fmt\":null,\"longFmt\":\"0\"},\"filerRelation\":\"Director\",\"shares\":{\"raw\":293,\"fmt\":\"293\",\"longFmt\":\"293\"},\"filerUrl\":\"\",\"maxAge\":1},{\"filerName\":\"SORENSON ARNE M\",\"transactionText\":\"Stock Award(Grant) at price 0.00 per share.\",\"moneyText\":\"\",\"ownership\":\"D\",\"startDate\":{\"raw\":1580428800,\"fmt\":\"2020-01-31\"},\"value\":{\"raw\":0,\"fmt\":null,\"longFmt\":\"0\"},\"filerRelation\":\"Director\",\"shares\":{\"raw\":293,\"fmt\":\"293\",\"longFmt\":\"293\"},\"filerUrl\":\"\",\"maxAge\":1},{\"filerName\":\"STANTON JOHN\",\"transactionText\":\"Stock Award(Grant) at price 0.00 per share.\",\"moneyText\":\"\",\"ownership\":\"D\",\"startDate\":{\"raw\":1580428800,\"fmt\":\"2020-01-31\"},\"value\":{\"raw\":0,\"fmt\":null,\"longFmt\":\"0\"},\"filerRelation\":\"Director\",\"shares\":{\"raw\":293,\"fmt\":\"293\",\"longFmt\":\"293\"},\"filerUrl\":\"\",\"maxAge\":1},{\"filerName\":\"WARRIOR PADMASREE\",\"transactionText\":\"Stock Award(Grant) at price 0.00 per share.\",\"moneyText\":\"\",\"ownership\":\"D\",\"startDate\":{\"raw\":1580428800,\"fmt\":\"2020-01-31\"},\"value\":{\"raw\":0,\"fmt\":null,\"longFmt\":\"0\"},\"filerRelation\":\"Director\",\"shares\":{\"raw\":293,\"fmt\":\"293\",\"longFmt\":\"293\"},\"filerUrl\":\"\",\"maxAge\":1},{\"filerName\":\"JOHNSTON HUGH F.\",\"transactionText\":\"Stock Award(Grant) at price 0.00 per share.\",\"moneyText\":\"\",\"ownership\":\"D\",\"startDate\":{\"raw\":1580428800,\"fmt\":\"2020-01-31\"},\"value\":{\"raw\":0,\"fmt\":null,\"longFmt\":\"0\"},\"filerRelation\":\"Director\",\"shares\":{\"raw\":293,\"fmt\":\"293\",\"longFmt\":\"293\"},\"filerUrl\":\"\",\"maxAge\":1},{\"filerName\":\"WALMSLEY EMMA N\",\"transactionText\":\"Stock Award(Grant) at price 0.00 per share.\",\"moneyText\":\"\",\"ownership\":\"D\",\"startDate\":{\"raw\":1580428800,\"fmt\":\"2020-01-31\"},\"value\":{\"raw\":0,\"fmt\":null,\"longFmt\":\"0\"},\"filerRelation\":\"Director\",\"shares\":{\"raw\":293,\"fmt\":\"293\",\"longFmt\":\"293\"},\"filerUrl\":\"\",\"maxAge\":1},{\"filerName\":\"HOGAN KATHLEEN T\",\"transactionText\":\"Stock Gift at price 0.00 per share.\",\"moneyText\":\"\",\"ownership\":\"D\",\"startDate\":{\"raw\":1576627200,\"fmt\":\"2019-12-18\"},\"value\":{\"raw\":0,\"fmt\":null,\"longFmt\":\"0\"},\"filerRelation\":\"Officer\",\"shares\":{\"raw\":260,\"fmt\":\"260\",\"longFmt\":\"260\"},\"filerUrl\":\"\",\"maxAge\":1},{\"filerName\":\"JOHNSON MARGARET L\",\"transactionText\":\"Sale at price 150.01 per share.\",\"moneyText\":\"\",\"ownership\":\"I\",\"startDate\":{\"raw\":1575504000,\"fmt\":\"2019-12-05\"},\"value\":{\"raw\":5250462,\"fmt\":\"5.25M\",\"longFmt\":\"5,250,462\"},\"filerRelation\":\"Officer\",\"shares\":{\"raw\":35000,\"fmt\":\"35k\",\"longFmt\":\"35,000\"},\"filerUrl\":\"\",\"maxAge\":1},{\"filerName\":\"SMITH BRADFORD LEE\",\"transactionText\":\"Stock Gift at price 0.00 per share.\",\"moneyText\":\"\",\"ownership\":\"D\",\"startDate\":{\"raw\":1575417600,\"fmt\":\"2019-12-04\"},\"value\":{\"raw\":0,\"fmt\":null,\"longFmt\":\"0\"},\"filerRelation\":\"President\",\"shares\":{\"raw\":14000,\"fmt\":\"14k\",\"longFmt\":\"14,000\"},\"filerUrl\":\"\",\"maxAge\":1},{\"filerName\":\"SCHARF CHARLES W\",\"transactionText\":\"Stock Award(Grant) at price 0.00 per share.\",\"moneyText\":\"\",\"ownership\":\"D\",\"startDate\":{\"raw\":1575331200,\"fmt\":\"2019-12-03\"},\"value\":{\"raw\":0,\"fmt\":null,\"longFmt\":\"0\"},\"filerRelation\":\"Director\",\"shares\":{\"raw\":335,\"fmt\":\"335\",\"longFmt\":\"335\"},\"filerUrl\":\"\",\"maxAge\":1},{\"filerName\":\"PANKE HELMUT\",\"transactionText\":\"Stock Award(Grant) at price 0.00 per share.\",\"moneyText\":\"\",\"ownership\":\"D\",\"startDate\":{\"raw\":1575331200,\"fmt\":\"2019-12-03\"},\"value\":{\"raw\":0,\"fmt\":null,\"longFmt\":\"0\"},\"filerRelation\":\"Director\",\"shares\":{\"raw\":335,\"fmt\":\"335\",\"longFmt\":\"335\"},\"filerUrl\":\"\",\"maxAge\":1},{\"filerName\":\"SORENSON ARNE M\",\"transactionText\":\"Stock Award(Grant) at price 0.00 per share.\",\"moneyText\":\"\",\"ownership\":\"D\",\"startDate\":{\"raw\":1575331200,\"fmt\":\"2019-12-03\"},\"value\":{\"raw\":0,\"fmt\":null,\"longFmt\":\"0\"},\"filerRelation\":\"Director\",\"shares\":{\"raw\":335,\"fmt\":\"335\",\"longFmt\":\"335\"},\"filerUrl\":\"\",\"maxAge\":1},{\"filerName\":\"STANTON JOHN\",\"transactionText\":\"Stock Award(Grant) at price 0.00 per share.\",\"moneyText\":\"\",\"ownership\":\"D\",\"startDate\":{\"raw\":1575331200,\"fmt\":\"2019-12-03\"},\"value\":{\"raw\":0,\"fmt\":null,\"longFmt\":\"0\"},\"filerRelation\":\"Director\",\"shares\":{\"raw\":335,\"fmt\":\"335\",\"longFmt\":\"335\"},\"filerUrl\":\"\",\"maxAge\":1},{\"filerName\":\"WARRIOR PADMASREE\",\"transactionText\":\"Stock Award(Grant) at price 0.00 per share.\",\"moneyText\":\"\",\"ownership\":\"D\",\"startDate\":{\"raw\":1575331200,\"fmt\":\"2019-12-03\"},\"value\":{\"raw\":0,\"fmt\":null,\"longFmt\":\"0\"},\"filerRelation\":\"Director\",\"shares\":{\"raw\":335,\"fmt\":\"335\",\"longFmt\":\"335\"},\"filerUrl\":\"\",\"maxAge\":1},{\"filerName\":\"JOHNSTON HUGH F.\",\"transactionText\":\"Stock Award(Grant) at price 0.00 per share.\",\"moneyText\":\"\",\"ownership\":\"D\",\"startDate\":{\"raw\":1575331200,\"fmt\":\"2019-12-03\"},\"value\":{\"raw\":0,\"fmt\":null,\"longFmt\":\"0\"},\"filerRelation\":\"Director\",\"shares\":{\"raw\":335,\"fmt\":\"335\",\"longFmt\":\"335\"},\"filerUrl\":\"\",\"maxAge\":1},{\"filerName\":\"CAPOSSELA CHRISTOPHER C\",\"transactionText\":\"Stock Gift at price 0.00 per share.\",\"moneyText\":\"\",\"ownership\":\"D\",\"startDate\":{\"raw\":1574726400,\"fmt\":\"2019-11-26\"},\"value\":{\"raw\":0,\"fmt\":null,\"longFmt\":\"0\"},\"filerRelation\":\"Officer\",\"shares\":{\"raw\":6613,\"fmt\":\"6.61k\",\"longFmt\":\"6,613\"},\"filerUrl\":\"\",\"maxAge\":1},{\"filerName\":\"CAPOSSELA CHRISTOPHER C\",\"transactionText\":\"Sale at price 144.01 - 144.76 per share.\",\"moneyText\":\"\",\"ownership\":\"D\",\"startDate\":{\"raw\":1573084800,\"fmt\":\"2019-11-07\"},\"value\":{\"raw\":1445771,\"fmt\":\"1.45M\",\"longFmt\":\"1,445,771\"},\"filerRelation\":\"Officer\",\"shares\":{\"raw\":10000,\"fmt\":\"10k\",\"longFmt\":\"10,000\"},\"filerUrl\":\"\",\"maxAge\":1},{\"filerName\":\"CAPOSSELA CHRISTOPHER C\",\"transactionText\":\"Sale at price 144.42 - 144.75 per share.\",\"moneyText\":\"\",\"ownership\":\"D\",\"startDate\":{\"raw\":1572912000,\"fmt\":\"2019-11-05\"},\"value\":{\"raw\":722925,\"fmt\":\"722.92k\",\"longFmt\":\"722,925\"},\"filerRelation\":\"Officer\",\"shares\":{\"raw\":5000,\"fmt\":\"5k\",\"longFmt\":\"5,000\"},\"filerUrl\":\"\",\"maxAge\":1},{\"filerName\":\"CAPOSSELA CHRISTOPHER C\",\"transactionText\":\"Sale at price 142.89 - 144.66 per share.\",\"moneyText\":\"\",\"ownership\":\"D\",\"startDate\":{\"raw\":1572393600,\"fmt\":\"2019-10-30\"},\"value\":{\"raw\":1437291,\"fmt\":\"1.44M\",\"longFmt\":\"1,437,291\"},\"filerRelation\":\"Officer\",\"shares\":{\"raw\":10000,\"fmt\":\"10k\",\"longFmt\":\"10,000\"},\"filerUrl\":\"\",\"maxAge\":1},{\"filerName\":\"COURTOIS JEAN-PHILIPPE\",\"transactionText\":\"Sale at price 141.00 - 145.06 per share.\",\"moneyText\":\"\",\"ownership\":\"D\",\"startDate\":{\"raw\":1572220800,\"fmt\":\"2019-10-28\"},\"value\":{\"raw\":3489152,\"fmt\":\"3.49M\",\"longFmt\":\"3,489,152\"},\"filerRelation\":\"Officer\",\"shares\":{\"raw\":24419,\"fmt\":\"24.42k\",\"longFmt\":\"24,419\"},\"filerUrl\":\"\",\"maxAge\":1},{\"filerName\":\"BROD FRANK H\",\"transactionText\":\"Stock Award(Grant) at price 0.00 per share.\",\"moneyText\":\"\",\"ownership\":\"D\",\"startDate\":{\"raw\":1568764800,\"fmt\":\"2019-09-18\"},\"value\":{\"raw\":0,\"fmt\":null,\"longFmt\":\"0\"},\"filerRelation\":\"Officer\",\"shares\":{\"raw\":15974,\"fmt\":\"15.97k\",\"longFmt\":\"15,974\"},\"filerUrl\":\"\",\"maxAge\":1},{\"filerName\":\"COURTOIS JEAN-PHILIPPE\",\"transactionText\":\"Stock Award(Grant) at price 0.00 per share.\",\"moneyText\":\"\",\"ownership\":\"D\",\"startDate\":{\"raw\":1568764800,\"fmt\":\"2019-09-18\"},\"value\":{\"raw\":0,\"fmt\":null,\"longFmt\":\"0\"},\"filerRelation\":\"Officer\",\"shares\":{\"raw\":27202,\"fmt\":\"27.2k\",\"longFmt\":\"27,202\"},\"filerUrl\":\"\",\"maxAge\":1},{\"filerName\":\"NADELLA SATYA\",\"transactionText\":\"Stock Award(Grant) at price 0.00 per share.\",\"moneyText\":\"\",\"ownership\":\"D\",\"startDate\":{\"raw\":1568764800,\"fmt\":\"2019-09-18\"},\"value\":{\"raw\":0,\"fmt\":null,\"longFmt\":\"0\"},\"filerRelation\":\"Chief Executive Officer\",\"shares\":{\"raw\":90672,\"fmt\":\"90.67k\",\"longFmt\":\"90,672\"},\"filerUrl\":\"\",\"maxAge\":1},{\"filerName\":\"SMITH BRADFORD LEE\",\"transactionText\":\"Stock Award(Grant) at price 0.00 per share.\",\"moneyText\":\"\",\"ownership\":\"D\",\"startDate\":{\"raw\":1568764800,\"fmt\":\"2019-09-18\"},\"value\":{\"raw\":0,\"fmt\":null,\"longFmt\":\"0\"},\"filerRelation\":\"President\",\"shares\":{\"raw\":33368,\"fmt\":\"33.37k\",\"longFmt\":\"33,368\"},\"filerUrl\":\"\",\"maxAge\":1},{\"filerName\":\"JOHNSON MARGARET L\",\"transactionText\":\"Stock Award(Grant) at price 0.00 per share.\",\"moneyText\":\"\",\"ownership\":\"D\",\"startDate\":{\"raw\":1568764800,\"fmt\":\"2019-09-18\"},\"value\":{\"raw\":0,\"fmt\":null,\"longFmt\":\"0\"},\"filerRelation\":\"Officer\",\"shares\":{\"raw\":18135,\"fmt\":\"18.14k\",\"longFmt\":\"18,135\"},\"filerUrl\":\"\",\"maxAge\":1},{\"filerName\":\"HOOD AMY E\",\"transactionText\":\"Stock Award(Grant) at price 0.00 per share.\",\"moneyText\":\"\",\"ownership\":\"D\",\"startDate\":{\"raw\":1568764800,\"fmt\":\"2019-09-18\"},\"value\":{\"raw\":0,\"fmt\":null,\"longFmt\":\"0\"},\"filerRelation\":\"Chief Financial Officer\",\"shares\":{\"raw\":40621,\"fmt\":\"40.62k\",\"longFmt\":\"40,621\"},\"filerUrl\":\"\",\"maxAge\":1},{\"filerName\":\"CAPOSSELA CHRISTOPHER C\",\"transactionText\":\"Stock Award(Grant) at price 0.00 per share.\",\"moneyText\":\"\",\"ownership\":\"D\",\"startDate\":{\"raw\":1568764800,\"fmt\":\"2019-09-18\"},\"value\":{\"raw\":0,\"fmt\":null,\"longFmt\":\"0\"},\"filerRelation\":\"Officer\",\"shares\":{\"raw\":16865,\"fmt\":\"16.86k\",\"longFmt\":\"16,865\"},\"filerUrl\":\"\",\"maxAge\":1},{\"filerName\":\"HOGAN KATHLEEN T\",\"transactionText\":\"Stock Award(Grant) at price 0.00 per share.\",\"moneyText\":\"\",\"ownership\":\"D\",\"startDate\":{\"raw\":1568764800,\"fmt\":\"2019-09-18\"},\"value\":{\"raw\":0,\"fmt\":null,\"longFmt\":\"0\"},\"filerRelation\":\"Officer\",\"shares\":{\"raw\":16321,\"fmt\":\"16.32k\",\"longFmt\":\"16,321\"},\"filerUrl\":\"\",\"maxAge\":1},{\"filerName\":\"CAPOSSELA CHRISTOPHER C\",\"transactionText\":\"Sale at price 135.58 per share.\",\"moneyText\":\"\",\"ownership\":\"D\",\"startDate\":{\"raw\":1568073600,\"fmt\":\"2019-09-10\"},\"value\":{\"raw\":1220217,\"fmt\":\"1.22M\",\"longFmt\":\"1,220,217\"},\"filerRelation\":\"Officer\",\"shares\":{\"raw\":9000,\"fmt\":\"9k\",\"longFmt\":\"9,000\"},\"filerUrl\":\"\",\"maxAge\":1},{\"filerName\":\"HOGAN KATHLEEN T\",\"transactionText\":\"Sale at price 135.25 per share.\",\"moneyText\":\"\",\"ownership\":\"D\",\"startDate\":{\"raw\":1568073600,\"fmt\":\"2019-09-10\"},\"value\":{\"raw\":5409972,\"fmt\":\"5.41M\",\"longFmt\":\"5,409,972\"},\"filerRelation\":\"Officer\",\"shares\":{\"raw\":40000,\"fmt\":\"40k\",\"longFmt\":\"40,000\"},\"filerUrl\":\"\",\"maxAge\":1},{\"filerName\":\"CAPOSSELA CHRISTOPHER C\",\"transactionText\":\"Sale at price 139.84 - 140.10 per share.\",\"moneyText\":\"\",\"ownership\":\"D\",\"startDate\":{\"raw\":1567728000,\"fmt\":\"2019-09-06\"},\"value\":{\"raw\":2588616,\"fmt\":\"2.59M\",\"longFmt\":\"2,588,616\"},\"filerRelation\":\"Officer\",\"shares\":{\"raw\":18500,\"fmt\":\"18.5k\",\"longFmt\":\"18,500\"},\"filerUrl\":\"\",\"maxAge\":1},{\"filerName\":\"COURTOIS JEAN-PHILIPPE\",\"transactionText\":\"Sale at price 140.00 per share.\",\"moneyText\":\"\",\"ownership\":\"D\",\"startDate\":{\"raw\":1567641600,\"fmt\":\"2019-09-05\"},\"value\":{\"raw\":1649060,\"fmt\":\"1.65M\",\"longFmt\":\"1,649,060\"},\"filerRelation\":\"Officer\",\"shares\":{\"raw\":11779,\"fmt\":\"11.78k\",\"longFmt\":\"11,779\"},\"filerUrl\":\"\",\"maxAge\":1},{\"filerName\":\"CAPOSSELA CHRISTOPHER C\",\"transactionText\":\"Sale at price 139.35 per share.\",\"moneyText\":\"\",\"ownership\":\"D\",\"startDate\":{\"raw\":1567641600,\"fmt\":\"2019-09-05\"},\"value\":{\"raw\":1741938,\"fmt\":\"1.74M\",\"longFmt\":\"1,741,938\"},\"filerRelation\":\"Officer\",\"shares\":{\"raw\":12500,\"fmt\":\"12.5k\",\"longFmt\":\"12,500\"},\"filerUrl\":\"\",\"maxAge\":1},{\"filerName\":\"BROD FRANK H\",\"transactionText\":\"Sale at price 137.17 per share.\",\"moneyText\":\"\",\"ownership\":\"D\",\"startDate\":{\"raw\":1567555200,\"fmt\":\"2019-09-04\"},\"value\":{\"raw\":548680,\"fmt\":\"548.68k\",\"longFmt\":\"548,680\"},\"filerRelation\":\"Officer\",\"shares\":{\"raw\":4000,\"fmt\":\"4k\",\"longFmt\":\"4,000\"},\"filerUrl\":\"\",\"maxAge\":1},{\"filerName\":\"NADELLA SATYA\",\"transactionText\":\"Sale at price 137.16 - 137.54 per share.\",\"moneyText\":\"\",\"ownership\":\"D\",\"startDate\":{\"raw\":1567555200,\"fmt\":\"2019-09-04\"},\"value\":{\"raw\":13697323,\"fmt\":\"13.7M\",\"longFmt\":\"13,697,323\"},\"filerRelation\":\"Chief Executive Officer\",\"shares\":{\"raw\":99837,\"fmt\":\"99.84k\",\"longFmt\":\"99,837\"},\"filerUrl\":\"\",\"maxAge\":1},{\"filerName\":\"HOOD AMY E\",\"transactionText\":\"Sale at price 137.26 per share.\",\"moneyText\":\"\",\"ownership\":\"D\",\"startDate\":{\"raw\":1567555200,\"fmt\":\"2019-09-04\"},\"value\":{\"raw\":16988657,\"fmt\":\"16.99M\",\"longFmt\":\"16,988,657\"},\"filerRelation\":\"Chief Financial Officer\",\"shares\":{\"raw\":123769,\"fmt\":\"123.77k\",\"longFmt\":\"123,769\"},\"filerUrl\":\"\",\"maxAge\":1},{\"filerName\":\"COURTOIS JEAN-PHILIPPE\",\"transactionText\":\"Stock Award(Grant) at price 0.00 per share.\",\"moneyText\":\"\",\"ownership\":\"D\",\"startDate\":{\"raw\":1567468800,\"fmt\":\"2019-09-03\"},\"value\":{\"raw\":0,\"fmt\":null,\"longFmt\":\"0\"},\"filerRelation\":\"Officer\",\"shares\":{\"raw\":128262,\"fmt\":\"128.26k\",\"longFmt\":\"128,262\"},\"filerUrl\":\"\",\"maxAge\":1},{\"filerName\":\"NADELLA SATYA\",\"transactionText\":\"Stock Award(Grant) at price 0.00 per share.\",\"moneyText\":\"\",\"ownership\":\"D\",\"startDate\":{\"raw\":1567468800,\"fmt\":\"2019-09-03\"},\"value\":{\"raw\":0,\"fmt\":null,\"longFmt\":\"0\"},\"filerRelation\":\"Chief Executive Officer\",\"shares\":{\"raw\":256523,\"fmt\":\"256.52k\",\"longFmt\":\"256,523\"},\"filerUrl\":\"\",\"maxAge\":1},{\"filerName\":\"SMITH BRADFORD LEE\",\"transactionText\":\"Stock Award(Grant) at price 0.00 per share.\",\"moneyText\":\"\",\"ownership\":\"D\",\"startDate\":{\"raw\":1567468800,\"fmt\":\"2019-09-03\"},\"value\":{\"raw\":0,\"fmt\":null,\"longFmt\":\"0\"},\"filerRelation\":\"President\",\"shares\":{\"raw\":140233,\"fmt\":\"140.23k\",\"longFmt\":\"140,233\"},\"filerUrl\":\"\",\"maxAge\":1},{\"filerName\":\"JOHNSON MARGARET L\",\"transactionText\":\"Stock Award(Grant) at price 0.00 per share.\",\"moneyText\":\"\",\"ownership\":\"D\",\"startDate\":{\"raw\":1567468800,\"fmt\":\"2019-09-03\"},\"value\":{\"raw\":0,\"fmt\":null,\"longFmt\":\"0\"},\"filerRelation\":\"Officer\",\"shares\":{\"raw\":85509,\"fmt\":\"85.51k\",\"longFmt\":\"85,509\"},\"filerUrl\":\"\",\"maxAge\":1},{\"filerName\":\"HOOD AMY E\",\"transactionText\":\"Stock Award(Grant) at price 0.00 per share.\",\"moneyText\":\"\",\"ownership\":\"D\",\"startDate\":{\"raw\":1567468800,\"fmt\":\"2019-09-03\"},\"value\":{\"raw\":0,\"fmt\":null,\"longFmt\":\"0\"},\"filerRelation\":\"Chief Financial Officer\",\"shares\":{\"raw\":159044,\"fmt\":\"159.04k\",\"longFmt\":\"159,044\"},\"filerUrl\":\"\",\"maxAge\":1},{\"filerName\":\"CAPOSSELA CHRISTOPHER C\",\"transactionText\":\"Stock Award(Grant) at price 0.00 per share.\",\"moneyText\":\"\",\"ownership\":\"D\",\"startDate\":{\"raw\":1567468800,\"fmt\":\"2019-09-03\"},\"value\":{\"raw\":0,\"fmt\":null,\"longFmt\":\"0\"},\"filerRelation\":\"Officer\",\"shares\":{\"raw\":73538,\"fmt\":\"73.54k\",\"longFmt\":\"73,538\"},\"filerUrl\":\"\",\"maxAge\":1},{\"filerName\":\"HOGAN KATHLEEN T\",\"transactionText\":\"Stock Award(Grant) at price 0.00 per share.\",\"moneyText\":\"\",\"ownership\":\"D\",\"startDate\":{\"raw\":1567468800,\"fmt\":\"2019-09-03\"},\"value\":{\"raw\":0,\"fmt\":null,\"longFmt\":\"0\"},\"filerRelation\":\"Officer\",\"shares\":{\"raw\":71828,\"fmt\":\"71.83k\",\"longFmt\":\"71,828\"},\"filerUrl\":\"\",\"maxAge\":1},{\"filerName\":\"SCHARF CHARLES W\",\"transactionText\":\"Stock Award(Grant) at price 0.00 per share.\",\"moneyText\":\"\",\"ownership\":\"D\",\"startDate\":{\"raw\":1567036800,\"fmt\":\"2019-08-29\"},\"value\":{\"raw\":0,\"fmt\":null,\"longFmt\":\"0\"},\"filerRelation\":\"Director\",\"shares\":{\"raw\":369,\"fmt\":\"369\",\"longFmt\":\"369\"},\"filerUrl\":\"\",\"maxAge\":1},{\"filerName\":\"PANKE HELMUT\",\"transactionText\":\"Stock Award(Grant) at price 0.00 per share.\",\"moneyText\":\"\",\"ownership\":\"D\",\"startDate\":{\"raw\":1567036800,\"fmt\":\"2019-08-29\"},\"value\":{\"raw\":0,\"fmt\":null,\"longFmt\":\"0\"},\"filerRelation\":\"Director\",\"shares\":{\"raw\":369,\"fmt\":\"369\",\"longFmt\":\"369\"},\"filerUrl\":\"\",\"maxAge\":1},{\"filerName\":\"SORENSON ARNE M\",\"transactionText\":\"Stock Award(Grant) at price 0.00 per share.\",\"moneyText\":\"\",\"ownership\":\"D\",\"startDate\":{\"raw\":1567036800,\"fmt\":\"2019-08-29\"},\"value\":{\"raw\":0,\"fmt\":null,\"longFmt\":\"0\"},\"filerRelation\":\"Director\",\"shares\":{\"raw\":369,\"fmt\":\"369\",\"longFmt\":\"369\"},\"filerUrl\":\"\",\"maxAge\":1},{\"filerName\":\"STANTON JOHN\",\"transactionText\":\"Stock Award(Grant) at price 0.00 per share.\",\"moneyText\":\"\",\"ownership\":\"D\",\"startDate\":{\"raw\":1567036800,\"fmt\":\"2019-08-29\"},\"value\":{\"raw\":0,\"fmt\":null,\"longFmt\":\"0\"},\"filerRelation\":\"Director\",\"shares\":{\"raw\":369,\"fmt\":\"369\",\"longFmt\":\"369\"},\"filerUrl\":\"\",\"maxAge\":1},{\"filerName\":\"WARRIOR PADMASREE\",\"transactionText\":\"Stock Award(Grant) at price 0.00 per share.\",\"moneyText\":\"\",\"ownership\":\"D\",\"startDate\":{\"raw\":1567036800,\"fmt\":\"2019-08-29\"},\"value\":{\"raw\":0,\"fmt\":null,\"longFmt\":\"0\"},\"filerRelation\":\"Director\",\"shares\":{\"raw\":369,\"fmt\":\"369\",\"longFmt\":\"369\"},\"filerUrl\":\"\",\"maxAge\":1},{\"filerName\":\"JOHNSTON HUGH F.\",\"transactionText\":\"Stock Award(Grant) at price 0.00 per share.\",\"moneyText\":\"\",\"ownership\":\"D\",\"startDate\":{\"raw\":1567036800,\"fmt\":\"2019-08-29\"},\"value\":{\"raw\":0,\"fmt\":null,\"longFmt\":\"0\"},\"filerRelation\":\"Director\",\"shares\":{\"raw\":369,\"fmt\":\"369\",\"longFmt\":\"369\"},\"filerUrl\":\"\",\"maxAge\":1},{\"filerName\":\"CAPOSSELA CHRISTOPHER C\",\"transactionText\":\"Sale at price 138.15 per share.\",\"moneyText\":\"\",\"ownership\":\"D\",\"startDate\":{\"raw\":1565654400,\"fmt\":\"2019-08-13\"},\"value\":{\"raw\":967050,\"fmt\":\"967.05k\",\"longFmt\":\"967,050\"},\"filerRelation\":\"Officer\",\"shares\":{\"raw\":7000,\"fmt\":\"7k\",\"longFmt\":\"7,000\"},\"filerUrl\":\"\",\"maxAge\":1},{\"filerName\":\"CAPOSSELA CHRISTOPHER C\",\"transactionText\":\"Sale at price 138.00 per share.\",\"moneyText\":\"\",\"ownership\":\"D\",\"startDate\":{\"raw\":1565222400,\"fmt\":\"2019-08-08\"},\"value\":{\"raw\":483006,\"fmt\":\"483.01k\",\"longFmt\":\"483,006\"},\"filerRelation\":\"Officer\",\"shares\":{\"raw\":3500,\"fmt\":\"3.5k\",\"longFmt\":\"3,500\"},\"filerUrl\":\"\",\"maxAge\":1},{\"filerName\":\"CAPOSSELA CHRISTOPHER C\",\"transactionText\":\"Sale at price 138.06 per share.\",\"moneyText\":\"\",\"ownership\":\"D\",\"startDate\":{\"raw\":1564617600,\"fmt\":\"2019-08-01\"},\"value\":{\"raw\":465542,\"fmt\":\"465.54k\",\"longFmt\":\"465,542\"},\"filerRelation\":\"Officer\",\"shares\":{\"raw\":3372,\"fmt\":\"3.37k\",\"longFmt\":\"3,372\"},\"filerUrl\":\"\",\"maxAge\":1},{\"filerName\":\"CAPOSSELA CHRISTOPHER C\",\"transactionText\":\"Stock Gift at price 0.00 per share.\",\"moneyText\":\"\",\"ownership\":\"D\",\"startDate\":{\"raw\":1564531200,\"fmt\":\"2019-07-31\"},\"value\":{\"raw\":0,\"fmt\":null,\"longFmt\":\"0\"},\"filerRelation\":\"Officer\",\"shares\":{\"raw\":5311,\"fmt\":\"5.31k\",\"longFmt\":\"5,311\"},\"filerUrl\":\"\",\"maxAge\":1},{\"filerName\":\"BROD FRANK H\",\"transactionText\":\"Sale at price 141.05 per share.\",\"moneyText\":\"\",\"ownership\":\"D\",\"startDate\":{\"raw\":1564358400,\"fmt\":\"2019-07-29\"},\"value\":{\"raw\":564216,\"fmt\":\"564.22k\",\"longFmt\":\"564,216\"},\"filerRelation\":\"Officer\",\"shares\":{\"raw\":4000,\"fmt\":\"4k\",\"longFmt\":\"4,000\"},\"filerUrl\":\"\",\"maxAge\":1},{\"filerName\":\"HOGAN KATHLEEN T\",\"transactionText\":\"Sale at price 133.17 per share.\",\"moneyText\":\"\",\"ownership\":\"D\",\"startDate\":{\"raw\":1560124800,\"fmt\":\"2019-06-10\"},\"value\":{\"raw\":2123654,\"fmt\":\"2.12M\",\"longFmt\":\"2,123,654\"},\"filerRelation\":\"Officer\",\"shares\":{\"raw\":15947,\"fmt\":\"15.95k\",\"longFmt\":\"15,947\"},\"filerUrl\":\"\",\"maxAge\":1},{\"filerName\":\"COURTOIS JEAN-PHILIPPE\",\"transactionText\":\"Stock Gift at price 0.00 per share.\",\"moneyText\":\"\",\"ownership\":\"D\",\"startDate\":{\"raw\":1559088000,\"fmt\":\"2019-05-29\"},\"value\":{\"raw\":0,\"fmt\":null,\"longFmt\":\"0\"},\"filerRelation\":\"Officer\",\"shares\":{\"raw\":5000,\"fmt\":\"5k\",\"longFmt\":\"5,000\"},\"filerUrl\":\"\",\"maxAge\":1},{\"filerName\":\"SCHARF CHARLES W\",\"transactionText\":\"Stock Award(Grant) at price 0.00 per share.\",\"moneyText\":\"\",\"ownership\":\"D\",\"startDate\":{\"raw\":1559001600,\"fmt\":\"2019-05-28\"},\"value\":{\"raw\":0,\"fmt\":null,\"longFmt\":\"0\"},\"filerRelation\":\"Director\",\"shares\":{\"raw\":396,\"fmt\":\"396\",\"longFmt\":\"396\"},\"filerUrl\":\"\",\"maxAge\":1},{\"filerName\":\"PANKE HELMUT\",\"transactionText\":\"Stock Award(Grant) at price 0.00 per share.\",\"moneyText\":\"\",\"ownership\":\"D\",\"startDate\":{\"raw\":1559001600,\"fmt\":\"2019-05-28\"},\"value\":{\"raw\":0,\"fmt\":null,\"longFmt\":\"0\"},\"filerRelation\":\"Director\",\"shares\":{\"raw\":396,\"fmt\":\"396\",\"longFmt\":\"396\"},\"filerUrl\":\"\",\"maxAge\":1},{\"filerName\":\"SORENSON ARNE M\",\"transactionText\":\"Stock Award(Grant) at price 0.00 per share.\",\"moneyText\":\"\",\"ownership\":\"D\",\"startDate\":{\"raw\":1559001600,\"fmt\":\"2019-05-28\"},\"value\":{\"raw\":0,\"fmt\":null,\"longFmt\":\"0\"},\"filerRelation\":\"Director\",\"shares\":{\"raw\":396,\"fmt\":\"396\",\"longFmt\":\"396\"},\"filerUrl\":\"\",\"maxAge\":1},{\"filerName\":\"STANTON JOHN\",\"transactionText\":\"Stock Award(Grant) at price 0.00 per share.\",\"moneyText\":\"\",\"ownership\":\"D\",\"startDate\":{\"raw\":1559001600,\"fmt\":\"2019-05-28\"},\"value\":{\"raw\":0,\"fmt\":null,\"longFmt\":\"0\"},\"filerRelation\":\"Director\",\"shares\":{\"raw\":396,\"fmt\":\"396\",\"longFmt\":\"396\"},\"filerUrl\":\"\",\"maxAge\":1},{\"filerName\":\"WARRIOR PADMASREE\",\"transactionText\":\"Stock Award(Grant) at price 0.00 per share.\",\"moneyText\":\"\",\"ownership\":\"D\",\"startDate\":{\"raw\":1559001600,\"fmt\":\"2019-05-28\"},\"value\":{\"raw\":0,\"fmt\":null,\"longFmt\":\"0\"},\"filerRelation\":\"Director\",\"shares\":{\"raw\":396,\"fmt\":\"396\",\"longFmt\":\"396\"},\"filerUrl\":\"\",\"maxAge\":1},{\"filerName\":\"JOHNSTON HUGH F.\",\"transactionText\":\"Stock Award(Grant) at price 0.00 per share.\",\"moneyText\":\"\",\"ownership\":\"D\",\"startDate\":{\"raw\":1559001600,\"fmt\":\"2019-05-28\"},\"value\":{\"raw\":0,\"fmt\":null,\"longFmt\":\"0\"},\"filerRelation\":\"Director\",\"shares\":{\"raw\":396,\"fmt\":\"396\",\"longFmt\":\"396\"},\"filerUrl\":\"\",\"maxAge\":1},{\"filerName\":\"CAPOSSELA CHRISTOPHER C\",\"transactionText\":\"Sale at price 125.53 - 126.34 per share.\",\"moneyText\":\"\",\"ownership\":\"D\",\"startDate\":{\"raw\":1557878400,\"fmt\":\"2019-05-15\"},\"value\":{\"raw\":630099,\"fmt\":\"630.1k\",\"longFmt\":\"630,099\"},\"filerRelation\":\"Officer\",\"shares\":{\"raw\":5000,\"fmt\":\"5k\",\"longFmt\":\"5,000\"},\"filerUrl\":\"\",\"maxAge\":1},{\"filerName\":\"CAPOSSELA CHRISTOPHER C\",\"transactionText\":\"Stock Gift at price 0.00 per share.\",\"moneyText\":\"\",\"ownership\":\"D\",\"startDate\":{\"raw\":1557273600,\"fmt\":\"2019-05-08\"},\"value\":{\"raw\":0,\"fmt\":null,\"longFmt\":\"0\"},\"filerRelation\":\"Officer\",\"shares\":{\"raw\":1600,\"fmt\":\"1.6k\",\"longFmt\":\"1,600\"},\"filerUrl\":\"\",\"maxAge\":1},{\"filerName\":\"CAPOSSELA CHRISTOPHER C\",\"transactionText\":\"Sale at price 128.87 per share.\",\"moneyText\":\"\",\"ownership\":\"D\",\"startDate\":{\"raw\":1556841600,\"fmt\":\"2019-05-03\"},\"value\":{\"raw\":386620,\"fmt\":\"386.62k\",\"longFmt\":\"386,620\"},\"filerRelation\":\"Officer\",\"shares\":{\"raw\":3000,\"fmt\":\"3k\",\"longFmt\":\"3,000\"},\"filerUrl\":\"\",\"maxAge\":1},{\"filerName\":\"SMITH BRADFORD LEE\",\"transactionText\":\"Sale at price 130.34 per share.\",\"moneyText\":\"\",\"ownership\":\"D\",\"startDate\":{\"raw\":1556582400,\"fmt\":\"2019-04-30\"},\"value\":{\"raw\":25064209,\"fmt\":\"25.06M\",\"longFmt\":\"25,064,209\"},\"filerRelation\":\"President\",\"shares\":{\"raw\":192300,\"fmt\":\"192.3k\",\"longFmt\":\"192,300\"},\"filerUrl\":\"\",\"maxAge\":1},{\"filerName\":\"SMITH BRADFORD LEE\",\"transactionText\":\"Stock Gift at price 0.00 per share.\",\"moneyText\":\"\",\"ownership\":\"D\",\"startDate\":{\"raw\":1554249600,\"fmt\":\"2019-04-03\"},\"value\":{\"raw\":0,\"fmt\":null,\"longFmt\":\"0\"},\"filerRelation\":\"President\",\"shares\":{\"raw\":8405,\"fmt\":\"8.4k\",\"longFmt\":\"8,405\"},\"filerUrl\":\"\",\"maxAge\":1},{\"filerName\":\"CAPOSSELA CHRISTOPHER C\",\"transactionText\":\"Sale at price 110.46 - 112.41 per share.\",\"moneyText\":\"\",\"ownership\":\"D\",\"startDate\":{\"raw\":1552262400,\"fmt\":\"2019-03-11\"},\"value\":{\"raw\":1170543,\"fmt\":\"1.17M\",\"longFmt\":\"1,170,543\"},\"filerRelation\":\"Officer\",\"shares\":{\"raw\":10500,\"fmt\":\"10.5k\",\"longFmt\":\"10,500\"},\"filerUrl\":\"\",\"maxAge\":1},{\"filerName\":\"NADELLA SATYA\",\"transactionText\":\"Sale at price 112.27 - 112.80 per share.\",\"moneyText\":\"\",\"ownership\":\"D\",\"startDate\":{\"raw\":1551398400,\"fmt\":\"2019-03-01\"},\"value\":{\"raw\":1722189,\"fmt\":\"1.72M\",\"longFmt\":\"1,722,189\"},\"filerRelation\":\"Chief Executive Officer\",\"shares\":{\"raw\":15334,\"fmt\":\"15.33k\",\"longFmt\":\"15,334\"},\"filerUrl\":\"\",\"maxAge\":1},{\"filerName\":\"BROD FRANK H\",\"transactionText\":\"Sale at price 112.76 per share.\",\"moneyText\":\"\",\"ownership\":\"D\",\"startDate\":{\"raw\":1551312000,\"fmt\":\"2019-02-28\"},\"value\":{\"raw\":814127,\"fmt\":\"814.13k\",\"longFmt\":\"814,127\"},\"filerRelation\":\"Officer\",\"shares\":{\"raw\":7220,\"fmt\":\"7.22k\",\"longFmt\":\"7,220\"},\"filerUrl\":\"\",\"maxAge\":1},{\"filerName\":\"COURTOIS JEAN-PHILIPPE\",\"transactionText\":\"Sale at price 108.14 per share.\",\"moneyText\":\"\",\"ownership\":\"D\",\"startDate\":{\"raw\":1550188800,\"fmt\":\"2019-02-15\"},\"value\":{\"raw\":3043757,\"fmt\":\"3.04M\",\"longFmt\":\"3,043,757\"},\"filerRelation\":\"Officer\",\"shares\":{\"raw\":28147,\"fmt\":\"28.15k\",\"longFmt\":\"28,147\"},\"filerUrl\":\"\",\"maxAge\":1},{\"filerName\":\"NADELLA SATYA\",\"transactionText\":\"Stock Award(Grant) at price 0.00 per share.\",\"moneyText\":\"\",\"ownership\":\"D\",\"startDate\":{\"raw\":1549411200,\"fmt\":\"2019-02-06\"},\"value\":{\"raw\":0,\"fmt\":null,\"longFmt\":\"0\"},\"filerRelation\":\"Chief Executive Officer\",\"shares\":{\"raw\":900000,\"fmt\":\"900k\",\"longFmt\":\"900,000\"},\"filerUrl\":\"\",\"maxAge\":1},{\"filerName\":\"NADELLA SATYA\",\"transactionText\":\"Sale at price 106.01 per share.\",\"moneyText\":\"\",\"ownership\":\"D\",\"startDate\":{\"raw\":1549411200,\"fmt\":\"2019-02-06\"},\"value\":{\"raw\":28354525,\"fmt\":\"28.35M\",\"longFmt\":\"28,354,525\"},\"filerRelation\":\"Chief Executive Officer\",\"shares\":{\"raw\":267466,\"fmt\":\"267.47k\",\"longFmt\":\"267,466\"},\"filerUrl\":\"\",\"maxAge\":1},{\"filerName\":\"SCHARF CHARLES W\",\"transactionText\":\"Stock Award(Grant) at price 0.00 per share.\",\"moneyText\":\"\",\"ownership\":\"D\",\"startDate\":{\"raw\":1548892800,\"fmt\":\"2019-01-31\"},\"value\":{\"raw\":0,\"fmt\":null,\"longFmt\":\"0\"},\"filerRelation\":\"Director\",\"shares\":{\"raw\":478,\"fmt\":\"478\",\"longFmt\":\"478\"},\"filerUrl\":\"\",\"maxAge\":1},{\"filerName\":\"PANKE HELMUT\",\"transactionText\":\"Stock Award(Grant) at price 0.00 per share.\",\"moneyText\":\"\",\"ownership\":\"D\",\"startDate\":{\"raw\":1548892800,\"fmt\":\"2019-01-31\"},\"value\":{\"raw\":0,\"fmt\":null,\"longFmt\":\"0\"},\"filerRelation\":\"Director\",\"shares\":{\"raw\":478,\"fmt\":\"478\",\"longFmt\":\"478\"},\"filerUrl\":\"\",\"maxAge\":1},{\"filerName\":\"SORENSON ARNE M\",\"transactionText\":\"Stock Award(Grant) at price 0.00 per share.\",\"moneyText\":\"\",\"ownership\":\"D\",\"startDate\":{\"raw\":1548892800,\"fmt\":\"2019-01-31\"},\"value\":{\"raw\":0,\"fmt\":null,\"longFmt\":\"0\"},\"filerRelation\":\"Director\",\"shares\":{\"raw\":478,\"fmt\":\"478\",\"longFmt\":\"478\"},\"filerUrl\":\"\",\"maxAge\":1},{\"filerName\":\"STANTON JOHN\",\"transactionText\":\"Stock Award(Grant) at price 0.00 per share.\",\"moneyText\":\"\",\"ownership\":\"D\",\"startDate\":{\"raw\":1548892800,\"fmt\":\"2019-01-31\"},\"value\":{\"raw\":0,\"fmt\":null,\"longFmt\":\"0\"},\"filerRelation\":\"Director\",\"shares\":{\"raw\":478,\"fmt\":\"478\",\"longFmt\":\"478\"},\"filerUrl\":\"\",\"maxAge\":1},{\"filerName\":\"WARRIOR PADMASREE\",\"transactionText\":\"Stock Award(Grant) at price 0.00 per share.\",\"moneyText\":\"\",\"ownership\":\"D\",\"startDate\":{\"raw\":1548892800,\"fmt\":\"2019-01-31\"},\"value\":{\"raw\":0,\"fmt\":null,\"longFmt\":\"0\"},\"filerRelation\":\"Director\",\"shares\":{\"raw\":478,\"fmt\":\"478\",\"longFmt\":\"478\"},\"filerUrl\":\"\",\"maxAge\":1},{\"filerName\":\"JOHNSTON HUGH F.\",\"transactionText\":\"Stock Award(Grant) at price 0.00 per share.\",\"moneyText\":\"\",\"ownership\":\"D\",\"startDate\":{\"raw\":1548892800,\"fmt\":\"2019-01-31\"},\"value\":{\"raw\":0,\"fmt\":null,\"longFmt\":\"0\"},\"filerRelation\":\"Director\",\"shares\":{\"raw\":478,\"fmt\":\"478\",\"longFmt\":\"478\"},\"filerUrl\":\"\",\"maxAge\":1},{\"filerName\":\"CAPOSSELA CHRISTOPHER C\",\"transactionText\":\"Stock Gift at price 0.00 per share.\",\"moneyText\":\"\",\"ownership\":\"D\",\"startDate\":{\"raw\":1544486400,\"fmt\":\"2018-12-11\"},\"value\":{\"raw\":0,\"fmt\":null,\"longFmt\":\"0\"},\"filerRelation\":\"Officer\",\"shares\":{\"raw\":3600,\"fmt\":\"3.6k\",\"longFmt\":\"3,600\"},\"filerUrl\":\"\",\"maxAge\":1},{\"filerName\":\"CAPOSSELA CHRISTOPHER C\",\"transactionText\":\"Sale at price 105.50 per share.\",\"moneyText\":\"\",\"ownership\":\"D\",\"startDate\":{\"raw\":1544400000,\"fmt\":\"2018-12-10\"},\"value\":{\"raw\":422000,\"fmt\":\"422k\",\"longFmt\":\"422,000\"},\"filerRelation\":\"Officer\",\"shares\":{\"raw\":4000,\"fmt\":\"4k\",\"longFmt\":\"4,000\"},\"filerUrl\":\"\",\"maxAge\":1},{\"filerName\":\"CAPOSSELA CHRISTOPHER C\",\"transactionText\":\"Sale at price 108.00 per share.\",\"moneyText\":\"\",\"ownership\":\"D\",\"startDate\":{\"raw\":1544054400,\"fmt\":\"2018-12-06\"},\"value\":{\"raw\":432000,\"fmt\":\"432k\",\"longFmt\":\"432,000\"},\"filerRelation\":\"Officer\",\"shares\":{\"raw\":4000,\"fmt\":\"4k\",\"longFmt\":\"4,000\"},\"filerUrl\":\"\",\"maxAge\":1},{\"filerName\":\"SMITH BRADFORD LEE\",\"transactionText\":\"Stock Gift at price 0.00 per share.\",\"moneyText\":\"\",\"ownership\":\"D\",\"startDate\":{\"raw\":1543881600,\"fmt\":\"2018-12-04\"},\"value\":{\"raw\":0,\"fmt\":null,\"longFmt\":\"0\"},\"filerRelation\":\"President\",\"shares\":{\"raw\":14000,\"fmt\":\"14k\",\"longFmt\":\"14,000\"},\"filerUrl\":\"\",\"maxAge\":1},{\"filerName\":\"CAPOSSELA CHRISTOPHER C\",\"transactionText\":\"Sale at price 111.77 per share.\",\"moneyText\":\"\",\"ownership\":\"D\",\"startDate\":{\"raw\":1543795200,\"fmt\":\"2018-12-03\"},\"value\":{\"raw\":1117660,\"fmt\":\"1.12M\",\"longFmt\":\"1,117,660\"},\"filerRelation\":\"Officer\",\"shares\":{\"raw\":10000,\"fmt\":\"10k\",\"longFmt\":\"10,000\"},\"filerUrl\":\"\",\"maxAge\":1},{\"filerName\":\"SCHARF CHARLES W\",\"transactionText\":\"Stock Award(Grant) at price 0.00 per share.\",\"moneyText\":\"\",\"ownership\":\"D\",\"startDate\":{\"raw\":1543276800,\"fmt\":\"2018-11-27\"},\"value\":{\"raw\":0,\"fmt\":null,\"longFmt\":\"0\"},\"filerRelation\":\"Director\",\"shares\":{\"raw\":467,\"fmt\":\"467\",\"longFmt\":\"467\"},\"filerUrl\":\"\",\"maxAge\":1},{\"filerName\":\"PANKE HELMUT\",\"transactionText\":\"Stock Award(Grant) at price 0.00 per share.\",\"moneyText\":\"\",\"ownership\":\"D\",\"startDate\":{\"raw\":1543276800,\"fmt\":\"2018-11-27\"},\"value\":{\"raw\":0,\"fmt\":null,\"longFmt\":\"0\"},\"filerRelation\":\"Director\",\"shares\":{\"raw\":467,\"fmt\":\"467\",\"longFmt\":\"467\"},\"filerUrl\":\"\",\"maxAge\":1},{\"filerName\":\"SORENSON ARNE M\",\"transactionText\":\"Stock Award(Grant) at price 0.00 per share.\",\"moneyText\":\"\",\"ownership\":\"D\",\"startDate\":{\"raw\":1543276800,\"fmt\":\"2018-11-27\"},\"value\":{\"raw\":0,\"fmt\":null,\"longFmt\":\"0\"},\"filerRelation\":\"Director\",\"shares\":{\"raw\":467,\"fmt\":\"467\",\"longFmt\":\"467\"},\"filerUrl\":\"\",\"maxAge\":1},{\"filerName\":\"STANTON JOHN\",\"transactionText\":\"Stock Award(Grant) at price 0.00 per share.\",\"moneyText\":\"\",\"ownership\":\"D\",\"startDate\":{\"raw\":1543276800,\"fmt\":\"2018-11-27\"},\"value\":{\"raw\":0,\"fmt\":null,\"longFmt\":\"0\"},\"filerRelation\":\"Director\",\"shares\":{\"raw\":467,\"fmt\":\"467\",\"longFmt\":\"467\"},\"filerUrl\":\"\",\"maxAge\":1},{\"filerName\":\"WARRIOR PADMASREE\",\"transactionText\":\"Stock Award(Grant) at price 0.00 per share.\",\"moneyText\":\"\",\"ownership\":\"D\",\"startDate\":{\"raw\":1543276800,\"fmt\":\"2018-11-27\"},\"value\":{\"raw\":0,\"fmt\":null,\"longFmt\":\"0\"},\"filerRelation\":\"Director\",\"shares\":{\"raw\":467,\"fmt\":\"467\",\"longFmt\":\"467\"},\"filerUrl\":\"\",\"maxAge\":1},{\"filerName\":\"JOHNSTON HUGH F.\",\"transactionText\":\"Stock Award(Grant) at price 0.00 per share.\",\"moneyText\":\"\",\"ownership\":\"D\",\"startDate\":{\"raw\":1543276800,\"fmt\":\"2018-11-27\"},\"value\":{\"raw\":0,\"fmt\":null,\"longFmt\":\"0\"},\"filerRelation\":\"Director\",\"shares\":{\"raw\":467,\"fmt\":\"467\",\"longFmt\":\"467\"},\"filerUrl\":\"\",\"maxAge\":1},{\"filerName\":\"HOGAN KATHLEEN T\",\"transactionText\":\"Sale at price 111.28 per share.\",\"moneyText\":\"\",\"ownership\":\"D\",\"startDate\":{\"raw\":1541635200,\"fmt\":\"2018-11-08\"},\"value\":{\"raw\":4061866,\"fmt\":\"4.06M\",\"longFmt\":\"4,061,866\"},\"filerRelation\":\"Officer\",\"shares\":{\"raw\":36500,\"fmt\":\"36.5k\",\"longFmt\":\"36,500\"},\"filerUrl\":\"\",\"maxAge\":1},{\"filerName\":\"BROD FRANK H\",\"transactionText\":\"Sale at price 107.18 per share.\",\"moneyText\":\"\",\"ownership\":\"D\",\"startDate\":{\"raw\":1541376000,\"fmt\":\"2018-11-05\"},\"value\":{\"raw\":214363,\"fmt\":\"214.36k\",\"longFmt\":\"214,363\"},\"filerRelation\":\"Officer\",\"shares\":{\"raw\":2000,\"fmt\":\"2k\",\"longFmt\":\"2,000\"},\"filerUrl\":\"\",\"maxAge\":1},{\"filerName\":\"BROD FRANK H\",\"transactionText\":\"Sale at price 107.69 per share.\",\"moneyText\":\"\",\"ownership\":\"D\",\"startDate\":{\"raw\":1540944000,\"fmt\":\"2018-10-31\"},\"value\":{\"raw\":2153900,\"fmt\":\"2.15M\",\"longFmt\":\"2,153,900\"},\"filerRelation\":\"Officer\",\"shares\":{\"raw\":20000,\"fmt\":\"20k\",\"longFmt\":\"20,000\"},\"filerUrl\":\"\",\"maxAge\":1},{\"filerName\":\"NADELLA SATYA\",\"transactionText\":\"Sale at price 105.44 - 108.25 per share.\",\"moneyText\":\"\",\"ownership\":\"D\",\"startDate\":{\"raw\":1540512000,\"fmt\":\"2018-10-26\"},\"value\":{\"raw\":21699727,\"fmt\":\"21.7M\",\"longFmt\":\"21,699,727\"},\"filerRelation\":\"Chief Executive Officer\",\"shares\":{\"raw\":203418,\"fmt\":\"203.42k\",\"longFmt\":\"203,418\"},\"filerUrl\":\"\",\"maxAge\":1},{\"filerName\":\"NADELLA SATYA\",\"transactionText\":\"Stock Award(Grant) at price 0.00 per share.\",\"moneyText\":\"\",\"ownership\":\"D\",\"startDate\":{\"raw\":1537228800,\"fmt\":\"2018-09-18\"},\"value\":{\"raw\":0,\"fmt\":null,\"longFmt\":\"0\"},\"filerRelation\":\"Chief Executive Officer\",\"shares\":{\"raw\":111280,\"fmt\":\"111.28k\",\"longFmt\":\"111,280\"},\"filerUrl\":\"\",\"maxAge\":1},{\"filerName\":\"BROD FRANK H\",\"transactionText\":\"Stock Award(Grant) at price 0.00 per share.\",\"moneyText\":\"\",\"ownership\":\"D\",\"startDate\":{\"raw\":1537142400,\"fmt\":\"2018-09-17\"},\"value\":{\"raw\":0,\"fmt\":null,\"longFmt\":\"0\"},\"filerRelation\":\"Officer\",\"shares\":{\"raw\":19604,\"fmt\":\"19.6k\",\"longFmt\":\"19,604\"},\"filerUrl\":\"\",\"maxAge\":1},{\"filerName\":\"COURTOIS JEAN-PHILIPPE\",\"transactionText\":\"Stock Award(Grant) at price 0.00 per share.\",\"moneyText\":\"\",\"ownership\":\"D\",\"startDate\":{\"raw\":1537142400,\"fmt\":\"2018-09-17\"},\"value\":{\"raw\":0,\"fmt\":null,\"longFmt\":\"0\"},\"filerRelation\":\"Officer\",\"shares\":{\"raw\":33384,\"fmt\":\"33.38k\",\"longFmt\":\"33,384\"},\"filerUrl\":\"\",\"maxAge\":1},{\"filerName\":\"SMITH BRADFORD LEE\",\"transactionText\":\"Stock Award(Grant) at price 0.00 per share.\",\"moneyText\":\"\",\"ownership\":\"D\",\"startDate\":{\"raw\":1537142400,\"fmt\":\"2018-09-17\"},\"value\":{\"raw\":0,\"fmt\":null,\"longFmt\":\"0\"},\"filerRelation\":\"President\",\"shares\":{\"raw\":40951,\"fmt\":\"40.95k\",\"longFmt\":\"40,951\"},\"filerUrl\":\"\",\"maxAge\":1},{\"filerName\":\"JOHNSON MARGARET L\",\"transactionText\":\"Stock Award(Grant) at price 0.00 per share.\",\"moneyText\":\"\",\"ownership\":\"D\",\"startDate\":{\"raw\":1537142400,\"fmt\":\"2018-09-17\"},\"value\":{\"raw\":0,\"fmt\":null,\"longFmt\":\"0\"},\"filerRelation\":\"Officer\",\"shares\":{\"raw\":22256,\"fmt\":\"22.26k\",\"longFmt\":\"22,256\"},\"filerUrl\":\"\",\"maxAge\":1},{\"filerName\":\"HOOD AMY E\",\"transactionText\":\"Stock Award(Grant) at price 0.00 per share.\",\"moneyText\":\"\",\"ownership\":\"D\",\"startDate\":{\"raw\":1537142400,\"fmt\":\"2018-09-17\"},\"value\":{\"raw\":0,\"fmt\":null,\"longFmt\":\"0\"},\"filerRelation\":\"Chief Financial Officer\",\"shares\":{\"raw\":49854,\"fmt\":\"49.85k\",\"longFmt\":\"49,854\"},\"filerUrl\":\"\",\"maxAge\":1},{\"filerName\":\"CAPOSSELA CHRISTOPHER C\",\"transactionText\":\"Stock Award(Grant) at price 0.00 per share.\",\"moneyText\":\"\",\"ownership\":\"D\",\"startDate\":{\"raw\":1537142400,\"fmt\":\"2018-09-17\"},\"value\":{\"raw\":0,\"fmt\":null,\"longFmt\":\"0\"},\"filerRelation\":\"Officer\",\"shares\":{\"raw\":20698,\"fmt\":\"20.7k\",\"longFmt\":\"20,698\"},\"filerUrl\":\"\",\"maxAge\":1},{\"filerName\":\"HOGAN KATHLEEN T\",\"transactionText\":\"Stock Award(Grant) at price 0.00 per share.\",\"moneyText\":\"\",\"ownership\":\"D\",\"startDate\":{\"raw\":1537142400,\"fmt\":\"2018-09-17\"},\"value\":{\"raw\":0,\"fmt\":null,\"longFmt\":\"0\"},\"filerRelation\":\"Officer\",\"shares\":{\"raw\":20031,\"fmt\":\"20.03k\",\"longFmt\":\"20,031\"},\"filerUrl\":\"\",\"maxAge\":1},{\"filerName\":\"CAPOSSELA CHRISTOPHER C\",\"transactionText\":\"Sale at price 108.38 - 109.22 per share.\",\"moneyText\":\"\",\"ownership\":\"D\",\"startDate\":{\"raw\":1536537600,\"fmt\":\"2018-09-10\"},\"value\":{\"raw\":6431596,\"fmt\":\"6.43M\",\"longFmt\":\"6,431,596\"},\"filerRelation\":\"Officer\",\"shares\":{\"raw\":59162,\"fmt\":\"59.16k\",\"longFmt\":\"59,162\"},\"filerUrl\":\"\",\"maxAge\":1},{\"filerName\":\"HOOD AMY E\",\"transactionText\":\"Sale at price 110.90 per share.\",\"moneyText\":\"\",\"ownership\":\"D\",\"startDate\":{\"raw\":1536019200,\"fmt\":\"2018-09-04\"},\"value\":{\"raw\":13086766,\"fmt\":\"13.09M\",\"longFmt\":\"13,086,766\"},\"filerRelation\":\"Chief Financial Officer\",\"shares\":{\"raw\":118000,\"fmt\":\"118k\",\"longFmt\":\"118,000\"},\"filerUrl\":\"\",\"maxAge\":1},{\"filerName\":\"HOGAN KATHLEEN T\",\"transactionText\":\"Sale at price 111.31 per share.\",\"moneyText\":\"\",\"ownership\":\"D\",\"startDate\":{\"raw\":1536019200,\"fmt\":\"2018-09-04\"},\"value\":{\"raw\":4452400,\"fmt\":\"4.45M\",\"longFmt\":\"4,452,400\"},\"filerRelation\":\"Officer\",\"shares\":{\"raw\":40000,\"fmt\":\"40k\",\"longFmt\":\"40,000\"},\"filerUrl\":\"\",\"maxAge\":1},{\"filerName\":\"NADELLA SATYA\",\"transactionText\":\"Stock Award(Grant) at price 0.00 per share.\",\"moneyText\":\"\",\"ownership\":\"D\",\"startDate\":{\"raw\":1535673600,\"fmt\":\"2018-08-31\"},\"value\":{\"raw\":0,\"fmt\":null,\"longFmt\":\"0\"},\"filerRelation\":\"Chief Executive Officer\",\"shares\":{\"raw\":429745,\"fmt\":\"429.75k\",\"longFmt\":\"429,745\"},\"filerUrl\":\"\",\"maxAge\":1},{\"filerName\":\"SMITH BRADFORD LEE\",\"transactionText\":\"Stock Award(Grant) at price 0.00 per share.\",\"moneyText\":\"\",\"ownership\":\"D\",\"startDate\":{\"raw\":1535673600,\"fmt\":\"2018-08-31\"},\"value\":{\"raw\":0,\"fmt\":null,\"longFmt\":\"0\"},\"filerRelation\":\"President\",\"shares\":{\"raw\":211618,\"fmt\":\"211.62k\",\"longFmt\":\"211,618\"},\"filerUrl\":\"\",\"maxAge\":1},{\"filerName\":\"JOHNSON MARGARET L\",\"transactionText\":\"Stock Award(Grant) at price 0.00 per share.\",\"moneyText\":\"\",\"ownership\":\"D\",\"startDate\":{\"raw\":1535673600,\"fmt\":\"2018-08-31\"},\"value\":{\"raw\":0,\"fmt\":null,\"longFmt\":\"0\"},\"filerRelation\":\"Officer\",\"shares\":{\"raw\":162782,\"fmt\":\"162.78k\",\"longFmt\":\"162,782\"},\"filerUrl\":\"\",\"maxAge\":1},{\"filerName\":\"HOOD AMY E\",\"transactionText\":\"Stock Award(Grant) at price 0.00 per share.\",\"moneyText\":\"\",\"ownership\":\"D\",\"startDate\":{\"raw\":1535673600,\"fmt\":\"2018-08-31\"},\"value\":{\"raw\":0,\"fmt\":null,\"longFmt\":\"0\"},\"filerRelation\":\"Chief Financial Officer\",\"shares\":{\"raw\":237663,\"fmt\":\"237.66k\",\"longFmt\":\"237,663\"},\"filerUrl\":\"\",\"maxAge\":1},{\"filerName\":\"CAPOSSELA CHRISTOPHER C\",\"transactionText\":\"Stock Award(Grant) at price 0.00 per share.\",\"moneyText\":\"\",\"ownership\":\"D\",\"startDate\":{\"raw\":1535673600,\"fmt\":\"2018-08-31\"},\"value\":{\"raw\":0,\"fmt\":null,\"longFmt\":\"0\"},\"filerRelation\":\"Officer\",\"shares\":{\"raw\":139994,\"fmt\":\"139.99k\",\"longFmt\":\"139,994\"},\"filerUrl\":\"\",\"maxAge\":1},{\"filerName\":\"HOGAN KATHLEEN T\",\"transactionText\":\"Stock Award(Grant) at price 0.00 per share.\",\"moneyText\":\"\",\"ownership\":\"D\",\"startDate\":{\"raw\":1535673600,\"fmt\":\"2018-08-31\"},\"value\":{\"raw\":0,\"fmt\":null,\"longFmt\":\"0\"},\"filerRelation\":\"Officer\",\"shares\":{\"raw\":120461,\"fmt\":\"120.46k\",\"longFmt\":\"120,461\"},\"filerUrl\":\"\",\"maxAge\":1},{\"filerName\":\"SCHARF CHARLES W\",\"transactionText\":\"Stock Award(Grant) at price 0.00 per share.\",\"moneyText\":\"\",\"ownership\":\"D\",\"startDate\":{\"raw\":1535500800,\"fmt\":\"2018-08-29\"},\"value\":{\"raw\":0,\"fmt\":null,\"longFmt\":\"0\"},\"filerRelation\":\"Director\",\"shares\":{\"raw\":446,\"fmt\":\"446\",\"longFmt\":\"446\"},\"filerUrl\":\"\",\"maxAge\":1},{\"filerName\":\"PANKE HELMUT\",\"transactionText\":\"Stock Award(Grant) at price 0.00 per share.\",\"moneyText\":\"\",\"ownership\":\"D\",\"startDate\":{\"raw\":1535500800,\"fmt\":\"2018-08-29\"},\"value\":{\"raw\":0,\"fmt\":null,\"longFmt\":\"0\"},\"filerRelation\":\"Director\",\"shares\":{\"raw\":446,\"fmt\":\"446\",\"longFmt\":\"446\"},\"filerUrl\":\"\",\"maxAge\":1},{\"filerName\":\"SORENSON ARNE M\",\"transactionText\":\"Stock Award(Grant) at price 0.00 per share.\",\"moneyText\":\"\",\"ownership\":\"D\",\"startDate\":{\"raw\":1535500800,\"fmt\":\"2018-08-29\"},\"value\":{\"raw\":0,\"fmt\":null,\"longFmt\":\"0\"},\"filerRelation\":\"Director\",\"shares\":{\"raw\":446,\"fmt\":\"446\",\"longFmt\":\"446\"},\"filerUrl\":\"\",\"maxAge\":1},{\"filerName\":\"STANTON JOHN\",\"transactionText\":\"Stock Award(Grant) at price 0.00 per share.\",\"moneyText\":\"\",\"ownership\":\"D\",\"startDate\":{\"raw\":1535500800,\"fmt\":\"2018-08-29\"},\"value\":{\"raw\":0,\"fmt\":null,\"longFmt\":\"0\"},\"filerRelation\":\"Director\",\"shares\":{\"raw\":446,\"fmt\":\"446\",\"longFmt\":\"446\"},\"filerUrl\":\"\",\"maxAge\":1},{\"filerName\":\"WARRIOR PADMASREE\",\"transactionText\":\"Stock Award(Grant) at price 0.00 per share.\",\"moneyText\":\"\",\"ownership\":\"D\",\"startDate\":{\"raw\":1535500800,\"fmt\":\"2018-08-29\"},\"value\":{\"raw\":0,\"fmt\":null,\"longFmt\":\"0\"},\"filerRelation\":\"Director\",\"shares\":{\"raw\":446,\"fmt\":\"446\",\"longFmt\":\"446\"},\"filerUrl\":\"\",\"maxAge\":1},{\"filerName\":\"JOHNSTON HUGH F.\",\"transactionText\":\"Stock Award(Grant) at price 0.00 per share.\",\"moneyText\":\"\",\"ownership\":\"D\",\"startDate\":{\"raw\":1535500800,\"fmt\":\"2018-08-29\"},\"value\":{\"raw\":0,\"fmt\":null,\"longFmt\":\"0\"},\"filerRelation\":\"Director\",\"shares\":{\"raw\":446,\"fmt\":\"446\",\"longFmt\":\"446\"},\"filerUrl\":\"\",\"maxAge\":1},{\"filerName\":\"NADELLA SATYA\",\"transactionText\":\"Sale at price 109.44 per share.\",\"moneyText\":\"\",\"ownership\":\"D\",\"startDate\":{\"raw\":1533859200,\"fmt\":\"2018-08-10\"},\"value\":{\"raw\":35896189,\"fmt\":\"35.9M\",\"longFmt\":\"35,896,189\"},\"filerRelation\":\"Chief Executive Officer\",\"shares\":{\"raw\":328000,\"fmt\":\"328k\",\"longFmt\":\"328,000\"},\"filerUrl\":\"\",\"maxAge\":1},{\"filerName\":\"COURTOIS JEAN-PHILIPPE\",\"transactionText\":\"Sale at price 110.00 per share.\",\"moneyText\":\"\",\"ownership\":\"D\",\"startDate\":{\"raw\":1533772800,\"fmt\":\"2018-08-09\"},\"value\":{\"raw\":3183290,\"fmt\":\"3.18M\",\"longFmt\":\"3,183,290\"},\"filerRelation\":\"Officer\",\"shares\":{\"raw\":28939,\"fmt\":\"28.94k\",\"longFmt\":\"28,939\"},\"filerUrl\":\"\",\"maxAge\":1},{\"filerName\":\"COURTOIS JEAN-PHILIPPE\",\"transactionText\":\"Sale at price 109.00 per share.\",\"moneyText\":\"\",\"ownership\":\"D\",\"startDate\":{\"raw\":1533600000,\"fmt\":\"2018-08-07\"},\"value\":{\"raw\":3154569,\"fmt\":\"3.15M\",\"longFmt\":\"3,154,569\"},\"filerRelation\":\"Officer\",\"shares\":{\"raw\":28941,\"fmt\":\"28.94k\",\"longFmt\":\"28,941\"},\"filerUrl\":\"\",\"maxAge\":1},{\"filerName\":\"JOHNSON MARGARET L\",\"transactionText\":\"Sale at price 107.67 per share.\",\"moneyText\":\"\",\"ownership\":\"I\",\"startDate\":{\"raw\":1533168000,\"fmt\":\"2018-08-02\"},\"value\":{\"raw\":5060565,\"fmt\":\"5.06M\",\"longFmt\":\"5,060,565\"},\"filerRelation\":\"Officer\",\"shares\":{\"raw\":47000,\"fmt\":\"47k\",\"longFmt\":\"47,000\"},\"filerUrl\":\"\",\"maxAge\":1},{\"filerName\":\"CAPOSSELA CHRISTOPHER C\",\"transactionText\":\"Sale at price 100.99 per share.\",\"moneyText\":\"\",\"ownership\":\"D\",\"startDate\":{\"raw\":1528329600,\"fmt\":\"2018-06-07\"},\"value\":{\"raw\":1009880,\"fmt\":\"1.01M\",\"longFmt\":\"1,009,880\"},\"filerRelation\":\"Officer\",\"shares\":{\"raw\":10000,\"fmt\":\"10k\",\"longFmt\":\"10,000\"},\"filerUrl\":\"\",\"maxAge\":1},{\"filerName\":\"SCHARF CHARLES W\",\"transactionText\":\"Stock Award(Grant) at price 0.00 per share.\",\"moneyText\":\"\",\"ownership\":\"D\",\"startDate\":{\"raw\":1527552000,\"fmt\":\"2018-05-29\"},\"value\":{\"raw\":0,\"fmt\":null,\"longFmt\":\"0\"},\"filerRelation\":\"Director\",\"shares\":{\"raw\":510,\"fmt\":\"510\",\"longFmt\":\"510\"},\"filerUrl\":\"\",\"maxAge\":1},{\"filerName\":\"PANKE HELMUT\",\"transactionText\":\"Stock Award(Grant) at price 0.00 per share.\",\"moneyText\":\"\",\"ownership\":\"D\",\"startDate\":{\"raw\":1527552000,\"fmt\":\"2018-05-29\"},\"value\":{\"raw\":0,\"fmt\":null,\"longFmt\":\"0\"},\"filerRelation\":\"Director\",\"shares\":{\"raw\":510,\"fmt\":\"510\",\"longFmt\":\"510\"},\"filerUrl\":\"\",\"maxAge\":1},{\"filerName\":\"SORENSON ARNE M\",\"transactionText\":\"Stock Award(Grant) at price 0.00 per share.\",\"moneyText\":\"\",\"ownership\":\"D\",\"startDate\":{\"raw\":1527552000,\"fmt\":\"2018-05-29\"},\"value\":{\"raw\":0,\"fmt\":null,\"longFmt\":\"0\"},\"filerRelation\":\"Director\",\"shares\":{\"raw\":510,\"fmt\":\"510\",\"longFmt\":\"510\"},\"filerUrl\":\"\",\"maxAge\":1},{\"filerName\":\"STANTON JOHN\",\"transactionText\":\"Stock Award(Grant) at price 0.00 per share.\",\"moneyText\":\"\",\"ownership\":\"D\",\"startDate\":{\"raw\":1527552000,\"fmt\":\"2018-05-29\"},\"value\":{\"raw\":0,\"fmt\":null,\"longFmt\":\"0\"},\"filerRelation\":\"Director\",\"shares\":{\"raw\":510,\"fmt\":\"510\",\"longFmt\":\"510\"},\"filerUrl\":\"\",\"maxAge\":1},{\"filerName\":\"WARRIOR PADMASREE\",\"transactionText\":\"Stock Award(Grant) at price 0.00 per share.\",\"moneyText\":\"\",\"ownership\":\"D\",\"startDate\":{\"raw\":1527552000,\"fmt\":\"2018-05-29\"},\"value\":{\"raw\":0,\"fmt\":null,\"longFmt\":\"0\"},\"filerRelation\":\"Director\",\"shares\":{\"raw\":510,\"fmt\":\"510\",\"longFmt\":\"510\"},\"filerUrl\":\"\",\"maxAge\":1},{\"filerName\":\"JOHNSTON HUGH F.\",\"transactionText\":\"Stock Award(Grant) at price 0.00 per share.\",\"moneyText\":\"\",\"ownership\":\"D\",\"startDate\":{\"raw\":1527552000,\"fmt\":\"2018-05-29\"},\"value\":{\"raw\":0,\"fmt\":null,\"longFmt\":\"0\"},\"filerRelation\":\"Director\",\"shares\":{\"raw\":510,\"fmt\":\"510\",\"longFmt\":\"510\"},\"filerUrl\":\"\",\"maxAge\":1},{\"filerName\":\"CAPOSSELA CHRISTOPHER C\",\"transactionText\":\"Sale at price 93.00 per share.\",\"moneyText\":\"\",\"ownership\":\"D\",\"startDate\":{\"raw\":1519344000,\"fmt\":\"2018-02-23\"},\"value\":{\"raw\":325500,\"fmt\":\"325.5k\",\"longFmt\":\"325,500\"},\"filerRelation\":\"Officer\",\"shares\":{\"raw\":3500,\"fmt\":\"3.5k\",\"longFmt\":\"3,500\"},\"filerUrl\":\"\",\"maxAge\":1},{\"filerName\":\"CAPOSSELA CHRISTOPHER C\",\"transactionText\":\"Sale at price 93.00 per share.\",\"moneyText\":\"\",\"ownership\":\"D\",\"startDate\":{\"raw\":1519084800,\"fmt\":\"2018-02-20\"},\"value\":{\"raw\":325500,\"fmt\":\"325.5k\",\"longFmt\":\"325,500\"},\"filerRelation\":\"Officer\",\"shares\":{\"raw\":3500,\"fmt\":\"3.5k\",\"longFmt\":\"3,500\"},\"filerUrl\":\"\",\"maxAge\":1},{\"filerName\":\"CAPOSSELA CHRISTOPHER C\",\"transactionText\":\"Sale at price 93.30 per share.\",\"moneyText\":\"\",\"ownership\":\"D\",\"startDate\":{\"raw\":1518739200,\"fmt\":\"2018-02-16\"},\"value\":{\"raw\":279912,\"fmt\":\"279.91k\",\"longFmt\":\"279,912\"},\"filerRelation\":\"Officer\",\"shares\":{\"raw\":3000,\"fmt\":\"3k\",\"longFmt\":\"3,000\"},\"filerUrl\":\"\",\"maxAge\":1},{\"filerName\":\"SCHARF CHARLES W\",\"transactionText\":\"Stock Award(Grant) at price 0.00 per share.\",\"moneyText\":\"\",\"ownership\":\"D\",\"startDate\":{\"raw\":1517356800,\"fmt\":\"2018-01-31\"},\"value\":{\"raw\":0,\"fmt\":null,\"longFmt\":\"0\"},\"filerRelation\":\"Director\",\"shares\":{\"raw\":526,\"fmt\":\"526\",\"longFmt\":\"526\"},\"filerUrl\":\"\",\"maxAge\":1},{\"filerName\":\"PANKE HELMUT\",\"transactionText\":\"Stock Award(Grant) at price 0.00 per share.\",\"moneyText\":\"\",\"ownership\":\"D\",\"startDate\":{\"raw\":1517356800,\"fmt\":\"2018-01-31\"},\"value\":{\"raw\":0,\"fmt\":null,\"longFmt\":\"0\"},\"filerRelation\":\"Director\",\"shares\":{\"raw\":526,\"fmt\":\"526\",\"longFmt\":\"526\"},\"filerUrl\":\"\",\"maxAge\":1}],\"maxAge\":1},\"insiderHolders\":{\"holders\":[{\"maxAge\":1,\"name\":\"BROD FRANK H\",\"relation\":\"Officer\",\"url\":\"\",\"transactionDescription\":\"Sale\",\"latestTransDate\":{\"raw\":1588291200,\"fmt\":\"2020-05-01\"},\"positionDirect\":{\"raw\":57136,\"fmt\":\"57.14k\",\"longFmt\":\"57,136\"},\"positionDirectDate\":{\"raw\":1588291200,\"fmt\":\"2020-05-01\"}},{\"maxAge\":1,\"name\":\"JOHNSON MARGARET L\",\"relation\":\"Officer\",\"url\":\"\",\"transactionDescription\":\"Sale\",\"latestTransDate\":{\"raw\":1588291200,\"fmt\":\"2020-05-01\"},\"positionIndirect\":{\"raw\":306193,\"fmt\":\"306.19k\",\"longFmt\":\"306,193\"},\"positionIndirectDate\":{\"raw\":1588291200,\"fmt\":\"2020-05-01\"}},{\"maxAge\":1,\"name\":\"JOHNSTON HUGH F.\",\"relation\":\"Director\",\"url\":\"\",\"transactionDescription\":\"Stock Award(Grant)\",\"latestTransDate\":{\"raw\":1591228800,\"fmt\":\"2020-06-04\"},\"positionDirect\":{\"raw\":4868,\"fmt\":\"4.87k\",\"longFmt\":\"4,868\"},\"positionDirectDate\":{\"raw\":1591228800,\"fmt\":\"2020-06-04\"}},{\"maxAge\":1,\"name\":\"NADELLA SATYA\",\"relation\":\"Chief Executive Officer\",\"url\":\"\",\"transactionDescription\":\"Stock Gift\",\"latestTransDate\":{\"raw\":1588550400,\"fmt\":\"2020-05-04\"},\"positionSummaryDate\":{\"raw\":1588550400,\"fmt\":\"2020-05-04\"}},{\"maxAge\":1,\"name\":\"SCHARF CHARLES W\",\"relation\":\"Director\",\"url\":\"\",\"transactionDescription\":\"Stock Award(Grant)\",\"latestTransDate\":{\"raw\":1591228800,\"fmt\":\"2020-06-04\"},\"positionDirect\":{\"raw\":41368,\"fmt\":\"41.37k\",\"longFmt\":\"41,368\"},\"positionDirectDate\":{\"raw\":1591228800,\"fmt\":\"2020-06-04\"}},{\"maxAge\":1,\"name\":\"SORENSON ARNE M\",\"relation\":\"Director\",\"url\":\"\",\"transactionDescription\":\"Stock Award(Grant)\",\"latestTransDate\":{\"raw\":1591228800,\"fmt\":\"2020-06-04\"},\"positionDirect\":{\"raw\":4093,\"fmt\":\"4.09k\",\"longFmt\":\"4,093\"},\"positionDirectDate\":{\"raw\":1591228800,\"fmt\":\"2020-06-04\"}},{\"maxAge\":1,\"name\":\"STANTON JOHN\",\"relation\":\"Director\",\"url\":\"\",\"transactionDescription\":\"Stock Award(Grant)\",\"latestTransDate\":{\"raw\":1591228800,\"fmt\":\"2020-06-04\"},\"positionDirect\":{\"raw\":82099,\"fmt\":\"82.1k\",\"longFmt\":\"82,099\"},\"positionDirectDate\":{\"raw\":1591228800,\"fmt\":\"2020-06-04\"}},{\"maxAge\":1,\"name\":\"THOMPSON JOHN WENDELL\",\"relation\":\"Director\",\"url\":\"\",\"transactionDescription\":\"Stock Gift\",\"latestTransDate\":{\"raw\":1588636800,\"fmt\":\"2020-05-05\"},\"positionIndirect\":{\"raw\":28345,\"fmt\":\"28.34k\",\"longFmt\":\"28,345\"},\"positionIndirectDate\":{\"raw\":1588636800,\"fmt\":\"2020-05-05\"}},{\"maxAge\":1,\"name\":\"WALMSLEY EMMA N\",\"relation\":\"Director\",\"url\":\"\",\"transactionDescription\":\"Sale\",\"latestTransDate\":{\"raw\":1591574400,\"fmt\":\"2020-06-08\"},\"positionDirect\":{\"raw\":293,\"fmt\":\"293\",\"longFmt\":\"293\"},\"positionDirectDate\":{\"raw\":1591574400,\"fmt\":\"2020-06-08\"}},{\"maxAge\":1,\"name\":\"WARRIOR PADMASREE\",\"relation\":\"Director\",\"url\":\"\",\"transactionDescription\":\"Stock Award(Grant)\",\"latestTransDate\":{\"raw\":1591228800,\"fmt\":\"2020-06-04\"},\"positionDirect\":{\"raw\":10998,\"fmt\":\"11k\",\"longFmt\":\"10,998\"},\"positionDirectDate\":{\"raw\":1591228800,\"fmt\":\"2020-06-04\"}}],\"maxAge\":1},\"netSharePurchaseActivity\":{\"period\":\"6m\",\"netPercentInsiderShares\":{\"raw\":0.0069999998,\"fmt\":\"0.70%\"},\"netInfoCount\":{\"raw\":24,\"fmt\":\"24\",\"longFmt\":\"24\"},\"totalInsiderShares\":{\"raw\":108064016,\"fmt\":\"108.06M\",\"longFmt\":\"108,064,016\"},\"buyInfoShares\":{\"raw\":1049793,\"fmt\":\"1.05M\",\"longFmt\":\"1,049,793\"},\"buyPercentInsiderShares\":{\"raw\":0.01,\"fmt\":\"1.00%\"},\"sellInfoCount\":{\"raw\":7,\"fmt\":\"7\",\"longFmt\":\"7\"},\"sellInfoShares\":{\"raw\":341277,\"fmt\":\"341.28k\",\"longFmt\":\"341,277\"},\"sellPercentInsiderShares\":{\"raw\":0.003,\"fmt\":\"0.30%\"},\"maxAge\":1,\"buyInfoCount\":{\"raw\":17,\"fmt\":\"17\",\"longFmt\":\"17\"},\"netInfoShares\":{\"raw\":708516,\"fmt\":\"708.52k\",\"longFmt\":\"708,516\"}},\"majorHoldersBreakdown\":{\"maxAge\":1,\"insidersPercentHeld\":{\"raw\":0.014249999,\"fmt\":\"1.42%\"},\"institutionsPercentHeld\":{\"raw\":0.74093,\"fmt\":\"74.09%\"},\"institutionsFloatPercentHeld\":{\"raw\":0.75164,\"fmt\":\"75.16%\"},\"institutionsCount\":{\"raw\":4630,\"fmt\":\"4.63k\",\"longFmt\":\"4,630\"}},\"financialData\":{\"ebitdaMargins\":{\"raw\":0.46209,\"fmt\":\"46.21%\"},\"profitMargins\":{\"raw\":0.33356997,\"fmt\":\"33.36%\"},\"grossMargins\":{\"raw\":0.68167996,\"fmt\":\"68.17%\"},\"operatingCashflow\":{\"raw\":58110001152,\"fmt\":\"58.11B\",\"longFmt\":\"58,110,001,152\"},\"revenueGrowth\":{\"raw\":0.146,\"fmt\":\"14.60%\"},\"operatingMargins\":{\"raw\":0.3746,\"fmt\":\"37.46%\"},\"ebitda\":{\"raw\":64091000832,\"fmt\":\"64.09B\",\"longFmt\":\"64,091,000,832\"},\"targetLowPrice\":{\"raw\":133,\"fmt\":\"133.00\"},\"recommendationKey\":\"buy\",\"grossProfits\":{\"raw\":82933000000,\"fmt\":\"82.93B\",\"longFmt\":\"82,933,000,000\"},\"freeCashflow\":{\"raw\":36196126720,\"fmt\":\"36.2B\",\"longFmt\":\"36,196,126,720\"},\"targetMedianPrice\":{\"raw\":200,\"fmt\":\"200.00\"},\"currentPrice\":{\"raw\":200.57,\"fmt\":\"200.57\"},\"earningsGrowth\":{\"raw\":0.228,\"fmt\":\"22.80%\"},\"currentRatio\":{\"raw\":2.904,\"fmt\":\"2.90\"},\"returnOnAssets\":{\"raw\":0.118360005,\"fmt\":\"11.84%\"},\"numberOfAnalystOpinions\":{\"raw\":33,\"fmt\":\"33\",\"longFmt\":\"33\"},\"targetMeanPrice\":{\"raw\":201.11,\"fmt\":\"201.11\"},\"debtToEquity\":{\"raw\":73.384,\"fmt\":\"73.38\"},\"returnOnEquity\":{\"raw\":0.44195998,\"fmt\":\"44.20%\"},\"targetHighPrice\":{\"raw\":250,\"fmt\":\"250.00\"},\"totalCash\":{\"raw\":137642000384,\"fmt\":\"137.64B\",\"longFmt\":\"137,642,000,384\"},\"totalDebt\":{\"raw\":84024999936,\"fmt\":\"84.02B\",\"longFmt\":\"84,024,999,936\"},\"totalRevenue\":{\"raw\":138698997760,\"fmt\":\"138.7B\",\"longFmt\":\"138,698,997,760\"},\"totalCashPerShare\":{\"raw\":18.15,\"fmt\":\"18.15\"},\"financialCurrency\":\"USD\",\"maxAge\":86400,\"revenuePerShare\":{\"raw\":18.183,\"fmt\":\"18.18\"},\"quickRatio\":{\"raw\":2.731,\"fmt\":\"2.73\"},\"recommendationMean\":{\"raw\":1.7,\"fmt\":\"1.70\"}},\"quoteType\":{\"exchange\":\"NMS\",\"shortName\":\"Microsoft Corporation\",\"longName\":\"Microsoft Corporation\",\"exchangeTimezoneName\":\"America/New_York\",\"exchangeTimezoneShortName\":\"EDT\",\"isEsgPopulated\":false,\"gmtOffSetMilliseconds\":\"-14400000\",\"quoteType\":\"EQUITY\",\"symbol\":\"MSFT\",\"messageBoardId\":\"finmb_21835\",\"market\":\"us_market\"},\"institutionOwnership\":{\"maxAge\":1,\"ownershipList\":[{\"maxAge\":1,\"reportDate\":{\"raw\":1585612800,\"fmt\":\"2020-03-31\"},\"organization\":\"Vanguard Group, Inc. (The)\",\"pctHeld\":{\"raw\":0.0844,\"fmt\":\"8.44%\"},\"position\":{\"raw\":640172572,\"fmt\":\"640.17M\",\"longFmt\":\"640,172,572\"},\"value\":{\"raw\":100961616330,\"fmt\":\"100.96B\",\"longFmt\":\"100,961,616,330\"}},{\"maxAge\":1,\"reportDate\":{\"raw\":1585612800,\"fmt\":\"2020-03-31\"},\"organization\":\"Blackrock Inc.\",\"pctHeld\":{\"raw\":0.0683,\"fmt\":\"6.83%\"},\"position\":{\"raw\":517578906,\"fmt\":\"517.58M\",\"longFmt\":\"517,578,906\"},\"value\":{\"raw\":81627369265,\"fmt\":\"81.63B\",\"longFmt\":\"81,627,369,265\"}},{\"maxAge\":1,\"reportDate\":{\"raw\":1585612800,\"fmt\":\"2020-03-31\"},\"organization\":\"State Street Corporation\",\"pctHeld\":{\"raw\":0.041500002,\"fmt\":\"4.15%\"},\"position\":{\"raw\":314771248,\"fmt\":\"314.77M\",\"longFmt\":\"314,771,248\"},\"value\":{\"raw\":49642573522,\"fmt\":\"49.64B\",\"longFmt\":\"49,642,573,522\"}},{\"maxAge\":1,\"reportDate\":{\"raw\":1585612800,\"fmt\":\"2020-03-31\"},\"organization\":\"FMR, LLC\",\"pctHeld\":{\"raw\":0.031400003,\"fmt\":\"3.14%\"},\"position\":{\"raw\":237892832,\"fmt\":\"237.89M\",\"longFmt\":\"237,892,832\"},\"value\":{\"raw\":37518078534,\"fmt\":\"37.52B\",\"longFmt\":\"37,518,078,534\"}},{\"maxAge\":1,\"reportDate\":{\"raw\":1585612800,\"fmt\":\"2020-03-31\"},\"organization\":\"Price (T.Rowe) Associates Inc\",\"pctHeld\":{\"raw\":0.0227,\"fmt\":\"2.27%\"},\"position\":{\"raw\":172056401,\"fmt\":\"172.06M\",\"longFmt\":\"172,056,401\"},\"value\":{\"raw\":27135015001,\"fmt\":\"27.14B\",\"longFmt\":\"27,135,015,001\"}},{\"maxAge\":1,\"reportDate\":{\"raw\":1585612800,\"fmt\":\"2020-03-31\"},\"organization\":\"Capital World Investors\",\"pctHeld\":{\"raw\":0.0183,\"fmt\":\"1.83%\"},\"position\":{\"raw\":139116236,\"fmt\":\"139.12M\",\"longFmt\":\"139,116,236\"},\"value\":{\"raw\":21940021579,\"fmt\":\"21.94B\",\"longFmt\":\"21,940,021,579\"}},{\"maxAge\":1,\"reportDate\":{\"raw\":1585612800,\"fmt\":\"2020-03-31\"},\"organization\":\"Geode Capital Management, LLC\",\"pctHeld\":{\"raw\":0.0153,\"fmt\":\"1.53%\"},\"position\":{\"raw\":115684966,\"fmt\":\"115.68M\",\"longFmt\":\"115,684,966\"},\"value\":{\"raw\":18244675987,\"fmt\":\"18.24B\",\"longFmt\":\"18,244,675,987\"}},{\"maxAge\":1,\"reportDate\":{\"raw\":1585612800,\"fmt\":\"2020-03-31\"},\"organization\":\"Capital International Investors\",\"pctHeld\":{\"raw\":0.0137,\"fmt\":\"1.37%\"},\"position\":{\"raw\":103523946,\"fmt\":\"103.52M\",\"longFmt\":\"103,523,946\"},\"value\":{\"raw\":16326761523,\"fmt\":\"16.33B\",\"longFmt\":\"16,326,761,523\"}},{\"maxAge\":1,\"reportDate\":{\"raw\":1585612800,\"fmt\":\"2020-03-31\"},\"organization\":\"Capital Research Global Investors\",\"pctHeld\":{\"raw\":0.0123000005,\"fmt\":\"1.23%\"},\"position\":{\"raw\":93247848,\"fmt\":\"93.25M\",\"longFmt\":\"93,247,848\"},\"value\":{\"raw\":14706118108,\"fmt\":\"14.71B\",\"longFmt\":\"14,706,118,108\"}},{\"maxAge\":1,\"reportDate\":{\"raw\":1585612800,\"fmt\":\"2020-03-31\"},\"organization\":\"Northern Trust Corporation\",\"pctHeld\":{\"raw\":0.0121,\"fmt\":\"1.21%\"},\"position\":{\"raw\":92119080,\"fmt\":\"92.12M\",\"longFmt\":\"92,119,080\"},\"value\":{\"raw\":14528100106,\"fmt\":\"14.53B\",\"longFmt\":\"14,528,100,106\"}}]},\"calendarEvents\":{\"maxAge\":1,\"earnings\":{\"earningsDate\":[{\"raw\":1594857600,\"fmt\":\"2020-07-16\"},{\"raw\":1595203200,\"fmt\":\"2020-07-20\"}],\"earningsAverage\":{\"raw\":1.39,\"fmt\":\"1.39\"},\"earningsLow\":{\"raw\":1.35,\"fmt\":\"1.35\"},\"earningsHigh\":{\"raw\":1.51,\"fmt\":\"1.51\"},\"revenueAverage\":{\"raw\":36496300000,\"fmt\":\"36.5B\",\"longFmt\":\"36,496,300,000\"},\"revenueLow\":{\"raw\":36053000000,\"fmt\":\"36.05B\",\"longFmt\":\"36,053,000,000\"},\"revenueHigh\":{\"raw\":37098000000,\"fmt\":\"37.1B\",\"longFmt\":\"37,098,000,000\"}},\"exDividendDate\":{\"raw\":1597795200,\"fmt\":\"2020-08-19\"},\"dividendDate\":{\"raw\":1599696000,\"fmt\":\"2020-09-10\"}},\"summaryDetail\":{\"previousClose\":{\"raw\":195.15,\"fmt\":\"195.15\"},\"regularMarketOpen\":{\"raw\":195.79,\"fmt\":\"195.79\"},\"twoHundredDayAverage\":{\"raw\":169.27963,\"fmt\":\"169.28\"},\"trailingAnnualDividendYield\":{\"raw\":0.010197285,\"fmt\":\"1.02%\"},\"payoutRatio\":{\"raw\":0.3233,\"fmt\":\"32.33%\"},\"volume24Hr\":{},\"regularMarketDayHigh\":{\"raw\":200.76,\"fmt\":\"200.76\"},\"navPrice\":{},\"averageDailyVolume10Day\":{\"raw\":35302266,\"fmt\":\"35.3M\",\"longFmt\":\"35,302,266\"},\"totalAssets\":{},\"regularMarketPreviousClose\":{\"raw\":195.15,\"fmt\":\"195.15\"},\"fiftyDayAverage\":{\"raw\":185.66853,\"fmt\":\"185.67\"},\"trailingAnnualDividendRate\":{\"raw\":1.99,\"fmt\":\"1.99\"},\"open\":{\"raw\":195.79,\"fmt\":\"195.79\"},\"toCurrency\":null,\"averageVolume10days\":{\"raw\":35302266,\"fmt\":\"35.3M\",\"longFmt\":\"35,302,266\"},\"expireDate\":{},\"yield\":{},\"algorithm\":null,\"dividendRate\":{\"raw\":2.04,\"fmt\":\"2.04\"},\"exDividendDate\":{\"raw\":1597795200,\"fmt\":\"2020-08-19\"},\"beta\":{\"raw\":0.925537,\"fmt\":\"0.93\"},\"circulatingSupply\":{},\"startDate\":{},\"regularMarketDayLow\":{\"raw\":195.2301,\"fmt\":\"195.23\"},\"priceHint\":{\"raw\":2,\"fmt\":\"2\",\"longFmt\":\"2\"},\"currency\":\"USD\",\"trailingPE\":{\"raw\":33.4172,\"fmt\":\"33.42\"},\"regularMarketVolume\":{\"raw\":32818929,\"fmt\":\"32.82M\",\"longFmt\":\"32,818,929\"},\"lastMarket\":null,\"maxSupply\":{},\"openInterest\":{},\"marketCap\":{\"raw\":1521010606080,\"fmt\":\"1.52T\",\"longFmt\":\"1,521,010,606,080\"},\"volumeAllCurrencies\":{},\"strikePrice\":{},\"averageVolume\":{\"raw\":42769184,\"fmt\":\"42.77M\",\"longFmt\":\"42,769,184\"},\"priceToSalesTrailing12Months\":{\"raw\":10.9662695,\"fmt\":\"10.97\"},\"dayLow\":{\"raw\":195.2301,\"fmt\":\"195.23\"},\"ask\":{\"raw\":0,\"fmt\":\"0.00\"},\"ytdReturn\":{},\"askSize\":{\"raw\":800,\"fmt\":\"800\",\"longFmt\":\"800\"},\"volume\":{\"raw\":32818929,\"fmt\":\"32.82M\",\"longFmt\":\"32,818,929\"},\"fiftyTwoWeekHigh\":{\"raw\":200.76,\"fmt\":\"200.76\"},\"forwardPE\":{\"raw\":32.245983,\"fmt\":\"32.25\"},\"maxAge\":1,\"fromCurrency\":null,\"fiveYearAvgDividendYield\":{\"raw\":1.92,\"fmt\":\"1.92\"},\"fiftyTwoWeekLow\":{\"raw\":130.78,\"fmt\":\"130.78\"},\"bid\":{\"raw\":0,\"fmt\":\"0.00\"},\"tradeable\":false,\"dividendYield\":{\"raw\":0.0105,\"fmt\":\"1.05%\"},\"bidSize\":{\"raw\":1000,\"fmt\":\"1k\",\"longFmt\":\"1,000\"},\"dayHigh\":{\"raw\":200.76,\"fmt\":\"200.76\"}},\"symbol\":\"MSFT\",\"esgScores\":{\"palmOil\":false,\"peerSocialPerformance\":{\"min\":5.23,\"avg\":11.188199999999993,\"max\":18.73},\"controversialWeapons\":false,\"ratingMonth\":3,\"gambling\":false,\"socialScore\":{\"raw\":9.87,\"fmt\":\"9.9\"},\"nuclear\":false,\"furLeather\":false,\"alcoholic\":false,\"gmo\":false,\"catholic\":false,\"socialPercentile\":{\"raw\":0,\"fmt\":\"0\"},\"peerGovernancePerformance\":{\"min\":4.88,\"avg\":7.326299999999999,\"max\":12.83},\"peerCount\":100,\"relatedControversy\":[\"Customer Incidents\"],\"governanceScore\":{\"raw\":5.24,\"fmt\":\"5.2\"},\"environmentPercentile\":{\"raw\":0,\"fmt\":\"0\"},\"animalTesting\":false,\"peerEsgScorePerformance\":{\"min\":12.61,\"avg\":19.4733,\"max\":32.64},\"tobacco\":false,\"totalEsg\":{\"raw\":15.55,\"fmt\":\"15.6\"},\"highestControversy\":3,\"esgPerformance\":\"UNDER_PERF\",\"coal\":false,\"peerHighestControversyPerformance\":{\"min\":0,\"avg\":1.43,\"max\":4},\"pesticides\":false,\"adult\":false,\"ratingYear\":2020,\"maxAge\":86400,\"percentile\":{\"raw\":7.96,\"fmt\":\"8\"},\"peerGroup\":\"Software & Services\",\"smallArms\":false,\"peerEnvironmentPerformance\":{\"min\":0,\"avg\":0.9602999999999997,\"max\":3.33},\"environmentScore\":{\"raw\":0.44,\"fmt\":\"0.4\"},\"governancePercentile\":{\"raw\":0,\"fmt\":\"0\"},\"militaryContract\":false},\"upgradeDowngradeHistory\":{\"history\":[{\"epochGradeDate\":1589809546,\"firm\":\"RBC Capital\",\"toGrade\":\"Outperform\",\"fromGrade\":\"\",\"action\":\"reit\"},{\"epochGradeDate\":1588261640,\"firm\":\"Wells Fargo\",\"toGrade\":\"Overweight\",\"fromGrade\":\"\",\"action\":\"main\"},{\"epochGradeDate\":1588256475,\"firm\":\"BMO Capital\",\"toGrade\":\"Outperform\",\"fromGrade\":\"\",\"action\":\"main\"},{\"epochGradeDate\":1588254134,\"firm\":\"UBS\",\"toGrade\":\"Buy\",\"fromGrade\":\"\",\"action\":\"main\"},{\"epochGradeDate\":1588252542,\"firm\":\"Credit Suisse\",\"toGrade\":\"Outperform\",\"fromGrade\":\"\",\"action\":\"main\"},{\"epochGradeDate\":1588250959,\"firm\":\"Morgan Stanley\",\"toGrade\":\"Overweight\",\"fromGrade\":\"\",\"action\":\"main\"},{\"epochGradeDate\":1588249424,\"firm\":\"Mizuho\",\"toGrade\":\"Buy\",\"fromGrade\":\"\",\"action\":\"main\"},{\"epochGradeDate\":1588244489,\"firm\":\"Citigroup\",\"toGrade\":\"Neutral\",\"fromGrade\":\"\",\"action\":\"main\"},{\"epochGradeDate\":1588077697,\"firm\":\"Jefferies\",\"toGrade\":\"Buy\",\"fromGrade\":\"\",\"action\":\"main\"},{\"epochGradeDate\":1587737865,\"firm\":\"RBC Capital\",\"toGrade\":\"Outperform\",\"fromGrade\":\"\",\"action\":\"main\"},{\"epochGradeDate\":1587476623,\"firm\":\"Mizuho\",\"toGrade\":\"Buy\",\"fromGrade\":\"\",\"action\":\"main\"},{\"epochGradeDate\":1585916243,\"firm\":\"Raymond James\",\"toGrade\":\"Strong Buy\",\"fromGrade\":\"\",\"action\":\"main\"},{\"epochGradeDate\":1585674695,\"firm\":\"Citigroup\",\"toGrade\":\"Neutral\",\"fromGrade\":\"\",\"action\":\"main\"},{\"epochGradeDate\":1585650602,\"firm\":\"Piper Sandler\",\"toGrade\":\"Overweight\",\"fromGrade\":\"\",\"action\":\"main\"},{\"epochGradeDate\":1585163195,\"firm\":\"Morgan Stanley\",\"toGrade\":\"Overweight\",\"fromGrade\":\"\",\"action\":\"main\"},{\"epochGradeDate\":1584459060,\"firm\":\"Deutsche Bank\",\"toGrade\":\"Buy\",\"fromGrade\":\"\",\"action\":\"main\"},{\"epochGradeDate\":1580755161,\"firm\":\"CFRA\",\"toGrade\":\"Buy\",\"fromGrade\":\"\",\"action\":\"main\"},{\"epochGradeDate\":1580485276,\"firm\":\"Nomura\",\"toGrade\":\"Buy\",\"fromGrade\":\"\",\"action\":\"main\"},{\"epochGradeDate\":1580404155,\"firm\":\"Oppenheimer\",\"toGrade\":\"Outperform\",\"fromGrade\":\"\",\"action\":\"main\"},{\"epochGradeDate\":1580397999,\"firm\":\"Stifel Nicolaus\",\"toGrade\":\"Buy\",\"fromGrade\":\"\",\"action\":\"main\"},{\"epochGradeDate\":1580397256,\"firm\":\"Morgan Stanley\",\"toGrade\":\"Overweight\",\"fromGrade\":\"\",\"action\":\"main\"},{\"epochGradeDate\":1580392284,\"firm\":\"Credit Suisse\",\"toGrade\":\"Outperform\",\"fromGrade\":\"\",\"action\":\"main\"},{\"epochGradeDate\":1580391358,\"firm\":\"BMO Capital\",\"toGrade\":\"Outperform\",\"fromGrade\":\"\",\"action\":\"main\"},{\"epochGradeDate\":1580389929,\"firm\":\"Wells Fargo\",\"toGrade\":\"Overweight\",\"fromGrade\":\"\",\"action\":\"main\"},{\"epochGradeDate\":1580389005,\"firm\":\"UBS\",\"toGrade\":\"Buy\",\"fromGrade\":\"\",\"action\":\"main\"},{\"epochGradeDate\":1580388958,\"firm\":\"Piper Sandler\",\"toGrade\":\"Overweight\",\"fromGrade\":\"\",\"action\":\"main\"},{\"epochGradeDate\":1580388035,\"firm\":\"Raymond James\",\"toGrade\":\"Strong Buy\",\"fromGrade\":\"\",\"action\":\"main\"},{\"epochGradeDate\":1580385597,\"firm\":\"Stifel\",\"toGrade\":\"Buy\",\"fromGrade\":\"\",\"action\":\"main\"},{\"epochGradeDate\":1580385390,\"firm\":\"RBC Capital\",\"toGrade\":\"Outperform\",\"fromGrade\":\"\",\"action\":\"main\"},{\"epochGradeDate\":1580385211,\"firm\":\"Wedbush\",\"toGrade\":\"Outperform\",\"fromGrade\":\"\",\"action\":\"main\"},{\"epochGradeDate\":1580384795,\"firm\":\"Citigroup\",\"toGrade\":\"Neutral\",\"fromGrade\":\"\",\"action\":\"main\"},{\"epochGradeDate\":1580384679,\"firm\":\"Mizuho\",\"toGrade\":\"Buy\",\"fromGrade\":\"\",\"action\":\"main\"},{\"epochGradeDate\":1579788694,\"firm\":\"Piper Sandler\",\"toGrade\":\"Overweight\",\"fromGrade\":\"\",\"action\":\"main\"},{\"epochGradeDate\":1579612446,\"firm\":\"RBC Capital\",\"toGrade\":\"Outperform\",\"fromGrade\":\"\",\"action\":\"main\"},{\"epochGradeDate\":1579179449,\"firm\":\"Wells Fargo\",\"toGrade\":\"Overweight\",\"fromGrade\":\"\",\"action\":\"main\"},{\"epochGradeDate\":1578919947,\"firm\":\"Credit Suisse\",\"toGrade\":\"Outperform\",\"fromGrade\":\"\",\"action\":\"main\"},{\"epochGradeDate\":1578662045,\"firm\":\"Jefferies\",\"toGrade\":\"Buy\",\"fromGrade\":\"\",\"action\":\"main\"},{\"epochGradeDate\":1578575347,\"firm\":\"Wedbush\",\"toGrade\":\"Outperform\",\"fromGrade\":\"\",\"action\":\"main\"},{\"epochGradeDate\":1578575174,\"firm\":\"Cowen & Co.\",\"toGrade\":\"Outperform\",\"fromGrade\":\"\",\"action\":\"main\"},{\"epochGradeDate\":1578495274,\"firm\":\"Morgan Stanley\",\"toGrade\":\"Overweight\",\"fromGrade\":\"\",\"action\":\"main\"},{\"epochGradeDate\":1576591207,\"firm\":\"Wedbush\",\"toGrade\":\"Outperform\",\"fromGrade\":\"\",\"action\":\"main\"},{\"epochGradeDate\":1576589233,\"firm\":\"Deutsche Bank\",\"toGrade\":\"Buy\",\"fromGrade\":\"\",\"action\":\"main\"},{\"epochGradeDate\":1572273412,\"firm\":\"Mizuho\",\"toGrade\":\"Buy\",\"fromGrade\":\"\",\"action\":\"main\"},{\"epochGradeDate\":1571922592,\"firm\":\"Barclays\",\"toGrade\":\"Overweight\",\"fromGrade\":\"\",\"action\":\"main\"},{\"epochGradeDate\":1571921776,\"firm\":\"Stifel\",\"toGrade\":\"Buy\",\"fromGrade\":\"\",\"action\":\"main\"},{\"epochGradeDate\":1571921694,\"firm\":\"Citi\",\"toGrade\":\"Neutral\",\"fromGrade\":\"\",\"action\":\"main\"},{\"epochGradeDate\":1571921518,\"firm\":\"Morgan Stanley\",\"toGrade\":\"Overweight\",\"fromGrade\":\"\",\"action\":\"main\"},{\"epochGradeDate\":1571919753,\"firm\":\"BMO Capital\",\"toGrade\":\"Outperform\",\"fromGrade\":\"\",\"action\":\"main\"},{\"epochGradeDate\":1571918294,\"firm\":\"Wedbush\",\"toGrade\":\"Outperform\",\"fromGrade\":\"\",\"action\":\"main\"},{\"epochGradeDate\":1570530614,\"firm\":\"Jefferies\",\"toGrade\":\"Buy\",\"fromGrade\":\"Hold\",\"action\":\"up\"},{\"epochGradeDate\":1563542946,\"firm\":\"BMO Capital\",\"toGrade\":\"Outperform\",\"fromGrade\":\"\",\"action\":\"main\"},{\"epochGradeDate\":1563540611,\"firm\":\"Citigroup\",\"toGrade\":\"Neutral\",\"fromGrade\":\"\",\"action\":\"main\"},{\"epochGradeDate\":1563539861,\"firm\":\"Canaccord Genuity\",\"toGrade\":\"Buy\",\"fromGrade\":\"\",\"action\":\"main\"},{\"epochGradeDate\":1563537503,\"firm\":\"Morgan Stanley\",\"toGrade\":\"Overweight\",\"fromGrade\":\"\",\"action\":\"main\"},{\"epochGradeDate\":1563536585,\"firm\":\"Raymond James\",\"toGrade\":\"Strong Buy\",\"fromGrade\":\"\",\"action\":\"main\"},{\"epochGradeDate\":1563536307,\"firm\":\"Credit Suisse\",\"toGrade\":\"Outperform\",\"fromGrade\":\"\",\"action\":\"main\"},{\"epochGradeDate\":1563533572,\"firm\":\"Stifel Nicolaus\",\"toGrade\":\"Buy\",\"fromGrade\":\"\",\"action\":\"main\"},{\"epochGradeDate\":1563530744,\"firm\":\"KeyBanc\",\"toGrade\":\"Overweight\",\"fromGrade\":\"\",\"action\":\"main\"},{\"epochGradeDate\":1562933686,\"firm\":\"Wells Fargo\",\"toGrade\":\"Outperform\",\"fromGrade\":\"\",\"action\":\"main\"},{\"epochGradeDate\":1561473100,\"firm\":\"Jefferies\",\"toGrade\":\"Underperform\",\"fromGrade\":\"\",\"action\":\"main\"},{\"epochGradeDate\":1560952537,\"firm\":\"Deutsche Bank\",\"toGrade\":\"Buy\",\"fromGrade\":\"\",\"action\":\"main\"},{\"epochGradeDate\":1556207419,\"firm\":\"Raymond James\",\"toGrade\":\"Strong Buy\",\"fromGrade\":\"Strong Buy\",\"action\":\"main\"},{\"epochGradeDate\":1556205301,\"firm\":\"Nomura\",\"toGrade\":\"Buy\",\"fromGrade\":\"Buy\",\"action\":\"main\"},{\"epochGradeDate\":1556203999,\"firm\":\"BMO Capital\",\"toGrade\":\"Outperform\",\"fromGrade\":\"Outperform\",\"action\":\"main\"},{\"epochGradeDate\":1556202757,\"firm\":\"Bank of America\",\"toGrade\":\"Buy\",\"fromGrade\":\"Buy\",\"action\":\"main\"},{\"epochGradeDate\":1556201067,\"firm\":\"UBS\",\"toGrade\":\"Buy\",\"fromGrade\":\"Buy\",\"action\":\"main\"},{\"epochGradeDate\":1556199976,\"firm\":\"Barclays\",\"toGrade\":\"Overweight\",\"fromGrade\":\"Overweight\",\"action\":\"main\"},{\"epochGradeDate\":1556198739,\"firm\":\"Deutsche Bank\",\"toGrade\":\"Buy\",\"fromGrade\":\"Buy\",\"action\":\"main\"},{\"epochGradeDate\":1556197279,\"firm\":\"Morgan Stanley\",\"toGrade\":\"Overweight\",\"fromGrade\":\"Overweight\",\"action\":\"main\"},{\"epochGradeDate\":1556194749,\"firm\":\"KeyBanc\",\"toGrade\":\"Overweight\",\"fromGrade\":\"Overweight\",\"action\":\"main\"},{\"epochGradeDate\":1556194051,\"firm\":\"Wedbush\",\"toGrade\":\"Outperform\",\"fromGrade\":\"Outperform\",\"action\":\"main\"},{\"epochGradeDate\":1555505019,\"firm\":\"KeyBanc\",\"toGrade\":\"Overweight\",\"fromGrade\":\"Overweight\",\"action\":\"main\"},{\"epochGradeDate\":1555071052,\"firm\":\"Barclays\",\"toGrade\":\"Overweight\",\"fromGrade\":\"Overweight\",\"action\":\"main\"},{\"epochGradeDate\":1548938333,\"firm\":\"Nomura\",\"toGrade\":\"Buy\",\"fromGrade\":\"Buy\",\"action\":\"main\"},{\"epochGradeDate\":1540479549,\"firm\":\"Citigroup\",\"toGrade\":\"Neutral\",\"fromGrade\":\"Neutral\",\"action\":\"main\"},{\"epochGradeDate\":1540478326,\"firm\":\"Nomura\",\"toGrade\":\"Buy\",\"fromGrade\":\"Buy\",\"action\":\"main\"},{\"epochGradeDate\":1540474736,\"firm\":\"KeyBanc\",\"toGrade\":\"Overweight\",\"fromGrade\":\"Overweight\",\"action\":\"main\"},{\"epochGradeDate\":1539346523,\"firm\":\"Macquarie\",\"toGrade\":\"Outperform\",\"fromGrade\":\"Neutral\",\"action\":\"up\"},{\"epochGradeDate\":1536319235,\"firm\":\"Barclays\",\"toGrade\":\"Overweight\",\"fromGrade\":\"Overweight\",\"action\":\"main\"},{\"epochGradeDate\":1532348364,\"firm\":\"Argus\",\"toGrade\":\"Buy\",\"fromGrade\":\"Buy\",\"action\":\"main\"},{\"epochGradeDate\":1532105707,\"firm\":\"Barclays\",\"toGrade\":\"Overweight\",\"fromGrade\":\"Overweight\",\"action\":\"main\"},{\"epochGradeDate\":1532092381,\"firm\":\"BMO Capital\",\"toGrade\":\"Outperform\",\"fromGrade\":\"Outperform\",\"action\":\"main\"},{\"epochGradeDate\":1532091919,\"firm\":\"Wells Fargo\",\"toGrade\":\"Outperform\",\"fromGrade\":\"Outperform\",\"action\":\"main\"},{\"epochGradeDate\":1532090431,\"firm\":\"Credit Suisse\",\"toGrade\":\"Outperform\",\"fromGrade\":\"Outperform\",\"action\":\"main\"},{\"epochGradeDate\":1532087074,\"firm\":\"Citigroup\",\"toGrade\":\"Neutral\",\"fromGrade\":\"Neutral\",\"action\":\"main\"},{\"epochGradeDate\":1532086084,\"firm\":\"Stifel Nicolaus\",\"toGrade\":\"Buy\",\"fromGrade\":\"Buy\",\"action\":\"main\"},{\"epochGradeDate\":1532085639,\"firm\":\"KeyBanc\",\"toGrade\":\"Overweight\",\"fromGrade\":\"Overweight\",\"action\":\"main\"},{\"epochGradeDate\":1531839970,\"firm\":\"Bank of America\",\"toGrade\":\"Buy\",\"fromGrade\":\"Buy\",\"action\":\"main\"},{\"epochGradeDate\":1531831623,\"firm\":\"Raymond James\",\"toGrade\":\"Strong Buy\",\"fromGrade\":\"Strong Buy\",\"action\":\"main\"},{\"epochGradeDate\":1531830344,\"firm\":\"PiperJaffray\",\"toGrade\":\"Overweight\",\"fromGrade\":\"Overweight\",\"action\":\"main\"},{\"epochGradeDate\":1528286583,\"firm\":\"Argus\",\"toGrade\":\"Buy\",\"fromGrade\":\"Buy\",\"action\":\"main\"},{\"epochGradeDate\":1525528837,\"firm\":\"B. Riley FBR\",\"toGrade\":\"Neutral\",\"fromGrade\":\"\",\"action\":\"init\"},{\"epochGradeDate\":1525527135,\"firm\":\"Argus\",\"toGrade\":\"Hold\",\"fromGrade\":\"Buy\",\"action\":\"down\"},{\"epochGradeDate\":1525090829,\"firm\":\"Citigroup\",\"toGrade\":\"Neutral\",\"fromGrade\":\"Neutral\",\"action\":\"main\"},{\"epochGradeDate\":1524836741,\"firm\":\"Barclays\",\"toGrade\":\"Overweight\",\"fromGrade\":\"Overweight\",\"action\":\"main\"},{\"epochGradeDate\":1524832957,\"firm\":\"JP Morgan\",\"toGrade\":\"Overweight\",\"fromGrade\":\"Neutral\",\"action\":\"up\"},{\"epochGradeDate\":1524831212,\"firm\":\"Canaccord Genuity\",\"toGrade\":\"Buy\",\"fromGrade\":\"Buy\",\"action\":\"main\"},{\"epochGradeDate\":1524830117,\"firm\":\"Stifel Nicolaus\",\"toGrade\":\"Buy\",\"fromGrade\":\"Buy\",\"action\":\"main\"},{\"epochGradeDate\":1522090937,\"firm\":\"Morgan Stanley\",\"toGrade\":\"Overweight\",\"fromGrade\":\"Overweight\",\"action\":\"main\"},{\"epochGradeDate\":1517581671,\"firm\":\"Morgan Stanley\",\"toGrade\":\"Overweight\",\"fromGrade\":\"Overweight\",\"action\":\"main\"},{\"epochGradeDate\":1517578480,\"firm\":\"Nomura\",\"toGrade\":\"Buy\",\"fromGrade\":\"Buy\",\"action\":\"main\"},{\"epochGradeDate\":1517506630,\"firm\":\"Canaccord Genuity\",\"toGrade\":\"Buy\",\"fromGrade\":\"Buy\",\"action\":\"main\"},{\"epochGradeDate\":1517498487,\"firm\":\"BMO Capital\",\"toGrade\":\"Outperform\",\"fromGrade\":\"Outperform\",\"action\":\"main\"},{\"epochGradeDate\":1517497089,\"firm\":\"Bank of America\",\"toGrade\":\"Buy\",\"fromGrade\":\"Buy\",\"action\":\"main\"},{\"epochGradeDate\":1517494106,\"firm\":\"Stifel Nicolaus\",\"toGrade\":\"Buy\",\"fromGrade\":\"Buy\",\"action\":\"main\"},{\"epochGradeDate\":1517483221,\"firm\":\"KeyBanc\",\"toGrade\":\"Overweight\",\"fromGrade\":\"Overweight\",\"action\":\"main\"},{\"epochGradeDate\":1516899612,\"firm\":\"Barclays\",\"toGrade\":\"Overweight\",\"fromGrade\":\"Overweight\",\"action\":\"main\"},{\"epochGradeDate\":1516892143,\"firm\":\"JP Morgan\",\"toGrade\":\"Neutral\",\"fromGrade\":\"Neutral\",\"action\":\"main\"},{\"epochGradeDate\":1510238434,\"firm\":\"UBS\",\"toGrade\":\"Buy\",\"fromGrade\":\"\",\"action\":\"main\"},{\"epochGradeDate\":1509466780,\"firm\":\"Oppenheimer\",\"toGrade\":\"Outperform\",\"fromGrade\":\"\",\"action\":\"main\"},{\"epochGradeDate\":1509463377,\"firm\":\"Argus\",\"toGrade\":\"Buy\",\"fromGrade\":\"Hold\",\"action\":\"up\"},{\"epochGradeDate\":1509385618,\"firm\":\"Citigroup\",\"toGrade\":\"Sell\",\"fromGrade\":\"\",\"action\":\"main\"},{\"epochGradeDate\":1509128546,\"firm\":\"Canaccord Genuity\",\"toGrade\":\"Buy\",\"fromGrade\":\"\",\"action\":\"main\"},{\"epochGradeDate\":1509124909,\"firm\":\"BMO Capital\",\"toGrade\":\"Outperform\",\"fromGrade\":\"\",\"action\":\"main\"},{\"epochGradeDate\":1509120674,\"firm\":\"Barclays\",\"toGrade\":\"Overweight\",\"fromGrade\":\"\",\"action\":\"main\"},{\"epochGradeDate\":1509109208,\"firm\":\"Citigroup\",\"toGrade\":\"Sell\",\"fromGrade\":\"\",\"action\":\"main\"},{\"epochGradeDate\":1509107042,\"firm\":\"Stifel Nicolaus\",\"toGrade\":\"Buy\",\"fromGrade\":\"\",\"action\":\"main\"},{\"epochGradeDate\":1507204663,\"firm\":\"Canaccord Genuity\",\"toGrade\":\"Buy\",\"fromGrade\":\"Hold\",\"action\":\"up\"},{\"epochGradeDate\":1500657375,\"firm\":\"Citigroup\",\"toGrade\":\"Sell\",\"fromGrade\":\"\",\"action\":\"main\"},{\"epochGradeDate\":1500652287,\"firm\":\"Deutsche Bank\",\"toGrade\":\"Buy\",\"fromGrade\":\"\",\"action\":\"main\"},{\"epochGradeDate\":1500308729,\"firm\":\"Credit Suisse\",\"toGrade\":\"Outperform\",\"fromGrade\":\"\",\"action\":\"main\"},{\"epochGradeDate\":1485194075,\"firm\":\"Tigress Financial\",\"toGrade\":\"Buy\",\"fromGrade\":\"Neutral\",\"action\":\"up\"},{\"epochGradeDate\":1479373419,\"firm\":\"Goldman Sachs\",\"toGrade\":\"Buy\",\"fromGrade\":\"Neutral\",\"action\":\"up\"},{\"epochGradeDate\":1478788585,\"firm\":\"Atlantic Equities\",\"toGrade\":\"Neutral\",\"fromGrade\":\"Underweight\",\"action\":\"up\"},{\"epochGradeDate\":1477056541,\"firm\":\"Nomura\",\"toGrade\":\"Buy\",\"fromGrade\":\"\",\"action\":\"main\"},{\"epochGradeDate\":1477054903,\"firm\":\"Wunderlich\",\"toGrade\":\"Buy\",\"fromGrade\":\"Hold\",\"action\":\"up\"},{\"epochGradeDate\":1477053109,\"firm\":\"William Blair\",\"toGrade\":\"Outperform\",\"fromGrade\":\"Market Perform\",\"action\":\"up\"},{\"epochGradeDate\":1476671041,\"firm\":\"Goldman Sachs\",\"toGrade\":\"Neutral\",\"fromGrade\":\"\",\"action\":\"main\"},{\"epochGradeDate\":1472459583,\"firm\":\"UBS\",\"toGrade\":\"Buy\",\"fromGrade\":\"\",\"action\":\"main\"},{\"epochGradeDate\":1469049639,\"firm\":\"Citigroup\",\"toGrade\":\"Sell\",\"fromGrade\":\"\",\"action\":\"main\"},{\"epochGradeDate\":1468996997,\"firm\":\"Wunderlich\",\"toGrade\":\"Hold\",\"fromGrade\":\"\",\"action\":\"main\"},{\"epochGradeDate\":1468915863,\"firm\":\"William Blair\",\"toGrade\":\"Market Perform\",\"fromGrade\":\"\",\"action\":\"init\"},{\"epochGradeDate\":1467895384,\"firm\":\"Citigroup\",\"toGrade\":\"Sell\",\"fromGrade\":\"\",\"action\":\"main\"},{\"epochGradeDate\":1464080172,\"firm\":\"Cowen & Co.\",\"toGrade\":\"Outperform\",\"fromGrade\":\"\",\"action\":\"up\"},{\"epochGradeDate\":1464070791,\"firm\":\"Cowen & Co.\",\"toGrade\":\"Outperform\",\"fromGrade\":\"Market Perform\",\"action\":\"up\"},{\"epochGradeDate\":1463379992,\"firm\":\"Canaccord Genuity\",\"toGrade\":\"Hold\",\"fromGrade\":\"\",\"action\":\"init\"},{\"epochGradeDate\":1461651639,\"firm\":\"Macquarie\",\"toGrade\":\"Neutral\",\"fromGrade\":\"\",\"action\":\"init\"},{\"epochGradeDate\":1461315335,\"firm\":\"Macquarie\",\"toGrade\":\"Neutral\",\"fromGrade\":\"\",\"action\":\"main\"},{\"epochGradeDate\":1461312506,\"firm\":\"RBC Capital\",\"toGrade\":\"Outperform\",\"fromGrade\":\"\",\"action\":\"main\"},{\"epochGradeDate\":1461311026,\"firm\":\"Cowen & Co.\",\"toGrade\":\"Market Perform\",\"fromGrade\":\"\",\"action\":\"main\"},{\"epochGradeDate\":1461308482,\"firm\":\"Morgan Stanley\",\"toGrade\":\"Overweight\",\"fromGrade\":\"\",\"action\":\"main\"},{\"epochGradeDate\":1461304674,\"firm\":\"Goldman Sachs\",\"toGrade\":\"Neutral\",\"fromGrade\":\"\",\"action\":\"main\"},{\"epochGradeDate\":1461058246,\"firm\":\"Nomura\",\"toGrade\":\"Buy\",\"fromGrade\":\"\",\"action\":\"main\"},{\"epochGradeDate\":1459496144,\"firm\":\"Cowen & Co.\",\"toGrade\":\"Market Perform\",\"fromGrade\":\"\",\"action\":\"main\"},{\"epochGradeDate\":1459492532,\"firm\":\"Cowen & Co.\",\"toGrade\":\"Market Perform\",\"fromGrade\":\"\",\"action\":\"main\"},{\"epochGradeDate\":1457073035,\"firm\":\"Macquarie\",\"toGrade\":\"Neutral\",\"fromGrade\":\"\",\"action\":\"init\"},{\"epochGradeDate\":1454320435,\"firm\":\"Hilliard Lyons\",\"toGrade\":\"Neutral\",\"fromGrade\":\"Long-Term Buy\",\"action\":\"down\"},{\"epochGradeDate\":1454054768,\"firm\":\"Credit Suisse\",\"toGrade\":\"Outperform\",\"fromGrade\":\"\",\"action\":\"main\"},{\"epochGradeDate\":1452665801,\"firm\":\"Morgan Stanley\",\"toGrade\":\"Overweight\",\"fromGrade\":\"Equal-Weight\",\"action\":\"up\"},{\"epochGradeDate\":1452232794,\"firm\":\"BMO Capital\",\"toGrade\":\"Outperform\",\"fromGrade\":\"\",\"action\":\"init\"},{\"epochGradeDate\":1452058518,\"firm\":\"Barclays\",\"toGrade\":\"Overweight\",\"fromGrade\":\"\",\"action\":\"main\"},{\"epochGradeDate\":1450423192,\"firm\":\"Goldman Sachs\",\"toGrade\":\"Neutral\",\"fromGrade\":\"Sell\",\"action\":\"up\"},{\"epochGradeDate\":1450260069,\"firm\":\"Deutsche Bank\",\"toGrade\":\"Buy\",\"fromGrade\":\"\",\"action\":\"main\"},{\"epochGradeDate\":1448869471,\"firm\":\"Raymond James\",\"toGrade\":\"Strong Buy\",\"fromGrade\":\"Market Perform\",\"action\":\"up\"},{\"epochGradeDate\":1447163727,\"firm\":\"PiperJaffray\",\"toGrade\":\"Overweight\",\"fromGrade\":\"\",\"action\":\"main\"},{\"epochGradeDate\":1445607530,\"firm\":\"Barclays\",\"toGrade\":\"Overweight\",\"fromGrade\":\"\",\"action\":\"main\"},{\"epochGradeDate\":1445605280,\"firm\":\"Jefferies\",\"toGrade\":\"Underweight\",\"fromGrade\":\"\",\"action\":\"main\"},{\"epochGradeDate\":1445590601,\"firm\":\"Bank of America\",\"toGrade\":\"Buy\",\"fromGrade\":\"Neutral\",\"action\":\"up\"},{\"epochGradeDate\":1443681872,\"firm\":\"Bank of America\",\"toGrade\":\"Neutral\",\"fromGrade\":\"Underperform\",\"action\":\"up\"},{\"epochGradeDate\":1439449166,\"firm\":\"Stifel Nicolaus\",\"toGrade\":\"Buy\",\"fromGrade\":\"Hold\",\"action\":\"up\"},{\"epochGradeDate\":1437562800,\"firm\":\"Barclays\",\"toGrade\":\"Overweight\",\"fromGrade\":\"\",\"action\":\"main\"},{\"epochGradeDate\":1437549956,\"firm\":\"Citigroup\",\"toGrade\":\"Sell\",\"fromGrade\":\"\",\"action\":\"main\"},{\"epochGradeDate\":1436439600,\"firm\":\"Jefferies\",\"toGrade\":\"Underperform\",\"fromGrade\":\"\",\"action\":\"main\"},{\"epochGradeDate\":1436328198,\"firm\":\"Morgan Stanley\",\"toGrade\":\"Equal-Weight\",\"fromGrade\":\"\",\"action\":\"main\"},{\"epochGradeDate\":1434611947,\"firm\":\"Jefferies\",\"toGrade\":\"Underperform\",\"fromGrade\":\"\",\"action\":\"main\"},{\"epochGradeDate\":1433834690,\"firm\":\"Wunderlich\",\"toGrade\":\"Hold\",\"fromGrade\":\"\",\"action\":\"init\"},{\"epochGradeDate\":1433322000,\"firm\":\"Barclays\",\"toGrade\":\"Overweight\",\"fromGrade\":\"\",\"action\":\"main\"},{\"epochGradeDate\":1431498141,\"firm\":\"Deutsche Bank\",\"toGrade\":\"Buy\",\"fromGrade\":\"Hold\",\"action\":\"up\"},{\"epochGradeDate\":1430384400,\"firm\":\"KeyBanc\",\"toGrade\":\"Overweight\",\"fromGrade\":\"\",\"action\":\"main\"},{\"epochGradeDate\":1430125200,\"firm\":\"Citigroup\",\"toGrade\":\"Sell\",\"fromGrade\":\"\",\"action\":\"main\"},{\"epochGradeDate\":1429866000,\"firm\":\"Pacific Crest\",\"toGrade\":\"Overweight\",\"fromGrade\":\"\",\"action\":\"main\"},{\"epochGradeDate\":1429864319,\"firm\":\"Nomura\",\"toGrade\":\"Buy\",\"fromGrade\":\"Neutral\",\"action\":\"up\"},{\"epochGradeDate\":1429088400,\"firm\":\"Citigroup\",\"toGrade\":\"Sell\",\"fromGrade\":\"\",\"action\":\"main\"},{\"epochGradeDate\":1428656400,\"firm\":\"Barclays\",\"toGrade\":\"Overweight\",\"fromGrade\":\"\",\"action\":\"main\"},{\"epochGradeDate\":1428299864,\"firm\":\"Wells Fargo\",\"toGrade\":\"Outperform\",\"fromGrade\":\"Market Perform\",\"action\":\"up\"},{\"epochGradeDate\":1426237200,\"firm\":\"Pacific Crest\",\"toGrade\":\"Outperform\",\"fromGrade\":\"\",\"action\":\"main\"},{\"epochGradeDate\":1422511040,\"firm\":\"Atlantic Equities\",\"toGrade\":\"Underweight\",\"fromGrade\":\"Neutral\",\"action\":\"down\"},{\"epochGradeDate\":1422435600,\"firm\":\"Citigroup\",\"toGrade\":\"Sell\",\"fromGrade\":\"\",\"action\":\"main\"},{\"epochGradeDate\":1422349200,\"firm\":\"Barclays\",\"toGrade\":\"Overweight\",\"fromGrade\":\"\",\"action\":\"main\"},{\"epochGradeDate\":1422343513,\"firm\":\"Nomura\",\"toGrade\":\"Neutral\",\"fromGrade\":\"Buy\",\"action\":\"down\"},{\"epochGradeDate\":1422339101,\"firm\":\"JP Morgan\",\"toGrade\":\"Neutral\",\"fromGrade\":\"Overweight\",\"action\":\"down\"},{\"epochGradeDate\":1420534800,\"firm\":\"Barclays\",\"toGrade\":\"Overweight\",\"fromGrade\":\"\",\"action\":\"main\"},{\"epochGradeDate\":1418688000,\"firm\":\"Bank of America\",\"toGrade\":\"Underperform\",\"fromGrade\":\"Neutral\",\"action\":\"down\"},{\"epochGradeDate\":1418342400,\"firm\":\"PiperJaffray\",\"toGrade\":\"Overweight\",\"fromGrade\":\"\",\"action\":\"init\"},{\"epochGradeDate\":1416591070,\"firm\":\"Jefferies\",\"toGrade\":\"Underperform\",\"fromGrade\":\"\",\"action\":\"init\"},{\"epochGradeDate\":1416301200,\"firm\":\"Citigroup\",\"toGrade\":\"Neutral\",\"fromGrade\":\"\",\"action\":\"main\"},{\"epochGradeDate\":1414141200,\"firm\":\"Credit Suisse\",\"toGrade\":\"Outperform\",\"fromGrade\":\"\",\"action\":\"main\"},{\"epochGradeDate\":1414139400,\"firm\":\"Credit Suisse\",\"toGrade\":\"Outperform\",\"fromGrade\":\"\",\"action\":\"main\"},{\"epochGradeDate\":1412845200,\"firm\":\"BMO Capital\",\"toGrade\":\"Market Perform\",\"fromGrade\":\"\",\"action\":\"init\"},{\"epochGradeDate\":1412235974,\"firm\":\"FBN Securities\",\"toGrade\":\"Outperform\",\"fromGrade\":\"\",\"action\":\"init\"},{\"epochGradeDate\":1410336000,\"firm\":\"MKM Partners\",\"toGrade\":\"Buy\",\"fromGrade\":\"\",\"action\":\"init\"},{\"epochGradeDate\":1409821200,\"firm\":\"Barclays\",\"toGrade\":\"Overweight\",\"fromGrade\":\"\",\"action\":\"main\"},{\"epochGradeDate\":1406155018,\"firm\":\"UBS\",\"toGrade\":\"Buy\",\"fromGrade\":\"\",\"action\":\"main\"},{\"epochGradeDate\":1406153029,\"firm\":\"FBR Capital\",\"toGrade\":\"Outperform\",\"fromGrade\":\"\",\"action\":\"main\"},{\"epochGradeDate\":1406151967,\"firm\":\"Credit Suisse\",\"toGrade\":\"Outperform\",\"fromGrade\":\"\",\"action\":\"main\"},{\"epochGradeDate\":1406103346,\"firm\":\"Bank of America\",\"toGrade\":\"Neutral\",\"fromGrade\":\"Underperform\",\"action\":\"up\"},{\"epochGradeDate\":1406096434,\"firm\":\"Pacific Crest\",\"toGrade\":\"Outperform\",\"fromGrade\":\"Sector Perform\",\"action\":\"up\"},{\"epochGradeDate\":1405721129,\"firm\":\"Deutsche Bank\",\"toGrade\":\"Hold\",\"fromGrade\":\"\",\"action\":\"main\"},{\"epochGradeDate\":1405715608,\"firm\":\"Barclays\",\"toGrade\":\"Overweight\",\"fromGrade\":\"\",\"action\":\"main\"},{\"epochGradeDate\":1405454019,\"firm\":\"Nomura\",\"toGrade\":\"Buy\",\"fromGrade\":\"\",\"action\":\"main\"},{\"epochGradeDate\":1402601895,\"firm\":\"Citigroup\",\"toGrade\":\"Neutral\",\"fromGrade\":\"\",\"action\":\"main\"},{\"epochGradeDate\":1401948938,\"firm\":\"FBR Capital\",\"toGrade\":\"Outperform\",\"fromGrade\":\"Market Perform\",\"action\":\"up\"},{\"epochGradeDate\":1401453622,\"firm\":\"Summit Research Partners\",\"toGrade\":\"Hold\",\"fromGrade\":\"\",\"action\":\"init\"},{\"epochGradeDate\":1398409843,\"firm\":\"Credit Suisse\",\"toGrade\":\"Outperform\",\"fromGrade\":\"\",\"action\":\"main\"},{\"epochGradeDate\":1398393351,\"firm\":\"Oppenheimer\",\"toGrade\":\"Outperform\",\"fromGrade\":\"\",\"action\":\"main\"},{\"epochGradeDate\":1398390835,\"firm\":\"JP Morgan\",\"toGrade\":\"Neutral\",\"fromGrade\":\"\",\"action\":\"main\"},{\"epochGradeDate\":1398386470,\"firm\":\"FBR Capital\",\"toGrade\":\"Market Perform\",\"fromGrade\":\"\",\"action\":\"main\"},{\"epochGradeDate\":1398126134,\"firm\":\"Jefferies\",\"toGrade\":\"Buy\",\"fromGrade\":\"\",\"action\":\"main\"},{\"epochGradeDate\":1397463554,\"firm\":\"Deutsche Bank\",\"toGrade\":\"Hold\",\"fromGrade\":\"Buy\",\"action\":\"down\"},{\"epochGradeDate\":1395252203,\"firm\":\"Cowen & Co.\",\"toGrade\":\"Market Perform\",\"fromGrade\":\"\",\"action\":\"main\"},{\"epochGradeDate\":1395183483,\"firm\":\"Barclays\",\"toGrade\":\"Overweight\",\"fromGrade\":\"\",\"action\":\"main\"},{\"epochGradeDate\":1391529600,\"firm\":\"Sterne Agee\",\"toGrade\":\"Neutral\",\"fromGrade\":\"\",\"action\":\"init\"},{\"epochGradeDate\":1390550400,\"firm\":\"Deutsche Bank\",\"toGrade\":\"Buy\",\"fromGrade\":\"\",\"action\":\"main\"},{\"epochGradeDate\":1390548101,\"firm\":\"Credit Suisse\",\"toGrade\":\"Outperform\",\"fromGrade\":\"\",\"action\":\"main\"},{\"epochGradeDate\":1390492800,\"firm\":\"Deutsche Bank\",\"toGrade\":\"Buy\",\"fromGrade\":\"Hold\",\"action\":\"up\"},{\"epochGradeDate\":1389715200,\"firm\":\"Citigroup\",\"toGrade\":\"Neutral\",\"fromGrade\":\"Buy\",\"action\":\"down\"},{\"epochGradeDate\":1389342600,\"firm\":\"Barclays\",\"toGrade\":\"Overweight\",\"fromGrade\":\"Equal-weight\",\"action\":\"up\"},{\"epochGradeDate\":1385548643,\"firm\":\"Evercore Partners\",\"toGrade\":\"Overweight\",\"fromGrade\":\"\",\"action\":\"main\"},{\"epochGradeDate\":1384842452,\"firm\":\"McAdams Wright Ragen\",\"toGrade\":\"Hold\",\"fromGrade\":\"\",\"action\":\"main\"},{\"epochGradeDate\":1384755060,\"firm\":\"Bank of America\",\"toGrade\":\"Underperform\",\"fromGrade\":\"Neutral\",\"action\":\"down\"},{\"epochGradeDate\":1383724827,\"firm\":\"Nomura\",\"toGrade\":\"Buy\",\"fromGrade\":\"\",\"action\":\"main\"},{\"epochGradeDate\":1381818293,\"firm\":\"Jefferies\",\"toGrade\":\"Buy\",\"fromGrade\":\"Hold\",\"action\":\"up\"},{\"epochGradeDate\":1378277478,\"firm\":\"Morgan Stanley\",\"toGrade\":\"Equal-Weight\",\"fromGrade\":\"Overweight\",\"action\":\"down\"},{\"epochGradeDate\":1377503619,\"firm\":\"BMO Capital\",\"toGrade\":\"Market Perform\",\"fromGrade\":\"\",\"action\":\"main\"},{\"epochGradeDate\":1377157958,\"firm\":\"Nomura\",\"toGrade\":\"Buy\",\"fromGrade\":\"Neutral\",\"action\":\"up\"},{\"epochGradeDate\":1376378158,\"firm\":\"Stifel Nicolaus\",\"toGrade\":\"Hold\",\"fromGrade\":\"Buy\",\"action\":\"down\"},{\"epochGradeDate\":1375946799,\"firm\":\"Evercore Partners\",\"toGrade\":\"Overweight\",\"fromGrade\":\"Equal-Weight\",\"action\":\"up\"},{\"epochGradeDate\":1375086270,\"firm\":\"Atlantic Equities\",\"toGrade\":\"Neutral\",\"fromGrade\":\"Overweight\",\"action\":\"down\"},{\"epochGradeDate\":1374215857,\"firm\":\"Cowen & Co.\",\"toGrade\":\"Market Perform\",\"fromGrade\":\"Outperform\",\"action\":\"down\"},{\"epochGradeDate\":1372230102,\"firm\":\"Morgan Stanley\",\"toGrade\":\"Overweight\",\"fromGrade\":\"\",\"action\":\"main\"},{\"epochGradeDate\":1370423079,\"firm\":\"Deutsche Bank\",\"toGrade\":\"Hold\",\"fromGrade\":\"Buy\",\"action\":\"down\"},{\"epochGradeDate\":1369727715,\"firm\":\"Nomura\",\"toGrade\":\"Neutral\",\"fromGrade\":\"\",\"action\":\"main\"},{\"epochGradeDate\":1368606271,\"firm\":\"Stifel Nicolaus\",\"toGrade\":\"Buy\",\"fromGrade\":\"\",\"action\":\"main\"},{\"epochGradeDate\":1367316024,\"firm\":\"Standpoint Research\",\"toGrade\":\"Hold\",\"fromGrade\":\"Buy\",\"action\":\"down\"},{\"epochGradeDate\":1367303278,\"firm\":\"Morgan Stanley\",\"toGrade\":\"Overweight\",\"fromGrade\":\"Equal-Weight\",\"action\":\"main\"},{\"epochGradeDate\":1366905486,\"firm\":\"McAdams Wright Ragen\",\"toGrade\":\"Hold\",\"fromGrade\":\"Buy\",\"action\":\"down\"},{\"epochGradeDate\":1365752877,\"firm\":\"Credit Agricole\",\"toGrade\":\"Outperform\",\"fromGrade\":\"Buy\",\"action\":\"down\"},{\"epochGradeDate\":1365671340,\"firm\":\"Hilliard Lyons\",\"toGrade\":\"Neutral\",\"fromGrade\":\"Long-term Buy\",\"action\":\"down\"},{\"epochGradeDate\":1365668082,\"firm\":\"Nomura\",\"toGrade\":\"Neutral\",\"fromGrade\":\"Buy\",\"action\":\"down\"},{\"epochGradeDate\":1365660098,\"firm\":\"Goldman Sachs\",\"toGrade\":\"Sell\",\"fromGrade\":\"Neutral\",\"action\":\"down\"},{\"epochGradeDate\":1365593306,\"firm\":\"BGC Financial\",\"toGrade\":\"Hold\",\"fromGrade\":\"Buy\",\"action\":\"down\"},{\"epochGradeDate\":1365056359,\"firm\":\"Bank of America\",\"toGrade\":\"Neutral\",\"fromGrade\":\"Buy\",\"action\":\"down\"},{\"epochGradeDate\":1359992296,\"firm\":\"McAdams Wright Ragen\",\"toGrade\":\"Buy\",\"fromGrade\":\"\",\"action\":\"main\"},{\"epochGradeDate\":1359101017,\"firm\":\"Deutsche Bank\",\"toGrade\":\"Buy\",\"fromGrade\":\"\",\"action\":\"main\"},{\"epochGradeDate\":1358495657,\"firm\":\"Deutsche Bank\",\"toGrade\":\"Buy\",\"fromGrade\":\"\",\"action\":\"main\"},{\"epochGradeDate\":1357890979,\"firm\":\"Nomura\",\"toGrade\":\"Buy\",\"fromGrade\":\"\",\"action\":\"main\"},{\"epochGradeDate\":1357800444,\"firm\":\"Morgan Stanley\",\"toGrade\":\"Equal-Weight\",\"fromGrade\":\"Overweight\",\"action\":\"down\"},{\"epochGradeDate\":1357565639,\"firm\":\"Barclays\",\"toGrade\":\"Equal-Weight\",\"fromGrade\":\"\",\"action\":\"main\"},{\"epochGradeDate\":1355481186,\"firm\":\"SunTrust Robinson Humphrey\",\"toGrade\":\"Neutral\",\"fromGrade\":\"\",\"action\":\"init\"},{\"epochGradeDate\":1355471630,\"firm\":\"BMO Capital\",\"toGrade\":\"Market Perform\",\"fromGrade\":\"\",\"action\":\"init\"},{\"epochGradeDate\":1355401064,\"firm\":\"Barclays\",\"toGrade\":\"Equal-Weight\",\"fromGrade\":\"\",\"action\":\"main\"},{\"epochGradeDate\":1355303833,\"firm\":\"Standpoint Research\",\"toGrade\":\"Buy\",\"fromGrade\":\"Hold\",\"action\":\"up\"},{\"epochGradeDate\":1354716034,\"firm\":\"MKM Partners\",\"toGrade\":\"Neutral\",\"fromGrade\":\"\",\"action\":\"main\"},{\"epochGradeDate\":1354089000,\"firm\":\"Nomura\",\"toGrade\":\"\",\"fromGrade\":\"\",\"action\":\"main\"},{\"epochGradeDate\":1350648600,\"firm\":\"Barclays\",\"toGrade\":\"Equal-Weight\",\"fromGrade\":\"\",\"action\":\"main\"},{\"epochGradeDate\":1349083980,\"firm\":\"RBC Capital\",\"toGrade\":\"Sector Perform\",\"fromGrade\":\"Outperform\",\"action\":\"down\"},{\"epochGradeDate\":1349082660,\"firm\":\"RBC Capital\",\"toGrade\":\"Sector Perform\",\"fromGrade\":\"Outperform\",\"action\":\"down\"},{\"epochGradeDate\":1347465660,\"firm\":\"Jefferies\",\"toGrade\":\"Hold\",\"fromGrade\":\"\",\"action\":\"init\"},{\"epochGradeDate\":1345454040,\"firm\":\"Longbow Research\",\"toGrade\":\"Buy\",\"fromGrade\":\"\",\"action\":\"init\"},{\"epochGradeDate\":1342772640,\"firm\":\"Griffin Securities\",\"toGrade\":\"Buy\",\"fromGrade\":\"\",\"action\":\"init\"},{\"epochGradeDate\":1342766580,\"firm\":\"Goldman Sachs\",\"toGrade\":\"Neutral\",\"fromGrade\":\"\",\"action\":\"main\"},{\"epochGradeDate\":1334924880,\"firm\":\"McAdams Wright Ragen\",\"toGrade\":\"Buy\",\"fromGrade\":\"\",\"action\":\"main\"},{\"epochGradeDate\":1334922660,\"firm\":\"UBS\",\"toGrade\":\"Buy\",\"fromGrade\":\"\",\"action\":\"main\"},{\"epochGradeDate\":1334905500,\"firm\":\"Bank oferica\",\"toGrade\":\"Buy\",\"fromGrade\":\"\",\"action\":\"main\"},{\"epochGradeDate\":1334904240,\"firm\":\"Goldman Sachs\",\"toGrade\":\"Neutral\",\"fromGrade\":\"\",\"action\":\"main\"},{\"epochGradeDate\":1334902680,\"firm\":\"Deutsche Bank\",\"toGrade\":\"Buy\",\"fromGrade\":\"\",\"action\":\"main\"},{\"epochGradeDate\":1333453980,\"firm\":\"UBS\",\"toGrade\":\"Buy\",\"fromGrade\":\"\",\"action\":\"main\"},{\"epochGradeDate\":1332399780,\"firm\":\"Morgan Stanley\",\"toGrade\":\"Overweight\",\"fromGrade\":\"\",\"action\":\"main\"},{\"epochGradeDate\":1332165600,\"firm\":\"Hilliard Lyons\",\"toGrade\":\"Long-Term Buy\",\"fromGrade\":\"\",\"action\":\"main\"},{\"epochGradeDate\":1331885940,\"firm\":\"Argus Research\",\"toGrade\":\"Buy\",\"fromGrade\":\"\",\"action\":\"up\"}],\"maxAge\":86400},\"pageViews\":{\"shortTermTrend\":\"DOWN\",\"midTermTrend\":\"UP\",\"longTermTrend\":\"UP\",\"maxAge\":1},\"quoteData\":{\"MSFT\":{\"sourceInterval\":15,\"regularMarketOpen\":{\"raw\":195.79,\"fmt\":\"195.79\"},\"exchange\":\"NMS\",\"regularMarketTime\":{\"raw\":1592856000,\"fmt\":\"4:00PM EDT\"},\"fiftyTwoWeekRange\":{\"raw\":\"130.78 - 200.76\",\"fmt\":\"130.78 - 200.76\"},\"sharesOutstanding\":{\"raw\":7583439872,\"fmt\":\"7.583B\",\"longFmt\":\"7,583,439,872\"},\"regularMarketDayHigh\":{\"raw\":200.76,\"fmt\":\"200.76\"},\"shortName\":\"Microsoft Corporation\",\"longName\":\"Microsoft Corporation\",\"exchangeTimezoneName\":\"America/New_York\",\"regularMarketChange\":{\"raw\":5.4200134,\"fmt\":\"5.42\"},\"regularMarketPreviousClose\":{\"raw\":195.15,\"fmt\":\"195.15\"},\"fiftyTwoWeekHighChange\":{\"raw\":-0.18998718,\"fmt\":\"-0.19\"},\"exchangeTimezoneShortName\":\"EDT\",\"fiftyTwoWeekLowChange\":{\"raw\":69.79001,\"fmt\":\"69.79\"},\"exchangeDataDelayedBy\":0,\"regularMarketDayLow\":{\"raw\":195.2301,\"fmt\":\"195.23\"},\"priceHint\":2,\"currency\":\"USD\",\"regularMarketPrice\":{\"raw\":200.57,\"fmt\":\"200.57\"},\"regularMarketVolume\":{\"raw\":32818929,\"fmt\":\"32.819M\",\"longFmt\":\"32,818,929\"},\"isLoading\":false,\"triggerable\":true,\"gmtOffSetMilliseconds\":-14400000,\"firstTradeDateMilliseconds\":511108200000,\"region\":\"US\",\"marketState\":\"PREPRE\",\"marketCap\":{\"raw\":1521010606080,\"fmt\":\"1.521T\",\"longFmt\":\"1,521,010,606,080\"},\"quoteType\":\"EQUITY\",\"invalid\":false,\"symbol\":\"MSFT\",\"language\":\"en\",\"fiftyTwoWeekLowChangePercent\":{\"raw\":0.5336444,\"fmt\":\"53.36%\"},\"regularMarketDayRange\":{\"raw\":\"195.2301 - 200.76\",\"fmt\":\"195.23 - 200.76\"},\"messageBoardId\":\"finmb_21835\",\"fiftyTwoWeekHigh\":{\"raw\":200.76,\"fmt\":\"200.76\"},\"fiftyTwoWeekHighChangePercent\":{\"raw\":-0.00094633986,\"fmt\":\"-0.09%\"},\"uuid\":\"b004b3ec-de24-385e-b2c1-923f10d3fb62\",\"market\":\"us_market\",\"fiftyTwoWeekLow\":{\"raw\":130.78,\"fmt\":\"130.78\"},\"regularMarketChangePercent\":{\"raw\":2.7773578,\"fmt\":\"2.78%\"},\"fullExchangeName\":\"NasdaqGS\",\"tradeable\":false}},\"mktmData\":{}}\n"
     ]
    }
   ],
   "source": [
    "import requests\n",
    "\n",
    "url = \"https://apidojo-yahoo-finance-v1.p.rapidapi.com/stock/get-detail\"\n",
    "\n",
    "querystring = {\"region\":\"US\",\"lang\":\"en\",\"symbol\":\"MSFT\"}\n",
    "\n",
    "headers = {\n",
    "    'x-rapidapi-host': \"apidojo-yahoo-finance-v1.p.rapidapi.com\",\n",
    "    'x-rapidapi-key': \"6bece6952dmshfc8e884c923d5d3p121531jsn35fcd00b74b0\"\n",
    "    }\n",
    "\n",
    "response = requests.request(\"GET\", url, headers=headers, params=querystring)\n",
    "\n",
    "print(response.text)"
   ]
  },
  {
   "cell_type": "markdown",
   "metadata": {},
   "source": [
    "# Functions For Tecnical Analysis"
   ]
  },
  {
   "cell_type": "code",
   "execution_count": 44,
   "metadata": {
    "scrolled": true
   },
   "outputs": [],
   "source": [
    "from alpha_vantage.techindicators import TechIndicators\n",
    "import matplotlib.pyplot as plt\n",
    "from click._compat import raw_input\n",
    "from alpha_vantage.timeseries import TimeSeries\n",
    "import pandas as pd\n",
    "class TechnicalIndicators:\n",
    "    def __init__(self):\n",
    "        self.api_key= \"b\"\n",
    "        self.macd_data=self.macd()\n",
    "        self.bbands_data=self.bbands()\n",
    "    def macd(self):\n",
    "        a = TechIndicators(key=self.api_key, output_format='pandas')\n",
    "        data, meta_data=a.get_macd(symbol=self.stock_name,interval='daily')\n",
    "        return data\n",
    "    def bbands (self):\n",
    "        c=TechIndicators(key=self.api_key,output_format='pandas')\n",
    "        data,meta_data=c.get_bbands(symbol=self.stock_name)\n",
    "        return data\n",
    "   "
   ]
  },
  {
   "cell_type": "code",
   "execution_count": 40,
   "metadata": {},
   "outputs": [
    {
     "name": "stdout",
     "output_type": "stream",
     "text": [
      "Stock Nameamzn\n"
     ]
    },
    {
     "data": {
      "text/plain": [
       "'amzn'"
      ]
     },
     "execution_count": 40,
     "metadata": {},
     "output_type": "execute_result"
    }
   ],
   "source": [
    "  def question(self):\n",
    "        stock_name=raw_input(\"Stock Name\")\n",
    "        return stock_name\n",
    "question(\"\")"
   ]
  },
  {
   "cell_type": "code",
   "execution_count": 42,
   "metadata": {},
   "outputs": [],
   "source": [
    "\n",
    "def import_web(ticker):\n",
    "    url = \"https://rapidapi.com/alphavantage/api/alpha-vantage?endpoint=apiendpoint_21c557b1-05af-40fc-b4a3-d4724d00a93c\"\n",
    "    fp = urllib.request.urlopen(url)\n",
    "    mybytes = fp.read()\n",
    "    mystr = mybytes.decode(\"utf8\")\n",
    "    fp.close()\n",
    "    return mystr"
   ]
  },
  {
   "cell_type": "code",
   "execution_count": 43,
   "metadata": {},
   "outputs": [],
   "source": [
    "def get_value(ticker):\n",
    "    js = import_web(ticker)\n",
    "    parsed_data = json.loads(js) # loads the json and converts the json string into dictionary\n",
    "    ps = parsed_data['Time Series (1min)']\n",
    "    partitionSave(ps,ticker)"
   ]
  },
  {
   "cell_type": "code",
   "execution_count": 120,
   "metadata": {},
   "outputs": [
    {
     "name": "stdout",
     "output_type": "stream",
     "text": [
      "Starting with GOOGL\n",
      "<urlopen error [SSL: CERTIFICATE_VERIFY_FAILED] certificate verify failed: unable to get local issuer certificate (_ssl.c:1108)>\n"
     ]
    }
   ],
   "source": [
    "def main():\n",
    "    #Start Process\n",
    "    company_list = ['GOOGL','MSFT','ORCL','FB','AAPL','TSLA'];\n",
    "    try:\n",
    "        for company in company_list:\n",
    "            print(\"Starting with \" + company)\n",
    "            get_value(company)\n",
    "            print(\"Ended Writing Data of \" + company)\n",
    "    except Exception as e:\n",
    "        print(e)\n",
    "\n",
    "main()"
   ]
  },
  {
   "cell_type": "code",
   "execution_count": null,
   "metadata": {},
   "outputs": [],
   "source": []
  }
 ],
 "metadata": {
  "kernelspec": {
   "display_name": "Python 3",
   "language": "python",
   "name": "python3"
  },
  "language_info": {
   "codemirror_mode": {
    "name": "ipython",
    "version": 3
   },
   "file_extension": ".py",
   "mimetype": "text/x-python",
   "name": "python",
   "nbconvert_exporter": "python",
   "pygments_lexer": "ipython3",
   "version": "3.8.3"
  }
 },
 "nbformat": 4,
 "nbformat_minor": 4
}
